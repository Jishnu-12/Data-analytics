{
 "cells": [
  {
   "cell_type": "markdown",
   "id": "249b93d5-2fd5-4c5f-90a8-0b7209f65d29",
   "metadata": {},
   "source": [
    "# Numpy array creation,Functions and Attributes"
   ]
  },
  {
   "cell_type": "code",
   "execution_count": null,
   "id": "a06206f5-3cfb-4b3c-afe8-e8f605ea2358",
   "metadata": {},
   "outputs": [],
   "source": [
    "import numpy as np\n",
    "import sys"
   ]
  },
  {
   "cell_type": "markdown",
   "id": "8581c6c2-6a2f-4759-96a7-c7f872b65b1d",
   "metadata": {},
   "source": [
    "## Functions"
   ]
  },
  {
   "cell_type": "markdown",
   "id": "71466452-1958-4d61-b0d4-7ef6fa5374a9",
   "metadata": {},
   "source": [
    "### array() "
   ]
  },
  {
   "cell_type": "code",
   "execution_count": null,
   "id": "0e6a1fe7-3bcc-449e-a999-bca83177007d",
   "metadata": {},
   "outputs": [],
   "source": [
    "tuple1 = (1,2,3,4,5)\n",
    "list1 = [2,1,34,5]\n",
    "arr1 = np.array(arr) # array() will create an array from a python list or tupple\n",
    "arr2 = np.array(list1)\n",
    "\n",
    "print(arr1)\n",
    "print(arr2)"
   ]
  },
  {
   "cell_type": "markdown",
   "id": "f0a5abeb-1656-419f-a601-2ce5bcd57d4f",
   "metadata": {},
   "source": [
    "- compairing memory usage of python list and numpy arrays"
   ]
  },
  {
   "cell_type": "code",
   "execution_count": null,
   "id": "b53e78fc-e413-4062-8b57-4877344f43bb",
   "metadata": {},
   "outputs": [],
   "source": [
    "list2 = [1,2,3,4,5,6,7]\n",
    "arr = np.array(list2)\n",
    "\n",
    "print(sys.getsizeof(list2))\n",
    "print(arr.nbytes)"
   ]
  },
  {
   "cell_type": "markdown",
   "id": "6b9eca16-83f3-4989-88fa-9033b9a8b526",
   "metadata": {},
   "source": [
    "### logspace()"
   ]
  },
  {
   "cell_type": "code",
   "execution_count": null,
   "id": "480c8ab8-a091-4a8f-b713-aff2d3a076f8",
   "metadata": {},
   "outputs": [],
   "source": [
    "arr = np.logspace(1,3,5,dtype = int) # will create a logrithmic scale array like evenly spaced power values\n",
    "                                     #and default number of points is 50  default base value is 10\n",
    "arr\n"
   ]
  },
  {
   "cell_type": "markdown",
   "id": "dc499097-4fdf-41d9-afc9-eb595794b46d",
   "metadata": {},
   "source": [
    "### zeors()"
   ]
  },
  {
   "cell_type": "code",
   "execution_count": null,
   "id": "275e5c45-394b-4d48-9eb4-a439b23a295f",
   "metadata": {},
   "outputs": [],
   "source": [
    "arr = np.zeros([4,4]) # will create an array full of zeros -> \n",
    "arr"
   ]
  },
  {
   "cell_type": "markdown",
   "id": "0c303899-b813-4eff-b9f0-a8777666a232",
   "metadata": {},
   "source": [
    "### linspace()"
   ]
  },
  {
   "cell_type": "code",
   "execution_count": null,
   "id": "1a25005b-c0f6-42ce-84a3-8d6f1ae6b8cf",
   "metadata": {},
   "outputs": [],
   "source": [
    "arr = np.linspace(20,30,6) # will create evenly spaced values on a specific intervel -> (start,stop,numberofvalues)\n",
    "arr"
   ]
  },
  {
   "cell_type": "markdown",
   "id": "4d5a0be0-7dcf-4b86-bf4e-2501ba9d01d8",
   "metadata": {},
   "source": [
    "### arange()"
   ]
  },
  {
   "cell_type": "code",
   "execution_count": null,
   "id": "af1abd64-1cc8-4aae-a298-f00f3b93ac28",
   "metadata": {},
   "outputs": [],
   "source": [
    "arr = np.arange(1,11) # will create an array of evenly spaced values uses step size ->(start,stop,step)\n",
    "                      # it will exclude the stop value the array stop before the stop value\n",
    "arr"
   ]
  },
  {
   "cell_type": "markdown",
   "id": "ce11cd45-202c-489f-960f-29c98e7533f8",
   "metadata": {},
   "source": [
    "### ones()"
   ]
  },
  {
   "cell_type": "code",
   "execution_count": null,
   "id": "a7aaa351-0673-4f00-9be5-f5489af517c0",
   "metadata": {},
   "outputs": [],
   "source": [
    "arr = np.ones([2,3],dtype=int) #will create an array full of ones\n",
    "arr"
   ]
  },
  {
   "cell_type": "markdown",
   "id": "69afbcf6-3b2b-4d70-8407-21820f741f76",
   "metadata": {},
   "source": [
    "### full()"
   ]
  },
  {
   "cell_type": "code",
   "execution_count": null,
   "id": "274ae7f6-4c41-4c05-8de9-e940ff776b4a",
   "metadata": {},
   "outputs": [],
   "source": [
    "arr = np.full([2,3],7) # will create an array of any values -> (number/diamension,value)\n",
    "arr"
   ]
  },
  {
   "cell_type": "markdown",
   "id": "ead3e19c-4516-4831-a59b-5afc434ae5c8",
   "metadata": {},
   "source": [
    "### random.rand()"
   ]
  },
  {
   "cell_type": "code",
   "execution_count": null,
   "id": "0050ff40-2381-4a86-aecd-31f3e7820dfa",
   "metadata": {},
   "outputs": [],
   "source": [
    "arr = np.random.rand(2) # will creat an array of random float values by default between 0 and 1 cannot change the\n",
    "                          # default value directly always generate floats cannot change data type\n",
    "arr"
   ]
  },
  {
   "cell_type": "markdown",
   "id": "251b7d91-a258-419a-a071-13c9c4107625",
   "metadata": {},
   "source": [
    "### random.randn()"
   ]
  },
  {
   "cell_type": "code",
   "execution_count": null,
   "id": "b4b396f5-3370-4a8e-929f-0b76a466d6f5",
   "metadata": {},
   "outputs": [],
   "source": [
    "arr = np.random.randn(2) # exactly like rand but values mostly arround 0 or close to 0 the numbers can be negative or positive\n",
    "arr"
   ]
  },
  {
   "cell_type": "markdown",
   "id": "29433a58-0647-46fb-a258-d8b3c024192a",
   "metadata": {},
   "source": [
    "### random.randint()"
   ]
  },
  {
   "cell_type": "code",
   "execution_count": null,
   "id": "4a906464-116a-4757-a920-51bc428220e6",
   "metadata": {},
   "outputs": [],
   "source": [
    "arr = np.random.randint(1,10,5) # it will generate random integers between the given start and stop -> \n",
    "                                # (start,stop,dimention/numberof values)\n",
    "arr"
   ]
  },
  {
   "cell_type": "markdown",
   "id": "ca5b7fcd-a1de-441f-9ffe-48930a09dbc3",
   "metadata": {},
   "source": [
    "### reshape()"
   ]
  },
  {
   "cell_type": "code",
   "execution_count": null,
   "id": "02c5699a-fe0f-4b8e-a514-8eeda844f0ea",
   "metadata": {},
   "outputs": [],
   "source": [
    "arr = np.arange(1,11).reshape(2,5) # reshape can change the dimention of an array\n",
    "\n",
    "arr"
   ]
  },
  {
   "cell_type": "markdown",
   "id": "97970eff-e510-470f-9795-9402773234d8",
   "metadata": {},
   "source": [
    "### concatenate(())"
   ]
  },
  {
   "cell_type": "code",
   "execution_count": null,
   "id": "e2dc9736-1636-495b-951a-6cfceb812dec",
   "metadata": {},
   "outputs": [],
   "source": [
    "arr1 = np.arange(1,11).reshape(2,5)\n",
    "arr2 = np.arange(11,21).reshape(2,5)\n",
    "\n",
    "arr3 = np.concatenate((arr1,arr2)) # can join 2 or more arrays to one array with in an existing axis\n",
    "\n",
    "arr3"
   ]
  },
  {
   "cell_type": "markdown",
   "id": "6618fded-13db-4d6b-86e6-041c098d7d6d",
   "metadata": {},
   "source": [
    "### stack(())"
   ]
  },
  {
   "cell_type": "code",
   "execution_count": null,
   "id": "8ad5bb8a-e41c-4ee2-8d0c-44d587969378",
   "metadata": {},
   "outputs": [],
   "source": [
    "arr1 = np.arange(1,13).reshape(2,2,3)\n",
    "arr2 = np.arange(13,25).reshape(2,2,3)\n",
    "\n",
    "arr3 = np.stack((arr1,arr2)) # it wil join 2 or more arrays but add a new axis(changes diamension)\n",
    "\n",
    "arr3"
   ]
  },
  {
   "cell_type": "code",
   "execution_count": null,
   "id": "4d4d6568-e02d-425f-a56c-c95950d0f4d6",
   "metadata": {},
   "outputs": [],
   "source": [
    "arr = np.random.randint(1,50,20)\n",
    "mask = arr %2!=0\n",
    "\n",
    "odd = arr[mask] # this is called masking used for filtering the boolean values \n",
    "even = arr[~mask]\n",
    "mask"
   ]
  },
  {
   "cell_type": "markdown",
   "id": "884176e5-77bf-48dc-8932-7cb10d543969",
   "metadata": {},
   "source": [
    "### resize()"
   ]
  },
  {
   "cell_type": "code",
   "execution_count": null,
   "id": "a5a90f94-b922-47c9-b209-1c655efde9f9",
   "metadata": {},
   "outputs": [],
   "source": [
    "arr = np.arange(1,20)\n",
    "\n",
    "arr.resize(6,6) # used to reshape an array if the size is large it fill fill automatically with default value 0\n",
    "\n",
    "arr"
   ]
  },
  {
   "cell_type": "markdown",
   "id": "bd039023-336a-46f8-a678-a8f5e644c7ad",
   "metadata": {},
   "source": [
    "### ravel()"
   ]
  },
  {
   "cell_type": "code",
   "execution_count": null,
   "id": "9c2c04e2-93f1-4b5f-a574-b151292d897f",
   "metadata": {},
   "outputs": [],
   "source": [
    "arr = np.zeros([2,2,3])\n",
    "convert = arr.ravel() # used to convert a multi diamensional array to 1d array if any changes applyied it will affect the og array\n",
    "convert[0] = 100\n",
    "\n",
    "print(convert)\n",
    "print(arr)\n"
   ]
  },
  {
   "cell_type": "markdown",
   "id": "82686fa9-5c8e-464e-b384-1c9e2d068bcc",
   "metadata": {},
   "source": [
    "### flatten()"
   ]
  },
  {
   "cell_type": "code",
   "execution_count": null,
   "id": "ecaced29-5bd0-4af5-a1d6-3ab1063821f2",
   "metadata": {},
   "outputs": [],
   "source": [
    "arr = np.array([[1,2,3,4],[1,2,3,4]])\n",
    "copy = arr.flatten() # used to convert a multidiamensional array to 1d array | always return a copy so og array didint affect by the changes\n",
    "\n",
    "copy[0] = 100\n",
    "print(arr)\n",
    "print(copy)"
   ]
  },
  {
   "cell_type": "markdown",
   "id": "f389376c-8afa-4b73-b396-ab83a9072199",
   "metadata": {},
   "source": [
    "### take()"
   ]
  },
  {
   "cell_type": "code",
   "execution_count": null,
   "id": "5e8e7eab-7742-4e9b-8c32-3fe90b541a14",
   "metadata": {},
   "outputs": [],
   "source": [
    "arr = np.array([[1,2,3,4],\n",
    "               [3,2,33,5]])\n",
    "ind = [1,2,5,6]\n",
    "t = np.take(arr,ind) # is a build in function to perform indexing and slicing\n",
    "\n",
    "t"
   ]
  },
  {
   "cell_type": "markdown",
   "id": "452e159d-6c9a-4fa6-836c-3345c685a4ce",
   "metadata": {},
   "source": [
    "### nditer() "
   ]
  },
  {
   "cell_type": "code",
   "execution_count": null,
   "id": "00491db2-aca3-4198-9d6c-25271ee6bf3c",
   "metadata": {},
   "outputs": [],
   "source": [
    "arr = np.array([[12,32,42,53,23],\n",
    "                [1,2,43,54,21]])\n",
    "\n",
    "for x in np.nditer(arr): # used for loop through an array items\n",
    "    print(x)"
   ]
  },
  {
   "cell_type": "markdown",
   "id": "eaeda0dc-e071-42f3-89be-ef7129d3ed26",
   "metadata": {},
   "source": [
    "### .view() .copy()"
   ]
  },
  {
   "cell_type": "code",
   "execution_count": null,
   "id": "50b5288b-14e7-4f8f-9abf-6ebb9482190d",
   "metadata": {},
   "outputs": [],
   "source": [
    "arr = np.array([1,2,3,4,5])\n",
    "\n",
    "arr1 = arr.view() # to perform shallow copy it will ponit the copy to original memmory if copy changes original also changes\n",
    "\n",
    "arr1[0]=100\n",
    "\n",
    "print(arr1)\n",
    "print(arr)\n",
    "\n"
   ]
  },
  {
   "cell_type": "code",
   "execution_count": null,
   "id": "cd7df962-076c-4257-a2a8-9d8229ee7329",
   "metadata": {},
   "outputs": [],
   "source": [
    "arr2 = arr.copy()\n",
    "# to perform deep copy returns a new independend array and it will not affect the original array\n",
    "arr2[0]=200\n",
    "arr2"
   ]
  },
  {
   "cell_type": "markdown",
   "id": "622d80d2-5186-4162-9c39-329acaa53ebb",
   "metadata": {},
   "source": [
    "### transpose()"
   ]
  },
  {
   "cell_type": "code",
   "execution_count": null,
   "id": "f2464a4a-01f3-48ed-9f98-e4fb6bb1641e",
   "metadata": {},
   "outputs": [],
   "source": [
    "arr = np.array([[1,2],\n",
    "                [3,4]])\n",
    "print(arr.transpose()) # used for swaping rows and columns"
   ]
  },
  {
   "cell_type": "markdown",
   "id": "5eb81d99-4483-4c51-97f5-adcfcc40eaea",
   "metadata": {},
   "source": [
    "### hstack() --- vstack()"
   ]
  },
  {
   "cell_type": "code",
   "execution_count": null,
   "id": "abe45b90-a658-4b4d-a7a1-ac17fdace8a0",
   "metadata": {},
   "outputs": [],
   "source": [
    "a = np.array([[1,2],[3,4]])\n",
    "b = np.array([[5,6],[7,8]])\n",
    "\n",
    "vstack = np.vstack((a,b)) # to join arrays in vertically\n",
    "hstack = np.hstack((a,b)) # to join array in horizontally\n",
    "\n",
    "vstack"
   ]
  },
  {
   "cell_type": "markdown",
   "id": "24a8287a-17f7-45ae-a613-b4e61cd40fcc",
   "metadata": {},
   "source": [
    "### repeat() --- tile()"
   ]
  },
  {
   "cell_type": "code",
   "execution_count": null,
   "id": "be1f4c38-5414-478d-a61b-db99c4d08e96",
   "metadata": {},
   "outputs": [],
   "source": [
    "arr = np.array([1,2,3,4,5])\n",
    "\n",
    "print(np.repeat(arr,3)) # will repeat elements only \n",
    "\n",
    "print(np.tile(arr,2)) # will repeat the entire array"
   ]
  },
  {
   "cell_type": "markdown",
   "id": "63c3c187-554f-4d26-ae06-ed94e083722b",
   "metadata": {},
   "source": [
    "## Type Casting and Atributes"
   ]
  },
  {
   "cell_type": "markdown",
   "id": "6e2afbc1-a5d1-4def-abbe-c3c2b92a47d8",
   "metadata": {},
   "source": [
    "### astype()"
   ]
  },
  {
   "cell_type": "code",
   "execution_count": null,
   "id": "090132ad-6c71-4905-be63-e895aa7a744f",
   "metadata": {},
   "outputs": [],
   "source": [
    "arr = np.arange(1,11).reshape(2,5)\n",
    "arr1 = arr.astype(str) # can change from a data type to another\n",
    "arr1"
   ]
  },
  {
   "cell_type": "code",
   "execution_count": null,
   "id": "416717ce-97f2-4256-ab39-f429c916e220",
   "metadata": {},
   "outputs": [],
   "source": [
    "arr = np.array([1,2,3,4],dtype = str) # in this way also we can type cast\n",
    "arr"
   ]
  },
  {
   "cell_type": "markdown",
   "id": "04adf30f-16a1-42e3-8e08-19e8f81b0b72",
   "metadata": {},
   "source": [
    "### dtype"
   ]
  },
  {
   "cell_type": "code",
   "execution_count": null,
   "id": "2f61e515-2d9c-4ca5-8415-e4ad5fe6ed5f",
   "metadata": {},
   "outputs": [],
   "source": [
    "arr = np.array([22,12,32,44])\n",
    "arr.dtype # to check data types of an array"
   ]
  },
  {
   "cell_type": "markdown",
   "id": "46dd0dad-fbce-482d-ad25-cca8a75d7fe3",
   "metadata": {},
   "source": [
    "### shape"
   ]
  },
  {
   "cell_type": "code",
   "execution_count": null,
   "id": "36569b6d-a542-49ec-9ce6-02b99811d5b4",
   "metadata": {},
   "outputs": [],
   "source": [
    "arr = np.arange(1,11).reshape(2,5)\n",
    "arr.shape # will check how many rows and columns are present in an array"
   ]
  },
  {
   "cell_type": "markdown",
   "id": "5c00077c-63a1-447a-bbf6-6d4859fc8dfa",
   "metadata": {},
   "source": [
    "### size"
   ]
  },
  {
   "cell_type": "code",
   "execution_count": null,
   "id": "bcfbe32e-a023-46db-9a0a-242794269b85",
   "metadata": {},
   "outputs": [],
   "source": [
    "arr = np.arange(1,11)\n",
    "arr.size # will check how many elemnts are present in an array"
   ]
  },
  {
   "cell_type": "markdown",
   "id": "aec1dc41-ba13-443d-bdbf-c1b9fa42077f",
   "metadata": {},
   "source": [
    "### ndim"
   ]
  },
  {
   "cell_type": "code",
   "execution_count": null,
   "id": "afb03132-d6db-4434-a129-c7efda905d84",
   "metadata": {},
   "outputs": [],
   "source": [
    "arr = np.zeros([2,2,3])\n",
    "arr.ndim # can check the array diamension"
   ]
  },
  {
   "cell_type": "markdown",
   "id": "a707e884-d9c6-4aa0-a9f1-dfb3bed765bb",
   "metadata": {},
   "source": [
    "### diag()"
   ]
  },
  {
   "cell_type": "code",
   "execution_count": null,
   "id": "9cd2e8bc-8d49-4116-ba3c-fb534f4c1f59",
   "metadata": {},
   "outputs": [],
   "source": [
    "arr = np.random.randint(1,50,[4,4])\n",
    "extract = np.diag(arr) # will extract diagonal values from matrix\n",
    "print(arr)\n",
    "print(extract)"
   ]
  },
  {
   "cell_type": "markdown",
   "id": "f3fb90eb-1553-4e19-82a2-5d57f65cae21",
   "metadata": {},
   "source": [
    "# questions"
   ]
  },
  {
   "cell_type": "code",
   "execution_count": 248,
   "id": "d2b8c1bd-0b8b-448b-b1a7-4342467095af",
   "metadata": {},
   "outputs": [
    {
     "data": {
      "text/plain": [
       "array([[ 1,  2,  3,  4],\n",
       "       [ 5,  6,  7,  8],\n",
       "       [ 9, 10, 11, 12]])"
      ]
     },
     "execution_count": 248,
     "metadata": {},
     "output_type": "execute_result"
    }
   ],
   "source": [
    "arr = np.arange(1,13).reshape(3,4)\n",
    "arr"
   ]
  },
  {
   "cell_type": "code",
   "execution_count": 241,
   "id": "1e5b9880-ec22-4872-b597-c31882efdd2c",
   "metadata": {},
   "outputs": [
    {
     "name": "stdout",
     "output_type": "stream",
     "text": [
      "[[ 0  1  2  3  4]\n",
      " [ 5  6  7  8  9]\n",
      " [10 11 12 13 14]\n",
      " [15 16 17 18 19]\n",
      " [20 21 22 23 24]\n",
      " [25 26 27 28 29]]\n"
     ]
    },
    {
     "data": {
      "text/plain": [
       "array([ 3,  8, 13, 18, 23, 28])"
      ]
     },
     "execution_count": 241,
     "metadata": {},
     "output_type": "execute_result"
    }
   ],
   "source": [
    "arr = np.arange(30).reshape(6,5)\n",
    "print(arr)\n",
    "n =arr[0:,3]\n",
    "n"
   ]
  },
  {
   "cell_type": "code",
   "execution_count": 250,
   "id": "8f8695bd-eff1-4437-882e-c01d564d726e",
   "metadata": {},
   "outputs": [
    {
     "name": "stdout",
     "output_type": "stream",
     "text": [
      "[[0 1 0 1 0 1 0 1]\n",
      " [1 0 1 0 1 0 1 0]\n",
      " [0 1 0 1 0 1 0 1]\n",
      " [1 0 1 0 1 0 1 0]\n",
      " [0 1 0 1 0 1 0 1]\n",
      " [1 0 1 0 1 0 1 0]\n",
      " [0 1 0 1 0 1 0 1]\n",
      " [1 0 1 0 1 0 1 0]]\n"
     ]
    }
   ],
   "source": [
    "arr = np.zeros([8,8],dtype = int)\n",
    "arr[1::2,::2]=1\n",
    "arr[::2,1::2] =1\n",
    "\n",
    "print(arr)"
   ]
  },
  {
   "cell_type": "code",
   "execution_count": 252,
   "id": "5fd9d696-4cb0-44c4-a844-d6f6aba9cb91",
   "metadata": {},
   "outputs": [
    {
     "data": {
      "text/plain": [
       "[array([1, 2, 3, 4, 5]),\n",
       " array([ 6,  7,  8,  9, 10]),\n",
       " array([11, 12, 13, 14, 15]),\n",
       " array([16, 17, 18, 19, 20])]"
      ]
     },
     "execution_count": 252,
     "metadata": {},
     "output_type": "execute_result"
    }
   ],
   "source": [
    "arr = np.arange(1,21)\n",
    "c =np.split(arr,4)\n",
    "c"
   ]
  },
  {
   "cell_type": "code",
   "execution_count": 254,
   "id": "14bddfe6-05d9-4817-9dd2-19918cf0885f",
   "metadata": {},
   "outputs": [
    {
     "data": {
      "text/plain": [
       "array([[1., 1., 1., 1., 1., 1., 1., 1., 1., 1.],\n",
       "       [1., 0., 0., 0., 0., 0., 0., 0., 0., 1.],\n",
       "       [1., 0., 0., 0., 0., 0., 0., 0., 0., 1.],\n",
       "       [1., 0., 0., 0., 0., 0., 0., 0., 0., 1.],\n",
       "       [1., 0., 0., 0., 0., 0., 0., 0., 0., 1.],\n",
       "       [1., 0., 0., 0., 0., 0., 0., 0., 0., 1.],\n",
       "       [1., 0., 0., 0., 0., 0., 0., 0., 0., 1.],\n",
       "       [1., 0., 0., 0., 0., 0., 0., 0., 0., 1.],\n",
       "       [1., 0., 0., 0., 0., 0., 0., 0., 0., 1.],\n",
       "       [1., 1., 1., 1., 1., 1., 1., 1., 1., 1.]])"
      ]
     },
     "execution_count": 254,
     "metadata": {},
     "output_type": "execute_result"
    }
   ],
   "source": [
    "arr = np.ones([10,10])\n",
    "arr[1:-1,1:-1]=0\n",
    "arr"
   ]
  },
  {
   "cell_type": "code",
   "execution_count": 260,
   "id": "e015d407-681f-46fe-8d06-4d8280fc76db",
   "metadata": {},
   "outputs": [
    {
     "data": {
      "text/plain": [
       "array([9, 7, 6, 5, 4, 3, 2, 1, 1])"
      ]
     },
     "execution_count": 260,
     "metadata": {},
     "output_type": "execute_result"
    }
   ],
   "source": [
    "arr = np.random.randint(1,10,9).reshape(3,3)\n",
    "arr1 = arr.flatten()\n",
    "sort = np.sort(arr1)[::-1]\n",
    "\n",
    "sort"
   ]
  },
  {
   "cell_type": "code",
   "execution_count": 264,
   "id": "7997e040-9268-4f0e-8592-a71bc42d562c",
   "metadata": {},
   "outputs": [
    {
     "data": {
      "text/plain": [
       "array([[ 1,  2,  3,  8,  9, 10],\n",
       "       [ 4,  5,  6, 11, 12, 13]])"
      ]
     },
     "execution_count": 264,
     "metadata": {},
     "output_type": "execute_result"
    }
   ],
   "source": [
    "arr = np.arange(1,7).reshape(2,3)\n",
    "arr1 = np.arange(8,14).reshape(2,3)\n",
    "\n",
    "stack = np.hstack((arr,arr1))\n",
    "stack"
   ]
  },
  {
   "cell_type": "code",
   "execution_count": 271,
   "id": "c158ac17-2bbe-4962-ab80-277089d0f002",
   "metadata": {},
   "outputs": [
    {
     "name": "stdout",
     "output_type": "stream",
     "text": [
      "5.5\n"
     ]
    }
   ],
   "source": [
    "arr = np.arange(1,11)\n",
    "\n",
    "s = arr.sum()\n",
    "m = arr.mean()\n",
    "sd = arr.std()\n",
    "md = np.median(arr)\n",
    "print(m)"
   ]
  },
  {
   "cell_type": "code",
   "execution_count": null,
   "id": "f7330389-bea7-4f27-86af-c1cf8e60fde8",
   "metadata": {},
   "outputs": [],
   "source": []
  }
 ],
 "metadata": {
  "kernelspec": {
   "display_name": "Python 3 (ipykernel)",
   "language": "python",
   "name": "python3"
  },
  "language_info": {
   "codemirror_mode": {
    "name": "ipython",
    "version": 3
   },
   "file_extension": ".py",
   "mimetype": "text/x-python",
   "name": "python",
   "nbconvert_exporter": "python",
   "pygments_lexer": "ipython3",
   "version": "3.13.5"
  }
 },
 "nbformat": 4,
 "nbformat_minor": 5
}
