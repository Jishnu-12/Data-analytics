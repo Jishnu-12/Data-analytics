{
 "cells": [
  {
   "cell_type": "markdown",
   "id": "249b93d5-2fd5-4c5f-90a8-0b7209f65d29",
   "metadata": {},
   "source": [
    "## Numpy array creation,Functions and Attributes"
   ]
  },
  {
   "cell_type": "code",
   "execution_count": null,
   "id": "a06206f5-3cfb-4b3c-afe8-e8f605ea2358",
   "metadata": {},
   "outputs": [],
   "source": [
    "import numpy as np\n",
    "import sys"
   ]
  },
  {
   "cell_type": "markdown",
   "id": "8581c6c2-6a2f-4759-96a7-c7f872b65b1d",
   "metadata": {},
   "source": [
    "## Functions"
   ]
  },
  {
   "cell_type": "markdown",
   "id": "71466452-1958-4d61-b0d4-7ef6fa5374a9",
   "metadata": {},
   "source": [
    "### array() "
   ]
  },
  {
   "cell_type": "code",
   "execution_count": null,
   "id": "0e6a1fe7-3bcc-449e-a999-bca83177007d",
   "metadata": {},
   "outputs": [],
   "source": [
    "tuple1 = (1,2,3,4,5)\n",
    "list1 = [2,1,34,5]\n",
    "arr1 = np.array(arr) # array() will create an array from a python list or tupple\n",
    "arr2 = np.array(list1)\n",
    "\n",
    "print(arr1)\n",
    "print(arr2)"
   ]
  },
  {
   "cell_type": "markdown",
   "id": "f0a5abeb-1656-419f-a601-2ce5bcd57d4f",
   "metadata": {},
   "source": [
    "- compairing memory usage of python list and numpy arrays"
   ]
  },
  {
   "cell_type": "code",
   "execution_count": null,
   "id": "b53e78fc-e413-4062-8b57-4877344f43bb",
   "metadata": {},
   "outputs": [],
   "source": [
    "list2 = [1,2,3,4,5,6,7]\n",
    "arr = np.array(list2)\n",
    "\n",
    "print(sys.getsizeof(list2))\n",
    "print(arr.nbytes)"
   ]
  },
  {
   "cell_type": "markdown",
   "id": "6b9eca16-83f3-4989-88fa-9033b9a8b526",
   "metadata": {},
   "source": [
    "### logspace()"
   ]
  },
  {
   "cell_type": "code",
   "execution_count": null,
   "id": "480c8ab8-a091-4a8f-b713-aff2d3a076f8",
   "metadata": {},
   "outputs": [],
   "source": [
    "arr = np.logspace(1,3,5,dtype = int) # will create a logrithmic scale array like evenly spaced power values\n",
    "                                     #and default number of points is 50  default base value is 10\n",
    "arr\n"
   ]
  },
  {
   "cell_type": "markdown",
   "id": "dc499097-4fdf-41d9-afc9-eb595794b46d",
   "metadata": {},
   "source": [
    "### zeors()"
   ]
  },
  {
   "cell_type": "code",
   "execution_count": null,
   "id": "275e5c45-394b-4d48-9eb4-a439b23a295f",
   "metadata": {},
   "outputs": [],
   "source": [
    "arr = np.zeros([4,4]) # will create an array full of zeros -> \n",
    "arr"
   ]
  },
  {
   "cell_type": "markdown",
   "id": "0c303899-b813-4eff-b9f0-a8777666a232",
   "metadata": {},
   "source": [
    "### linspace()"
   ]
  },
  {
   "cell_type": "code",
   "execution_count": null,
   "id": "1a25005b-c0f6-42ce-84a3-8d6f1ae6b8cf",
   "metadata": {},
   "outputs": [],
   "source": [
    "arr = np.linspace(20,30,6) # will create evenly spaced values on a specific intervel -> (start,stop,numberofvalues)\n",
    "arr"
   ]
  },
  {
   "cell_type": "markdown",
   "id": "4d5a0be0-7dcf-4b86-bf4e-2501ba9d01d8",
   "metadata": {},
   "source": [
    "### arange()"
   ]
  },
  {
   "cell_type": "code",
   "execution_count": null,
   "id": "af1abd64-1cc8-4aae-a298-f00f3b93ac28",
   "metadata": {},
   "outputs": [],
   "source": [
    "arr = np.arange(1,11) # will create an array of evenly spaced values uses step size ->(start,stop,step)\n",
    "                      # it will exclude the stop value the array stop before the stop value\n",
    "arr"
   ]
  },
  {
   "cell_type": "markdown",
   "id": "ce11cd45-202c-489f-960f-29c98e7533f8",
   "metadata": {},
   "source": [
    "### ones()"
   ]
  },
  {
   "cell_type": "code",
   "execution_count": null,
   "id": "a7aaa351-0673-4f00-9be5-f5489af517c0",
   "metadata": {},
   "outputs": [],
   "source": [
    "arr = np.ones([2,3],dtype=int) #will create an array full of ones\n",
    "arr"
   ]
  },
  {
   "cell_type": "markdown",
   "id": "69afbcf6-3b2b-4d70-8407-21820f741f76",
   "metadata": {},
   "source": [
    "### full()"
   ]
  },
  {
   "cell_type": "code",
   "execution_count": null,
   "id": "274ae7f6-4c41-4c05-8de9-e940ff776b4a",
   "metadata": {},
   "outputs": [],
   "source": [
    "arr = np.full([2,3],7) # will create an array of any values -> (number/diamension,value)\n",
    "arr"
   ]
  },
  {
   "cell_type": "markdown",
   "id": "ead3e19c-4516-4831-a59b-5afc434ae5c8",
   "metadata": {},
   "source": [
    "### random.rand()"
   ]
  },
  {
   "cell_type": "code",
   "execution_count": null,
   "id": "0050ff40-2381-4a86-aecd-31f3e7820dfa",
   "metadata": {},
   "outputs": [],
   "source": [
    "arr = np.random.rand(2) # will creat an array of random float values by default between 0 and 1 cannot change the\n",
    "                          # default value directly always generate floats cannot change data type\n",
    "arr"
   ]
  },
  {
   "cell_type": "markdown",
   "id": "251b7d91-a258-419a-a071-13c9c4107625",
   "metadata": {},
   "source": [
    "### random.randn()"
   ]
  },
  {
   "cell_type": "code",
   "execution_count": null,
   "id": "b4b396f5-3370-4a8e-929f-0b76a466d6f5",
   "metadata": {},
   "outputs": [],
   "source": [
    "arr = np.random.randn(2) # exactly like rand but values mostly arround 0 or close to 0 the numbers can be negative or positive\n",
    "arr"
   ]
  },
  {
   "cell_type": "markdown",
   "id": "29433a58-0647-46fb-a258-d8b3c024192a",
   "metadata": {},
   "source": [
    "### random.randint()"
   ]
  },
  {
   "cell_type": "code",
   "execution_count": null,
   "id": "4a906464-116a-4757-a920-51bc428220e6",
   "metadata": {},
   "outputs": [],
   "source": [
    "arr = np.random.randint(1,10,5) # it will generate random integers between the given start and stop -> \n",
    "                                # (start,stop,dimention/numberof values)\n",
    "arr"
   ]
  }
 ],
 "metadata": {
  "kernelspec": {
   "display_name": "Python 3 (ipykernel)",
   "language": "python",
   "name": "python3"
  },
  "language_info": {
   "codemirror_mode": {
    "name": "ipython",
    "version": 3
   },
   "file_extension": ".py",
   "mimetype": "text/x-python",
   "name": "python",
   "nbconvert_exporter": "python",
   "pygments_lexer": "ipython3",
   "version": "3.13.5"
  }
 },
 "nbformat": 4,
 "nbformat_minor": 5
}
