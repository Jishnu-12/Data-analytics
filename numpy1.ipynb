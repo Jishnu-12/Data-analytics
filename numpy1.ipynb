{
 "cells": [
  {
   "cell_type": "markdown",
   "id": "249b93d5-2fd5-4c5f-90a8-0b7209f65d29",
   "metadata": {},
   "source": [
    "# Numpy array creation,Functions and Attributes"
   ]
  },
  {
   "cell_type": "code",
   "execution_count": 20,
   "id": "a06206f5-3cfb-4b3c-afe8-e8f605ea2358",
   "metadata": {},
   "outputs": [],
   "source": [
    "import numpy as np\n",
    "import sys"
   ]
  },
  {
   "cell_type": "markdown",
   "id": "8581c6c2-6a2f-4759-96a7-c7f872b65b1d",
   "metadata": {},
   "source": [
    "## Functions"
   ]
  },
  {
   "cell_type": "markdown",
   "id": "71466452-1958-4d61-b0d4-7ef6fa5374a9",
   "metadata": {},
   "source": [
    "### array() "
   ]
  },
  {
   "cell_type": "code",
   "execution_count": 21,
   "id": "0e6a1fe7-3bcc-449e-a999-bca83177007d",
   "metadata": {},
   "outputs": [
    {
     "name": "stdout",
     "output_type": "stream",
     "text": [
      "[[1 2 3]\n",
      " [4 5 6]]\n",
      "[ 2  1 34  5]\n"
     ]
    }
   ],
   "source": [
    "tuple1 = (1,2,3,4,5)\n",
    "list1 = [2,1,34,5]\n",
    "arr1 = np.array(arr) # array() will create an array from a python list or tupple\n",
    "arr2 = np.array(list1)\n",
    "\n",
    "print(arr1)\n",
    "print(arr2)"
   ]
  },
  {
   "cell_type": "markdown",
   "id": "f0a5abeb-1656-419f-a601-2ce5bcd57d4f",
   "metadata": {},
   "source": [
    "- compairing memory usage of python list and numpy arrays"
   ]
  },
  {
   "cell_type": "code",
   "execution_count": 22,
   "id": "b53e78fc-e413-4062-8b57-4877344f43bb",
   "metadata": {},
   "outputs": [
    {
     "name": "stdout",
     "output_type": "stream",
     "text": [
      "120\n",
      "56\n"
     ]
    }
   ],
   "source": [
    "list2 = [1,2,3,4,5,6,7]\n",
    "arr = np.array(list2)\n",
    "\n",
    "print(sys.getsizeof(list2))\n",
    "print(arr.nbytes)"
   ]
  },
  {
   "cell_type": "markdown",
   "id": "6b9eca16-83f3-4989-88fa-9033b9a8b526",
   "metadata": {},
   "source": [
    "### logspace()"
   ]
  },
  {
   "cell_type": "code",
   "execution_count": 23,
   "id": "480c8ab8-a091-4a8f-b713-aff2d3a076f8",
   "metadata": {},
   "outputs": [
    {
     "data": {
      "text/plain": [
       "array([  10,   31,  100,  316, 1000])"
      ]
     },
     "execution_count": 23,
     "metadata": {},
     "output_type": "execute_result"
    }
   ],
   "source": [
    "arr = np.logspace(1,3,5,dtype = int) # will create a logrithmic scale array like evenly spaced power values\n",
    "                                     #and default number of points is 50  default base value is 10\n",
    "arr\n"
   ]
  },
  {
   "cell_type": "markdown",
   "id": "dc499097-4fdf-41d9-afc9-eb595794b46d",
   "metadata": {},
   "source": [
    "### zeors()"
   ]
  },
  {
   "cell_type": "code",
   "execution_count": 24,
   "id": "275e5c45-394b-4d48-9eb4-a439b23a295f",
   "metadata": {},
   "outputs": [
    {
     "data": {
      "text/plain": [
       "array([[0., 0., 0., 0.],\n",
       "       [0., 0., 0., 0.],\n",
       "       [0., 0., 0., 0.],\n",
       "       [0., 0., 0., 0.]])"
      ]
     },
     "execution_count": 24,
     "metadata": {},
     "output_type": "execute_result"
    }
   ],
   "source": [
    "arr = np.zeros([4,4]) # will create an array full of zeros -> \n",
    "arr"
   ]
  },
  {
   "cell_type": "markdown",
   "id": "0c303899-b813-4eff-b9f0-a8777666a232",
   "metadata": {},
   "source": [
    "### linspace()"
   ]
  },
  {
   "cell_type": "code",
   "execution_count": 25,
   "id": "1a25005b-c0f6-42ce-84a3-8d6f1ae6b8cf",
   "metadata": {},
   "outputs": [
    {
     "data": {
      "text/plain": [
       "array([20., 22., 24., 26., 28., 30.])"
      ]
     },
     "execution_count": 25,
     "metadata": {},
     "output_type": "execute_result"
    }
   ],
   "source": [
    "arr = np.linspace(20,30,6) # will create evenly spaced values on a specific intervel -> (start,stop,numberofvalues)\n",
    "arr"
   ]
  },
  {
   "cell_type": "markdown",
   "id": "4d5a0be0-7dcf-4b86-bf4e-2501ba9d01d8",
   "metadata": {},
   "source": [
    "### arange()"
   ]
  },
  {
   "cell_type": "code",
   "execution_count": 26,
   "id": "af1abd64-1cc8-4aae-a298-f00f3b93ac28",
   "metadata": {},
   "outputs": [
    {
     "data": {
      "text/plain": [
       "array([ 1,  2,  3,  4,  5,  6,  7,  8,  9, 10])"
      ]
     },
     "execution_count": 26,
     "metadata": {},
     "output_type": "execute_result"
    }
   ],
   "source": [
    "arr = np.arange(1,11) # will create an array of evenly spaced values uses step size ->(start,stop,step)\n",
    "                      # it will exclude the stop value the array stop before the stop value\n",
    "arr"
   ]
  },
  {
   "cell_type": "markdown",
   "id": "ce11cd45-202c-489f-960f-29c98e7533f8",
   "metadata": {},
   "source": [
    "### ones()"
   ]
  },
  {
   "cell_type": "code",
   "execution_count": 27,
   "id": "a7aaa351-0673-4f00-9be5-f5489af517c0",
   "metadata": {},
   "outputs": [
    {
     "data": {
      "text/plain": [
       "array([[1, 1, 1],\n",
       "       [1, 1, 1]])"
      ]
     },
     "execution_count": 27,
     "metadata": {},
     "output_type": "execute_result"
    }
   ],
   "source": [
    "arr = np.ones([2,3],dtype=int) #will create an array full of ones\n",
    "arr"
   ]
  },
  {
   "cell_type": "markdown",
   "id": "69afbcf6-3b2b-4d70-8407-21820f741f76",
   "metadata": {},
   "source": [
    "### full()"
   ]
  },
  {
   "cell_type": "code",
   "execution_count": 28,
   "id": "274ae7f6-4c41-4c05-8de9-e940ff776b4a",
   "metadata": {},
   "outputs": [
    {
     "data": {
      "text/plain": [
       "array([[7, 7, 7],\n",
       "       [7, 7, 7]])"
      ]
     },
     "execution_count": 28,
     "metadata": {},
     "output_type": "execute_result"
    }
   ],
   "source": [
    "arr = np.full([2,3],7) # will create an array of any values -> (number/diamension,value)\n",
    "arr"
   ]
  },
  {
   "cell_type": "markdown",
   "id": "ead3e19c-4516-4831-a59b-5afc434ae5c8",
   "metadata": {},
   "source": [
    "### random.rand()"
   ]
  },
  {
   "cell_type": "code",
   "execution_count": 29,
   "id": "0050ff40-2381-4a86-aecd-31f3e7820dfa",
   "metadata": {},
   "outputs": [
    {
     "data": {
      "text/plain": [
       "array([0.96734277, 0.52128112])"
      ]
     },
     "execution_count": 29,
     "metadata": {},
     "output_type": "execute_result"
    }
   ],
   "source": [
    "arr = np.random.rand(2) # will creat an array of random float values by default between 0 and 1 cannot change the\n",
    "                          # default value directly always generate floats cannot change data type\n",
    "arr"
   ]
  },
  {
   "cell_type": "markdown",
   "id": "251b7d91-a258-419a-a071-13c9c4107625",
   "metadata": {},
   "source": [
    "### random.randn()"
   ]
  },
  {
   "cell_type": "code",
   "execution_count": 30,
   "id": "b4b396f5-3370-4a8e-929f-0b76a466d6f5",
   "metadata": {},
   "outputs": [
    {
     "data": {
      "text/plain": [
       "array([-0.72378158,  0.56092037])"
      ]
     },
     "execution_count": 30,
     "metadata": {},
     "output_type": "execute_result"
    }
   ],
   "source": [
    "arr = np.random.randn(2) # exactly like rand but values mostly arround 0 or close to 0 the numbers can be negative or positive\n",
    "arr"
   ]
  },
  {
   "cell_type": "markdown",
   "id": "29433a58-0647-46fb-a258-d8b3c024192a",
   "metadata": {},
   "source": [
    "### random.randint()"
   ]
  },
  {
   "cell_type": "code",
   "execution_count": 31,
   "id": "4a906464-116a-4757-a920-51bc428220e6",
   "metadata": {},
   "outputs": [
    {
     "data": {
      "text/plain": [
       "array([4, 9, 5, 9, 5])"
      ]
     },
     "execution_count": 31,
     "metadata": {},
     "output_type": "execute_result"
    }
   ],
   "source": [
    "arr = np.random.randint(1,10,5) # it will generate random integers between the given start and stop -> \n",
    "                                # (start,stop,dimention/numberof values)\n",
    "arr"
   ]
  },
  {
   "cell_type": "markdown",
   "id": "ca5b7fcd-a1de-441f-9ffe-48930a09dbc3",
   "metadata": {},
   "source": [
    "### reshape()"
   ]
  },
  {
   "cell_type": "code",
   "execution_count": 32,
   "id": "02c5699a-fe0f-4b8e-a514-8eeda844f0ea",
   "metadata": {},
   "outputs": [
    {
     "data": {
      "text/plain": [
       "array([[ 1,  2,  3,  4,  5],\n",
       "       [ 6,  7,  8,  9, 10]])"
      ]
     },
     "execution_count": 32,
     "metadata": {},
     "output_type": "execute_result"
    }
   ],
   "source": [
    "arr = np.arange(1,11).reshape(2,5) # reshape can change the dimention of an array\n",
    "\n",
    "arr"
   ]
  },
  {
   "cell_type": "markdown",
   "id": "97970eff-e510-470f-9795-9402773234d8",
   "metadata": {},
   "source": [
    "### concatenate(())"
   ]
  },
  {
   "cell_type": "code",
   "execution_count": 33,
   "id": "e2dc9736-1636-495b-951a-6cfceb812dec",
   "metadata": {},
   "outputs": [
    {
     "data": {
      "text/plain": [
       "array([[ 1,  2,  3,  4,  5],\n",
       "       [ 6,  7,  8,  9, 10],\n",
       "       [11, 12, 13, 14, 15],\n",
       "       [16, 17, 18, 19, 20]])"
      ]
     },
     "execution_count": 33,
     "metadata": {},
     "output_type": "execute_result"
    }
   ],
   "source": [
    "arr1 = np.arange(1,11).reshape(2,5)\n",
    "arr2 = np.arange(11,21).reshape(2,5)\n",
    "\n",
    "arr3 = np.concatenate((arr1,arr2)) # can join 2 or more arrays to one array with in an existing axis\n",
    "\n",
    "arr3"
   ]
  },
  {
   "cell_type": "markdown",
   "id": "6618fded-13db-4d6b-86e6-041c098d7d6d",
   "metadata": {},
   "source": [
    "### stack(())"
   ]
  },
  {
   "cell_type": "code",
   "execution_count": 34,
   "id": "8ad5bb8a-e41c-4ee2-8d0c-44d587969378",
   "metadata": {},
   "outputs": [
    {
     "data": {
      "text/plain": [
       "array([[[[ 1,  2,  3],\n",
       "         [ 4,  5,  6]],\n",
       "\n",
       "        [[ 7,  8,  9],\n",
       "         [10, 11, 12]]],\n",
       "\n",
       "\n",
       "       [[[13, 14, 15],\n",
       "         [16, 17, 18]],\n",
       "\n",
       "        [[19, 20, 21],\n",
       "         [22, 23, 24]]]])"
      ]
     },
     "execution_count": 34,
     "metadata": {},
     "output_type": "execute_result"
    }
   ],
   "source": [
    "arr1 = np.arange(1,13).reshape(2,2,3)\n",
    "arr2 = np.arange(13,25).reshape(2,2,3)\n",
    "\n",
    "arr3 = np.stack((arr1,arr2)) # it wil join 2 or more arrays but add a new axis(changes diamension)\n",
    "\n",
    "arr3"
   ]
  },
  {
   "cell_type": "code",
   "execution_count": 35,
   "id": "4d4d6568-e02d-425f-a56c-c95950d0f4d6",
   "metadata": {},
   "outputs": [
    {
     "data": {
      "text/plain": [
       "array([ True,  True, False, False,  True, False, False, False, False,\n",
       "        True,  True, False,  True, False, False, False, False,  True,\n",
       "       False,  True])"
      ]
     },
     "execution_count": 35,
     "metadata": {},
     "output_type": "execute_result"
    }
   ],
   "source": [
    "arr = np.random.randint(1,50,20)\n",
    "mask = arr %2!=0\n",
    "\n",
    "odd = arr[mask] # this is called masking used for filtering the boolean values \n",
    "even = arr[~mask]\n",
    "mask"
   ]
  },
  {
   "cell_type": "markdown",
   "id": "884176e5-77bf-48dc-8932-7cb10d543969",
   "metadata": {},
   "source": [
    "### resize()"
   ]
  },
  {
   "cell_type": "code",
   "execution_count": 36,
   "id": "a5a90f94-b922-47c9-b209-1c655efde9f9",
   "metadata": {},
   "outputs": [
    {
     "data": {
      "text/plain": [
       "array([[ 1,  2,  3,  4,  5,  6],\n",
       "       [ 7,  8,  9, 10, 11, 12],\n",
       "       [13, 14, 15, 16, 17, 18],\n",
       "       [19,  0,  0,  0,  0,  0],\n",
       "       [ 0,  0,  0,  0,  0,  0],\n",
       "       [ 0,  0,  0,  0,  0,  0]])"
      ]
     },
     "execution_count": 36,
     "metadata": {},
     "output_type": "execute_result"
    }
   ],
   "source": [
    "arr = np.arange(1,20)\n",
    "\n",
    "arr.resize(6,6) # used to reshape an array if the size is large it fill fill automatically with default value 0\n",
    "\n",
    "arr"
   ]
  },
  {
   "cell_type": "markdown",
   "id": "bd039023-336a-46f8-a678-a8f5e644c7ad",
   "metadata": {},
   "source": [
    "### ravel()"
   ]
  },
  {
   "cell_type": "code",
   "execution_count": 37,
   "id": "9c2c04e2-93f1-4b5f-a574-b151292d897f",
   "metadata": {},
   "outputs": [
    {
     "name": "stdout",
     "output_type": "stream",
     "text": [
      "[100.   0.   0.   0.   0.   0.   0.   0.   0.   0.   0.   0.]\n",
      "[[[100.   0.   0.]\n",
      "  [  0.   0.   0.]]\n",
      "\n",
      " [[  0.   0.   0.]\n",
      "  [  0.   0.   0.]]]\n"
     ]
    }
   ],
   "source": [
    "arr = np.zeros([2,2,3])\n",
    "convert = arr.ravel() # used to convert a multi diamensional array to 1d array if any changes applyied it will affect the og array\n",
    "convert[0] = 100\n",
    "\n",
    "print(convert)\n",
    "print(arr)\n"
   ]
  },
  {
   "cell_type": "markdown",
   "id": "82686fa9-5c8e-464e-b384-1c9e2d068bcc",
   "metadata": {},
   "source": [
    "### flatten()"
   ]
  },
  {
   "cell_type": "code",
   "execution_count": 38,
   "id": "ecaced29-5bd0-4af5-a1d6-3ab1063821f2",
   "metadata": {},
   "outputs": [
    {
     "name": "stdout",
     "output_type": "stream",
     "text": [
      "[[1 2 3 4]\n",
      " [1 2 3 4]]\n",
      "[100   2   3   4   1   2   3   4]\n"
     ]
    }
   ],
   "source": [
    "arr = np.array([[1,2,3,4],[1,2,3,4]])\n",
    "copy = arr.flatten() # used to convert a multidiamensional array to 1d array | always return a copy so og array didint affect by the changes\n",
    "\n",
    "copy[0] = 100\n",
    "print(arr)\n",
    "print(copy)"
   ]
  },
  {
   "cell_type": "markdown",
   "id": "f389376c-8afa-4b73-b396-ab83a9072199",
   "metadata": {},
   "source": [
    "### take()"
   ]
  },
  {
   "cell_type": "code",
   "execution_count": 39,
   "id": "5e8e7eab-7742-4e9b-8c32-3fe90b541a14",
   "metadata": {},
   "outputs": [
    {
     "data": {
      "text/plain": [
       "array([ 2,  3,  2, 33])"
      ]
     },
     "execution_count": 39,
     "metadata": {},
     "output_type": "execute_result"
    }
   ],
   "source": [
    "arr = np.array([[1,2,3,4],\n",
    "               [3,2,33,5]])\n",
    "ind = [1,2,5,6]\n",
    "t = np.take(arr,ind) # is a build in function to perform indexing and slicing\n",
    "\n",
    "t"
   ]
  },
  {
   "cell_type": "markdown",
   "id": "452e159d-6c9a-4fa6-836c-3345c685a4ce",
   "metadata": {},
   "source": [
    "### nditer() "
   ]
  },
  {
   "cell_type": "code",
   "execution_count": 40,
   "id": "00491db2-aca3-4198-9d6c-25271ee6bf3c",
   "metadata": {},
   "outputs": [
    {
     "name": "stdout",
     "output_type": "stream",
     "text": [
      "12\n",
      "32\n",
      "42\n",
      "53\n",
      "23\n",
      "1\n",
      "2\n",
      "43\n",
      "54\n",
      "21\n"
     ]
    }
   ],
   "source": [
    "arr = np.array([[12,32,42,53,23],\n",
    "                [1,2,43,54,21]])\n",
    "\n",
    "for x in np.nditer(arr): # used for loop through an array items\n",
    "    print(x)"
   ]
  },
  {
   "cell_type": "markdown",
   "id": "eaeda0dc-e071-42f3-89be-ef7129d3ed26",
   "metadata": {},
   "source": [
    "### .view() .copy()"
   ]
  },
  {
   "cell_type": "code",
   "execution_count": 41,
   "id": "50b5288b-14e7-4f8f-9abf-6ebb9482190d",
   "metadata": {},
   "outputs": [
    {
     "name": "stdout",
     "output_type": "stream",
     "text": [
      "[100   2   3   4   5]\n",
      "[100   2   3   4   5]\n"
     ]
    }
   ],
   "source": [
    "arr = np.array([1,2,3,4,5])\n",
    "\n",
    "arr1 = arr.view() # to perform shallow copy it will ponit the copy to original memmory if copy changes original also changes\n",
    "\n",
    "arr1[0]=100\n",
    "\n",
    "print(arr1)\n",
    "print(arr)\n",
    "\n"
   ]
  },
  {
   "cell_type": "code",
   "execution_count": 42,
   "id": "cd7df962-076c-4257-a2a8-9d8229ee7329",
   "metadata": {},
   "outputs": [
    {
     "data": {
      "text/plain": [
       "array([200,   2,   3,   4,   5])"
      ]
     },
     "execution_count": 42,
     "metadata": {},
     "output_type": "execute_result"
    }
   ],
   "source": [
    "arr2 = arr.copy()\n",
    "# to perform deep copy returns a new independend array and it will not affect the original array\n",
    "arr2[0]=200\n",
    "arr2"
   ]
  },
  {
   "cell_type": "markdown",
   "id": "622d80d2-5186-4162-9c39-329acaa53ebb",
   "metadata": {},
   "source": [
    "### transpose()"
   ]
  },
  {
   "cell_type": "code",
   "execution_count": 43,
   "id": "f2464a4a-01f3-48ed-9f98-e4fb6bb1641e",
   "metadata": {},
   "outputs": [
    {
     "name": "stdout",
     "output_type": "stream",
     "text": [
      "[[1 3]\n",
      " [2 4]]\n"
     ]
    }
   ],
   "source": [
    "arr = np.array([[1,2],\n",
    "                [3,4]])\n",
    "print(arr.transpose()) # used for swaping rows and columns"
   ]
  },
  {
   "cell_type": "markdown",
   "id": "5eb81d99-4483-4c51-97f5-adcfcc40eaea",
   "metadata": {},
   "source": [
    "### hstack() --- vstack()"
   ]
  },
  {
   "cell_type": "code",
   "execution_count": 44,
   "id": "abe45b90-a658-4b4d-a7a1-ac17fdace8a0",
   "metadata": {},
   "outputs": [
    {
     "data": {
      "text/plain": [
       "array([[1, 2],\n",
       "       [3, 4],\n",
       "       [5, 6],\n",
       "       [7, 8]])"
      ]
     },
     "execution_count": 44,
     "metadata": {},
     "output_type": "execute_result"
    }
   ],
   "source": [
    "a = np.array([[1,2],[3,4]])\n",
    "b = np.array([[5,6],[7,8]])\n",
    "\n",
    "vstack = np.vstack((a,b)) # to join arrays in vertically\n",
    "hstack = np.hstack((a,b)) # to join array in horizontally\n",
    "\n",
    "vstack"
   ]
  },
  {
   "cell_type": "markdown",
   "id": "24a8287a-17f7-45ae-a613-b4e61cd40fcc",
   "metadata": {},
   "source": [
    "### repeat() --- tile()"
   ]
  },
  {
   "cell_type": "code",
   "execution_count": 45,
   "id": "be1f4c38-5414-478d-a61b-db99c4d08e96",
   "metadata": {},
   "outputs": [
    {
     "name": "stdout",
     "output_type": "stream",
     "text": [
      "[1 1 1 2 2 2 3 3 3 4 4 4 5 5 5]\n",
      "[1 2 3 4 5 1 2 3 4 5]\n"
     ]
    }
   ],
   "source": [
    "arr = np.array([1,2,3,4,5])\n",
    "\n",
    "print(np.repeat(arr,3)) # will repeat elements only \n",
    "\n",
    "print(np.tile(arr,2)) # will repeat the entire array"
   ]
  },
  {
   "cell_type": "markdown",
   "id": "63c3c187-554f-4d26-ae06-ed94e083722b",
   "metadata": {},
   "source": [
    "## Type Casting and Atributes"
   ]
  },
  {
   "cell_type": "markdown",
   "id": "6e2afbc1-a5d1-4def-abbe-c3c2b92a47d8",
   "metadata": {},
   "source": [
    "### astype()"
   ]
  },
  {
   "cell_type": "code",
   "execution_count": 46,
   "id": "090132ad-6c71-4905-be63-e895aa7a744f",
   "metadata": {},
   "outputs": [
    {
     "data": {
      "text/plain": [
       "array([['1', '2', '3', '4', '5'],\n",
       "       ['6', '7', '8', '9', '10']], dtype='<U21')"
      ]
     },
     "execution_count": 46,
     "metadata": {},
     "output_type": "execute_result"
    }
   ],
   "source": [
    "arr = np.arange(1,11).reshape(2,5)\n",
    "arr1 = arr.astype(str) # can change from a data type to another\n",
    "arr1"
   ]
  },
  {
   "cell_type": "code",
   "execution_count": 47,
   "id": "416717ce-97f2-4256-ab39-f429c916e220",
   "metadata": {},
   "outputs": [
    {
     "data": {
      "text/plain": [
       "array(['1', '2', '3', '4'], dtype='<U1')"
      ]
     },
     "execution_count": 47,
     "metadata": {},
     "output_type": "execute_result"
    }
   ],
   "source": [
    "arr = np.array([1,2,3,4],dtype = str) # in this way also we can type cast\n",
    "arr"
   ]
  },
  {
   "cell_type": "markdown",
   "id": "04adf30f-16a1-42e3-8e08-19e8f81b0b72",
   "metadata": {},
   "source": [
    "### dtype"
   ]
  },
  {
   "cell_type": "code",
   "execution_count": 48,
   "id": "2f61e515-2d9c-4ca5-8415-e4ad5fe6ed5f",
   "metadata": {},
   "outputs": [
    {
     "data": {
      "text/plain": [
       "dtype('int64')"
      ]
     },
     "execution_count": 48,
     "metadata": {},
     "output_type": "execute_result"
    }
   ],
   "source": [
    "arr = np.array([22,12,32,44])\n",
    "arr.dtype # to check data types of an array"
   ]
  },
  {
   "cell_type": "markdown",
   "id": "46dd0dad-fbce-482d-ad25-cca8a75d7fe3",
   "metadata": {},
   "source": [
    "### shape"
   ]
  },
  {
   "cell_type": "code",
   "execution_count": 49,
   "id": "36569b6d-a542-49ec-9ce6-02b99811d5b4",
   "metadata": {},
   "outputs": [
    {
     "data": {
      "text/plain": [
       "(2, 5)"
      ]
     },
     "execution_count": 49,
     "metadata": {},
     "output_type": "execute_result"
    }
   ],
   "source": [
    "arr = np.arange(1,11).reshape(2,5)\n",
    "arr.shape # will check how many rows and columns are present in an array"
   ]
  },
  {
   "cell_type": "markdown",
   "id": "5c00077c-63a1-447a-bbf6-6d4859fc8dfa",
   "metadata": {},
   "source": [
    "### size"
   ]
  },
  {
   "cell_type": "code",
   "execution_count": 50,
   "id": "bcfbe32e-a023-46db-9a0a-242794269b85",
   "metadata": {},
   "outputs": [
    {
     "data": {
      "text/plain": [
       "10"
      ]
     },
     "execution_count": 50,
     "metadata": {},
     "output_type": "execute_result"
    }
   ],
   "source": [
    "arr = np.arange(1,11)\n",
    "arr.size # will check how many elemnts are present in an array"
   ]
  },
  {
   "cell_type": "markdown",
   "id": "aec1dc41-ba13-443d-bdbf-c1b9fa42077f",
   "metadata": {},
   "source": [
    "### ndim"
   ]
  },
  {
   "cell_type": "code",
   "execution_count": 51,
   "id": "afb03132-d6db-4434-a129-c7efda905d84",
   "metadata": {},
   "outputs": [
    {
     "data": {
      "text/plain": [
       "3"
      ]
     },
     "execution_count": 51,
     "metadata": {},
     "output_type": "execute_result"
    }
   ],
   "source": [
    "arr = np.zeros([2,2,3])\n",
    "arr.ndim # can check the array diamension"
   ]
  },
  {
   "cell_type": "markdown",
   "id": "a707e884-d9c6-4aa0-a9f1-dfb3bed765bb",
   "metadata": {},
   "source": [
    "### diag()"
   ]
  },
  {
   "cell_type": "code",
   "execution_count": 52,
   "id": "9cd2e8bc-8d49-4116-ba3c-fb534f4c1f59",
   "metadata": {},
   "outputs": [
    {
     "name": "stdout",
     "output_type": "stream",
     "text": [
      "[[46 47 38 17]\n",
      " [20 25 35 22]\n",
      " [43  5 47 35]\n",
      " [27 23 29  3]]\n",
      "[46 25 47  3]\n"
     ]
    }
   ],
   "source": [
    "arr = np.random.randint(1,50,[4,4])\n",
    "extract = np.diag(arr) # will extract diagonal values from matrix\n",
    "print(arr)\n",
    "print(extract)"
   ]
  },
  {
   "cell_type": "markdown",
   "id": "f3fb90eb-1553-4e19-82a2-5d57f65cae21",
   "metadata": {},
   "source": [
    "# questions"
   ]
  },
  {
   "cell_type": "code",
   "execution_count": 53,
   "id": "d2b8c1bd-0b8b-448b-b1a7-4342467095af",
   "metadata": {},
   "outputs": [
    {
     "data": {
      "text/plain": [
       "array([[ 1,  2,  3,  4],\n",
       "       [ 5,  6,  7,  8],\n",
       "       [ 9, 10, 11, 12]])"
      ]
     },
     "execution_count": 53,
     "metadata": {},
     "output_type": "execute_result"
    }
   ],
   "source": [
    "arr = np.arange(1,13).reshape(3,4)\n",
    "arr"
   ]
  },
  {
   "cell_type": "code",
   "execution_count": 54,
   "id": "1e5b9880-ec22-4872-b597-c31882efdd2c",
   "metadata": {},
   "outputs": [
    {
     "name": "stdout",
     "output_type": "stream",
     "text": [
      "[[ 0  1  2  3  4]\n",
      " [ 5  6  7  8  9]\n",
      " [10 11 12 13 14]\n",
      " [15 16 17 18 19]\n",
      " [20 21 22 23 24]\n",
      " [25 26 27 28 29]]\n"
     ]
    },
    {
     "data": {
      "text/plain": [
       "array([ 3,  8, 13, 18, 23, 28])"
      ]
     },
     "execution_count": 54,
     "metadata": {},
     "output_type": "execute_result"
    }
   ],
   "source": [
    "arr = np.arange(30).reshape(6,5)\n",
    "print(arr)\n",
    "n =arr[0:,3]\n",
    "n"
   ]
  },
  {
   "cell_type": "code",
   "execution_count": 55,
   "id": "8f8695bd-eff1-4437-882e-c01d564d726e",
   "metadata": {},
   "outputs": [
    {
     "name": "stdout",
     "output_type": "stream",
     "text": [
      "[[0 1 0 1 0 1 0 1]\n",
      " [1 0 1 0 1 0 1 0]\n",
      " [0 1 0 1 0 1 0 1]\n",
      " [1 0 1 0 1 0 1 0]\n",
      " [0 1 0 1 0 1 0 1]\n",
      " [1 0 1 0 1 0 1 0]\n",
      " [0 1 0 1 0 1 0 1]\n",
      " [1 0 1 0 1 0 1 0]]\n"
     ]
    }
   ],
   "source": [
    "arr = np.zeros([8,8],dtype = int)\n",
    "arr[1::2,::2]=1\n",
    "arr[::2,1::2] =1\n",
    "\n",
    "print(arr)"
   ]
  },
  {
   "cell_type": "code",
   "execution_count": 56,
   "id": "5fd9d696-4cb0-44c4-a844-d6f6aba9cb91",
   "metadata": {},
   "outputs": [
    {
     "data": {
      "text/plain": [
       "[array([1, 2, 3, 4, 5]),\n",
       " array([ 6,  7,  8,  9, 10]),\n",
       " array([11, 12, 13, 14, 15]),\n",
       " array([16, 17, 18, 19, 20])]"
      ]
     },
     "execution_count": 56,
     "metadata": {},
     "output_type": "execute_result"
    }
   ],
   "source": [
    "arr = np.arange(1,21)\n",
    "c =np.split(arr,4)\n",
    "c"
   ]
  },
  {
   "cell_type": "code",
   "execution_count": 57,
   "id": "14bddfe6-05d9-4817-9dd2-19918cf0885f",
   "metadata": {},
   "outputs": [
    {
     "data": {
      "text/plain": [
       "array([[1., 1., 1., 1., 1., 1., 1., 1., 1., 1.],\n",
       "       [1., 0., 0., 0., 0., 0., 0., 0., 0., 1.],\n",
       "       [1., 0., 0., 0., 0., 0., 0., 0., 0., 1.],\n",
       "       [1., 0., 0., 0., 0., 0., 0., 0., 0., 1.],\n",
       "       [1., 0., 0., 0., 0., 0., 0., 0., 0., 1.],\n",
       "       [1., 0., 0., 0., 0., 0., 0., 0., 0., 1.],\n",
       "       [1., 0., 0., 0., 0., 0., 0., 0., 0., 1.],\n",
       "       [1., 0., 0., 0., 0., 0., 0., 0., 0., 1.],\n",
       "       [1., 0., 0., 0., 0., 0., 0., 0., 0., 1.],\n",
       "       [1., 1., 1., 1., 1., 1., 1., 1., 1., 1.]])"
      ]
     },
     "execution_count": 57,
     "metadata": {},
     "output_type": "execute_result"
    }
   ],
   "source": [
    "arr = np.ones([10,10])\n",
    "arr[1:-1,1:-1]=0\n",
    "arr"
   ]
  },
  {
   "cell_type": "code",
   "execution_count": 58,
   "id": "e015d407-681f-46fe-8d06-4d8280fc76db",
   "metadata": {},
   "outputs": [
    {
     "data": {
      "text/plain": [
       "array([9, 9, 8, 7, 6, 5, 4, 3, 2])"
      ]
     },
     "execution_count": 58,
     "metadata": {},
     "output_type": "execute_result"
    }
   ],
   "source": [
    "arr = np.random.randint(1,10,9).reshape(3,3)\n",
    "arr1 = arr.flatten()\n",
    "sort = np.sort(arr1)[::-1]\n",
    "\n",
    "sort"
   ]
  },
  {
   "cell_type": "code",
   "execution_count": 59,
   "id": "7997e040-9268-4f0e-8592-a71bc42d562c",
   "metadata": {},
   "outputs": [
    {
     "data": {
      "text/plain": [
       "array([[ 1,  2,  3,  8,  9, 10],\n",
       "       [ 4,  5,  6, 11, 12, 13]])"
      ]
     },
     "execution_count": 59,
     "metadata": {},
     "output_type": "execute_result"
    }
   ],
   "source": [
    "arr = np.arange(1,7).reshape(2,3)\n",
    "arr1 = np.arange(8,14).reshape(2,3)\n",
    "\n",
    "stack = np.hstack((arr,arr1))\n",
    "stack"
   ]
  },
  {
   "cell_type": "code",
   "execution_count": 60,
   "id": "c158ac17-2bbe-4962-ab80-277089d0f002",
   "metadata": {},
   "outputs": [
    {
     "name": "stdout",
     "output_type": "stream",
     "text": [
      "5.5\n"
     ]
    }
   ],
   "source": [
    "arr = np.arange(1,11)\n",
    "\n",
    "s = arr.sum()\n",
    "m = arr.mean()\n",
    "sd = arr.std()\n",
    "md = np.median(arr)\n",
    "print(m)"
   ]
  },
  {
   "cell_type": "markdown",
   "id": "615c963d-0572-4598-8483-5e9c3ab77939",
   "metadata": {},
   "source": [
    "### np.unique(array,return_counts=True)\n",
    "- used for finding frequency numbers in an array"
   ]
  },
  {
   "cell_type": "code",
   "execution_count": 61,
   "id": "f7330389-bea7-4f27-86af-c1cf8e60fde8",
   "metadata": {},
   "outputs": [
    {
     "name": "stdout",
     "output_type": "stream",
     "text": [
      "[1 2 3 4 5]\n",
      "[1 4 5 4 2]\n"
     ]
    }
   ],
   "source": [
    "arr = np.array([1,2,2,3,2,3,5,4,3,4,5,4,3,2,3,4])\n",
    "value,count = np.unique(arr, return_counts = True) # for finding frequency number of an array \n",
    "print(value)\n",
    "print(count)"
   ]
  },
  {
   "cell_type": "markdown",
   "id": "be0eb2da-993d-4677-9bbe-145c1b169376",
   "metadata": {},
   "source": [
    "### np.eye()\n",
    "- is used to create identity matix"
   ]
  },
  {
   "cell_type": "code",
   "execution_count": 62,
   "id": "552bd171-8d43-4e68-8e1c-f0b576a7f30d",
   "metadata": {},
   "outputs": [
    {
     "data": {
      "text/plain": [
       "array([[1., 0., 0.],\n",
       "       [0., 1., 0.],\n",
       "       [0., 0., 1.]])"
      ]
     },
     "execution_count": 62,
     "metadata": {},
     "output_type": "execute_result"
    }
   ],
   "source": [
    "arr = np.eye(3)\n",
    "arr"
   ]
  },
  {
   "cell_type": "markdown",
   "id": "aaf831bb-454f-4d5d-93cf-0e81550e353a",
   "metadata": {},
   "source": [
    "### broadcasting\n",
    "- automatically expands a smaller array to match the shape of a larger array durng a mathematical operations without making a copy"
   ]
  },
  {
   "cell_type": "code",
   "execution_count": 63,
   "id": "1ff0a6a9-e59b-486d-abb4-e86163bf5a7d",
   "metadata": {},
   "outputs": [
    {
     "name": "stdout",
     "output_type": "stream",
     "text": [
      "[3 5 7 9]\n"
     ]
    }
   ],
   "source": [
    "arr1 = np.array([1,2,3,4])\n",
    "arr2 = np.array([2,3,4,5])\n",
    "print(arr1+arr2)"
   ]
  },
  {
   "cell_type": "code",
   "execution_count": 71,
   "id": "3546aef7-bab3-4712-b965-b89602d038f1",
   "metadata": {},
   "outputs": [
    {
     "data": {
      "text/plain": [
       "array([[1., 0., 0., 0.],\n",
       "       [0., 1., 0., 0.],\n",
       "       [0., 0., 1., 0.],\n",
       "       [0., 0., 0., 1.]])"
      ]
     },
     "execution_count": 71,
     "metadata": {},
     "output_type": "execute_result"
    }
   ],
   "source": [
    "arr = np.eye(4)\n",
    "\n",
    "arr"
   ]
  },
  {
   "cell_type": "markdown",
   "id": "e64d35d9-ce6b-44ca-8f2b-7991b79d5b4e",
   "metadata": {},
   "source": [
    "- replacing negative values with 0"
   ]
  },
  {
   "cell_type": "code",
   "execution_count": 75,
   "id": "43eb8aa8-2a65-42fd-8c42-25c3af2be7f8",
   "metadata": {},
   "outputs": [
    {
     "data": {
      "text/plain": [
       "array([1, 2, 0, 0, 4, 0, 8, 4, 0])"
      ]
     },
     "execution_count": 75,
     "metadata": {},
     "output_type": "execute_result"
    }
   ],
   "source": [
    "arr = np.array([1,2,-1,-4,4,-4,8,4,-3])\n",
    "arr[arr<0] = 0\n",
    "arr"
   ]
  },
  {
   "cell_type": "code",
   "execution_count": 76,
   "id": "65657873-7e66-4063-b3a0-de75c3958382",
   "metadata": {},
   "outputs": [
    {
     "data": {
      "text/plain": [
       "array([[1., 0., 0., 0., 0.],\n",
       "       [0., 1., 0., 0., 0.],\n",
       "       [0., 0., 1., 0., 0.],\n",
       "       [0., 0., 0., 1., 0.],\n",
       "       [0., 0., 0., 0., 1.]])"
      ]
     },
     "execution_count": 76,
     "metadata": {},
     "output_type": "execute_result"
    }
   ],
   "source": [
    "arr = np.eye(5)\n",
    "arr"
   ]
  },
  {
   "cell_type": "code",
   "execution_count": 77,
   "id": "8fb70382-7991-4161-ac0d-27905372f895",
   "metadata": {},
   "outputs": [
    {
     "data": {
      "text/plain": [
       "array([[4, 6, 0],\n",
       "       [6, 5, 4],\n",
       "       [8, 3, 4]])"
      ]
     },
     "execution_count": 77,
     "metadata": {},
     "output_type": "execute_result"
    }
   ],
   "source": [
    "arr = np.random.randint(0,10,[3,3])\n",
    "arr"
   ]
  },
  {
   "cell_type": "code",
   "execution_count": 80,
   "id": "21b30b87-cbb7-490d-a6a2-ce373c710239",
   "metadata": {},
   "outputs": [
    {
     "data": {
      "text/plain": [
       "array([1, 2, 3, 4, 5])"
      ]
     },
     "execution_count": 80,
     "metadata": {},
     "output_type": "execute_result"
    }
   ],
   "source": [
    "arr = np.array([1,2,3,2,3,2,5,4,3,4,5])\n",
    "\n",
    "c = np.unique(arr)\n",
    "\n",
    "c"
   ]
  },
  {
   "cell_type": "markdown",
   "id": "6cf84a07-6aed-49e5-accf-b63108a6fcca",
   "metadata": {},
   "source": [
    "### np.dot()\n",
    "- used for multiplying the entier matix value"
   ]
  },
  {
   "cell_type": "code",
   "execution_count": 83,
   "id": "fd6c5f4b-4202-4572-922c-05e95a209e16",
   "metadata": {},
   "outputs": [
    {
     "data": {
      "text/plain": [
       "np.int64(20)"
      ]
     },
     "execution_count": 83,
     "metadata": {},
     "output_type": "execute_result"
    }
   ],
   "source": [
    "arr1 = np.array([1,2,3])\n",
    "arr2 = np.array([2,3,4])\n",
    "\n",
    "b = np.dot(arr1,arr2)\n",
    "b"
   ]
  },
  {
   "cell_type": "code",
   "execution_count": 94,
   "id": "e0860ee6-13dd-41f0-a5a9-dfd210c4ac59",
   "metadata": {},
   "outputs": [
    {
     "data": {
      "text/plain": [
       "array([ 1,  3,  5,  7,  9, 11, 13, 15, 17, 19])"
      ]
     },
     "execution_count": 94,
     "metadata": {},
     "output_type": "execute_result"
    }
   ],
   "source": [
    "arr = np.arange(1,21)\n",
    "\n",
    "extract = arr[np.where(arr%2==0)]\n",
    "extract"
   ]
  },
  {
   "cell_type": "code",
   "execution_count": 101,
   "id": "862f88ec-c66c-4212-babd-065323b1ca61",
   "metadata": {},
   "outputs": [
    {
     "name": "stdout",
     "output_type": "stream",
     "text": [
      "5\n"
     ]
    }
   ],
   "source": [
    "arr = np.array([1,2,5,3,4,3,2,5,3,5,4,5,5])\n",
    "\n",
    "ar = np.bincount(arr).argmax() # used for find the most frequent number\n",
    "\n",
    "print(ar)"
   ]
  },
  {
   "cell_type": "code",
   "execution_count": null,
   "id": "8880f24e-8695-44cf-8020-37bd61e0a5d8",
   "metadata": {},
   "outputs": [],
   "source": []
  }
 ],
 "metadata": {
  "kernelspec": {
   "display_name": "Python 3 (ipykernel)",
   "language": "python",
   "name": "python3"
  },
  "language_info": {
   "codemirror_mode": {
    "name": "ipython",
    "version": 3
   },
   "file_extension": ".py",
   "mimetype": "text/x-python",
   "name": "python",
   "nbconvert_exporter": "python",
   "pygments_lexer": "ipython3",
   "version": "3.13.5"
  }
 },
 "nbformat": 4,
 "nbformat_minor": 5
}
