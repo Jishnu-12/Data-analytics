{
 "cells": [
  {
   "cell_type": "markdown",
   "id": "3844f5dc-df01-4136-8900-cf5b0ca897ed",
   "metadata": {},
   "source": [
    "# Numpy arrays\n",
    "* its a special data structure provided by numpy library\n",
    "* used to store and work with large amount of numerical data\n",
    "* similar to python list but faster\n",
    "* uses less memmory than python list\n",
    "* allows mathematical operations easily"
   ]
  },
  {
   "cell_type": "markdown",
   "id": "24973f86-5b85-4554-9979-897667623c5e",
   "metadata": {},
   "source": [
    "### one diamensional array\n",
    "- also known as **vector**\n",
    "- array creating syntax \"**np.array([values])**\"\n",
    "- we can directly call the array name or print array name\n",
    "- if we need to check array diamension we need to use **ndim**\n",
    "- **np.array** wiill converte a python list into numpy array"
   ]
  },
  {
   "cell_type": "code",
   "execution_count": null,
   "id": "569b4a98-7bca-41ed-9530-ce2f5ae06c38",
   "metadata": {},
   "outputs": [],
   "source": [
    "import numpy as np\n",
    "\n",
    "array1 = np.array([1,2,3,4])\n",
    "\n",
    "array1\n",
    "\n",
    "array1.ndim\n"
   ]
  },
  {
   "cell_type": "markdown",
   "id": "100c6837-87ca-4376-8d52-87f52d1ba23c",
   "metadata": {},
   "source": [
    "### two diamensional array\n",
    "- syntax **np.array([[values],[values]])**\n",
    "- two diamensional arrays basically a table of data\n",
    "- includes rows , columns\n",
    "- 1|   2|   3|   4|   5| |-> **row 1**\n",
    "- **-------------------- |**\n",
    "- 5|   6|   7|   8|   9| |-> **row 2**\n",
    "- **---------------------|**\n",
    "- 4|   3|   2|   5|   3| |-> **row 3**\n",
    "- **---------------------|**\n",
    "- c1|  c2|  c3|  c4|  c5|-> **column5**"
   ]
  },
  {
   "cell_type": "code",
   "execution_count": null,
   "id": "b87a1953-d087-42f1-b288-14e44265fb81",
   "metadata": {},
   "outputs": [],
   "source": [
    "array2 = np.array([[1,2,3,4,5], # row 1\n",
    "                   [5,6,7,8,5], # row 2\n",
    "                  [12,23,43,12,12]]) # row 3\n",
    "array2\n"
   ]
  },
  {
   "cell_type": "markdown",
   "id": "161ffe68-57bc-492b-b03d-27ae8214875e",
   "metadata": {},
   "source": [
    "## arange() function\n",
    "- its a numpy function to create evenly spaced values with in a given range\n",
    "- similar to range() in python insted of giving a list it will create a numpy array"
   ]
  },
  {
   "cell_type": "code",
   "execution_count": null,
   "id": "450841eb-d776-4c19-a09e-99b5587e4d37",
   "metadata": {},
   "outputs": [],
   "source": [
    "array3 = np.arange(1,11)\n",
    "array3"
   ]
  },
  {
   "cell_type": "markdown",
   "id": "9bac1e58-41a9-45d2-a0fd-9a0b2da61b8a",
   "metadata": {},
   "source": [
    "### reshaping array using reshape()"
   ]
  },
  {
   "cell_type": "code",
   "execution_count": null,
   "id": "7eda43b3-0ebe-4205-a2cd-889dfcd37591",
   "metadata": {},
   "outputs": [],
   "source": [
    "reshaped = array3.reshape(2,5)\n",
    "reshaped"
   ]
  },
  {
   "cell_type": "markdown",
   "id": "07af0cd8-58fc-455f-8a52-3a828bf856c3",
   "metadata": {},
   "source": [
    "- **np.concatenate((variables))** joins two or more arrays\n",
    "- **np.reshape(row,col)** changes the structure of a single array"
   ]
  },
  {
   "cell_type": "code",
   "execution_count": null,
   "id": "7e3df8cd-67b8-472f-a269-e1c8073a3a4c",
   "metadata": {},
   "outputs": [],
   "source": [
    "zeros = np.zeros(5)\n",
    "ones = np.ones(5)\n",
    "\n",
    "combine = np.concatenate((zeros,ones))\n",
    "combine.reshape(5,2)"
   ]
  },
  {
   "cell_type": "markdown",
   "id": "c2580ad9-3a86-4f6d-a844-22abfbdd55ec",
   "metadata": {},
   "source": [
    "# Array attributes\n",
    "- .size: used to check total number of elements\n",
    "- .ndim: returns number of diamension\n",
    "- .dtype: data type of elements inside array\n",
    "- .shape: returns rows and columns of an array"
   ]
  },
  {
   "cell_type": "code",
   "execution_count": null,
   "id": "d66bd6bd-727c-4baf-b36d-4e6d86901a8f",
   "metadata": {},
   "outputs": [],
   "source": [
    "array = np.array([[1,2,3,4,5],\n",
    "                  [5,6,7,8,9]])\n",
    "\n",
    "diamension = array.ndim\n",
    "size = array.size\n",
    "datatype = array.dtype\n",
    "shape = array.shape\n",
    "\n",
    "print(f\"array diamension is {diamension}\")\n",
    "print(f\"total number of elemnts {size}\")\n",
    "print(f\"data type of array elements {datatype}\")\n",
    "print(f\"how many rows and columns {shape}\")"
   ]
  },
  {
   "cell_type": "markdown",
   "id": "f94db4a8-0817-400a-9ba2-aa4a8c938c96",
   "metadata": {},
   "source": [
    "# 4D array "
   ]
  },
  {
   "cell_type": "code",
   "execution_count": null,
   "id": "c7919ddb-0050-48d2-82a0-2ed29063cbb7",
   "metadata": {},
   "outputs": [],
   "source": [
    "arr1 = np.array([\n",
    "[ #group1\n",
    "    [ # block1\n",
    "    [1,2,3,4],\n",
    "    [1,2,3,4]\n",
    "    ],\n",
    "    [ #block2           \n",
    "    [2,3,4,5],\n",
    "    [2,3,4,5]\n",
    "    ]\n",
    "],\n",
    "[ # group2\n",
    "    \n",
    "    [#block1\n",
    "    [12,23,32,43],\n",
    "    [21,21,34,54]\n",
    "    ],\n",
    "    [ #block\n",
    "    [1,2,3,4],\n",
    "    [1,2,3,4]\n",
    "    ]\n",
    "]\n",
    "])\n",
    "\n",
    "arr1.ndim"
   ]
  },
  {
   "cell_type": "markdown",
   "id": "5060561d-bb37-4ea2-ae48-60433732f896",
   "metadata": {},
   "source": [
    "# 3D array"
   ]
  },
  {
   "cell_type": "code",
   "execution_count": null,
   "id": "78ee2f62-b98d-4e7b-960f-56728b3caf31",
   "metadata": {},
   "outputs": [],
   "source": [
    "arr = np.array([\n",
    "[  \n",
    "     \n",
    "        [1,2,3,4],\n",
    "],\n",
    "[\n",
    "        [1,2,3,4]\n",
    "\n",
    " ]\n",
    "])\n",
    "\n",
    "arr.ndim"
   ]
  },
  {
   "cell_type": "code",
   "execution_count": null,
   "id": "1bb29c34-6896-4f56-b011-1c9ef08791f9",
   "metadata": {},
   "outputs": [],
   "source": [
    "import sys\n",
    "\n",
    "list1 = list(range(1000))\n"
   ]
  }
 ],
 "metadata": {
  "kernelspec": {
   "display_name": "Python 3 (ipykernel)",
   "language": "python",
   "name": "python3"
  },
  "language_info": {
   "codemirror_mode": {
    "name": "ipython",
    "version": 3
   },
   "file_extension": ".py",
   "mimetype": "text/x-python",
   "name": "python",
   "nbconvert_exporter": "python",
   "pygments_lexer": "ipython3",
   "version": "3.13.5"
  }
 },
 "nbformat": 4,
 "nbformat_minor": 5
}
