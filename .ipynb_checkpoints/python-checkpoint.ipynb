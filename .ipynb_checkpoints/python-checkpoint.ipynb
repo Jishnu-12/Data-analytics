{
 "cells": [
  {
   "cell_type": "markdown",
   "id": "3adcf671",
   "metadata": {},
   "source": [
    "### Task 1\n",
    "- create a variable x with value 10, then update it by adding 5, multiplying by 2,\n",
    "  and subtracting 4. Print the final result ?"
   ]
  },
  {
   "cell_type": "code",
   "execution_count": null,
   "id": "d1ff327e",
   "metadata": {},
   "outputs": [],
   "source": [
    "x = 10\n",
    "\n",
    "x+=5\n",
    "x*=2\n",
    "x-=4\n",
    "\n",
    "print(x)"
   ]
  },
  {
   "cell_type": "markdown",
   "id": "894fb887",
   "metadata": {},
   "source": [
    "### Task 2\n",
    "- Store your name, age, and height in three separate variables and print them in a\n",
    "  single line?"
   ]
  },
  {
   "cell_type": "code",
   "execution_count": null,
   "id": "a93e3253",
   "metadata": {},
   "outputs": [],
   "source": [
    "name = 'jishnu'\n",
    "age = 26\n",
    "height =5.6\n",
    "\n",
    "print(f\"My name is {name} and i am {age} years old and my height is {height}\")"
   ]
  },
  {
   "cell_type": "markdown",
   "id": "01ea0cbc",
   "metadata": {},
   "source": [
    "### Task 3\n",
    "- Convert a float number 3.1415 to integer and string print both?"
   ]
  },
  {
   "cell_type": "code",
   "execution_count": null,
   "id": "56cc14b2",
   "metadata": {},
   "outputs": [],
   "source": [
    "num = 3.1415\n",
    "\n",
    "integer = int(num)\n",
    "\n",
    "string = str(num)\n",
    "\n",
    "print(type(num))\n",
    "\n",
    "print(type(integer))\n",
    "\n",
    "print(type(string))"
   ]
  },
  {
   "cell_type": "markdown",
   "id": "96d9df84",
   "metadata": {},
   "source": [
    "### Task 4\n",
    "- Use the keyword **in** to check whether the character 'a' exists in the string\n",
    "'data'.?"
   ]
  },
  {
   "cell_type": "code",
   "execution_count": null,
   "id": "0dd0702d",
   "metadata": {},
   "outputs": [],
   "source": [
    "text = 'data'\n",
    "\n",
    "print(\"a\" in text)"
   ]
  },
  {
   "cell_type": "markdown",
   "id": "90d88dcf",
   "metadata": {},
   "source": [
    "### Task 5\n",
    "- Create a variable using the None keyword and print its type"
   ]
  },
  {
   "cell_type": "code",
   "execution_count": null,
   "id": "a1a60a6f",
   "metadata": {},
   "outputs": [],
   "source": [
    "num = None\n",
    "print(type(num))"
   ]
  },
  {
   "cell_type": "markdown",
   "id": "ea40cb55",
   "metadata": {},
   "source": [
    "### Task 6\n",
    "- Take a string \"Hello World\" and convert it to: (a) uppercase, (b) lowercase,\n",
    "(c) title case?"
   ]
  },
  {
   "cell_type": "code",
   "execution_count": null,
   "id": "9de180aa",
   "metadata": {},
   "outputs": [],
   "source": [
    "text = \"hello world\"\n",
    "\n",
    "up =text.upper()\n",
    "lw =text.lower()\n",
    "ti =text.title()\n",
    "cp =text.capitalize()\n",
    "re =text.replace(\"hello\",\"hai\")\n",
    "\n",
    "print(up)\n",
    "print(lw)\n",
    "print(ti)\n",
    "print(cp)\n",
    "print(re)"
   ]
  },
  {
   "cell_type": "markdown",
   "id": "aea16f05",
   "metadata": {},
   "source": [
    "### Task 7\n",
    "- Join a list of strings [\"Data\", \"Science\", \"is\", \"fun\"] into a single\n",
    "string separated by spaces.?"
   ]
  },
  {
   "cell_type": "code",
   "execution_count": null,
   "id": "0e460356",
   "metadata": {},
   "outputs": [],
   "source": [
    "strings =[\"Data\",\"Science\",\"is\",\"fun\"]\n",
    "\n",
    "jo =\" \".join(strings)\n",
    "\n",
    "print(jo)"
   ]
  },
  {
   "cell_type": "markdown",
   "id": "4d88dd78",
   "metadata": {},
   "source": [
    "### Task 8\n",
    "- Split the string \"apple,banana,cherry\" into a list.?"
   ]
  },
  {
   "cell_type": "code",
   "execution_count": null,
   "id": "55e258a5",
   "metadata": {},
   "outputs": [],
   "source": [
    "string = \"apple,banana,cherry\"\n",
    "\n",
    "lists = string.split(\",\")\n",
    "\n",
    "print(lists)"
   ]
  },
  {
   "cell_type": "markdown",
   "id": "bbce968f",
   "metadata": {},
   "source": [
    "### Task 9\n",
    "- Create a list of numbers [10, 20, 30, 40, 50] and print the third element.?"
   ]
  },
  {
   "cell_type": "code",
   "execution_count": null,
   "id": "c966974a",
   "metadata": {},
   "outputs": [],
   "source": [
    "numbers = [10,20,30,40,50]\n",
    "\n",
    "print(numbers[2])"
   ]
  },
  {
   "cell_type": "markdown",
   "id": "e3d535a8",
   "metadata": {},
   "source": [
    "### Task 10\n",
    "- Append the element 60 to the list and then reverse the list ?"
   ]
  },
  {
   "cell_type": "code",
   "execution_count": null,
   "id": "df3233f0",
   "metadata": {},
   "outputs": [],
   "source": [
    "numbers = [10, 20, 30, 40, 50]\n",
    "\n",
    "numbers.append(60)\n",
    "numbers.reverse()\n",
    "\n",
    "print(numbers)"
   ]
  },
  {
   "cell_type": "code",
   "execution_count": null,
   "id": "47abdf21",
   "metadata": {},
   "outputs": [],
   "source": [
    "number = [1,3,2,5,4,7,6]\n",
    "\n",
    "number.sort()\n",
    "number.insert(0,\"hai\")\n",
    "number.insert(2,\"hello\")\n",
    "number.pop(2)\n",
    "\n",
    "print(number)"
   ]
  },
  {
   "cell_type": "markdown",
   "id": "83058667",
   "metadata": {},
   "source": [
    "### Task 11\n",
    "- Create a tuple of 5 fruits and print the second and last fruits using slicing.​?"
   ]
  },
  {
   "cell_type": "code",
   "execution_count": null,
   "id": "72f0c705",
   "metadata": {},
   "outputs": [],
   "source": [
    "fruits =('apple','orange','banana','mango','grape')\n",
    "\n",
    "new = fruits[1],fruits[-1]\n",
    "\n",
    "print(new)"
   ]
  },
  {
   "cell_type": "code",
   "execution_count": null,
   "id": "cade704e",
   "metadata": {},
   "outputs": [],
   "source": [
    "fruits = ['apple','banana','orange','apple','pinaple','grape','pinaple']\n",
    "\n",
    "removed_duplicates = list(dict.fromkeys(fruits))\n",
    "\n",
    "print(removed_duplicates)"
   ]
  },
  {
   "cell_type": "markdown",
   "id": "9792d815",
   "metadata": {},
   "source": [
    "### Task 12\n",
    "- Unpack the tuple (1, 2, 3) into three separate variables and print them.?"
   ]
  },
  {
   "cell_type": "code",
   "execution_count": null,
   "id": "06a3e86a",
   "metadata": {},
   "outputs": [],
   "source": [
    "num =(1,2,3)\n",
    "\n",
    "num1,num2,num3=num\n",
    "\n",
    "print(num1)\n",
    "print(num2)\n",
    "print(num3)"
   ]
  },
  {
   "cell_type": "code",
   "execution_count": null,
   "id": "0ebf9f16",
   "metadata": {},
   "outputs": [],
   "source": [
    "name = \"jishnu\"\n",
    "age = 26\n",
    "text = 'my name is {} and i am {} years old'\n",
    "\n",
    "print(text.format(name,age))"
   ]
  },
  {
   "cell_type": "code",
   "execution_count": null,
   "id": "455f2ab1",
   "metadata": {},
   "outputs": [],
   "source": [
    "text = \"hello world how are you\"\n",
    "\n",
    "t = text.split()\n",
    "\n",
    "\n",
    "t.insert(2,\"jishnu\")\n",
    "print(t)\n",
    "print(text)\n"
   ]
  },
  {
   "cell_type": "markdown",
   "id": "6caa704f",
   "metadata": {},
   "source": [
    "### Task 13\n",
    "- finding frequency of a string?"
   ]
  },
  {
   "cell_type": "code",
   "execution_count": null,
   "id": "18201c87",
   "metadata": {},
   "outputs": [],
   "source": [
    "from collections import Counter\n",
    "\n",
    "text = \"hello world how are you\"\n",
    "\n",
    "frequency = Counter(text)\n",
    "\n",
    "\n",
    "for keys,values in frequency.items():\n",
    "    print(f\"{keys} = {values}\")\n"
   ]
  },
  {
   "cell_type": "code",
   "execution_count": null,
   "id": "abea6918",
   "metadata": {},
   "outputs": [],
   "source": [
    "#multiplication table of 5\n",
    "\n",
    "\n",
    "for i in range(1,10):\n",
    "    print(f\"{i} x {5} = {i*5}\")"
   ]
  },
  {
   "cell_type": "code",
   "execution_count": null,
   "id": "1e3fbe96",
   "metadata": {},
   "outputs": [],
   "source": [
    "num = int(input(\"Enter a number: \"))\n",
    "\n",
    "for i in range(1, 11):\n",
    "    for j in range(1, 11):\n",
    "        print(f\"{i} x {j} = {i*j}\")\n",
    "\n",
    "        if i == num and j == num:\n",
    "            break \n",
    "\n",
    "    print()\n",
    "\n",
    "    "
   ]
  },
  {
   "cell_type": "code",
   "execution_count": null,
   "id": "3c34f690",
   "metadata": {},
   "outputs": [],
   "source": [
    "text = \"hello\"\n",
    "\n",
    "t = text[0:5:1]\n",
    "print(t)"
   ]
  },
  {
   "cell_type": "markdown",
   "id": "f09c3171",
   "metadata": {},
   "source": [
    "### Task 14\n",
    "- frequency counter function"
   ]
  },
  {
   "cell_type": "code",
   "execution_count": null,
   "id": "15efbd87",
   "metadata": {},
   "outputs": [],
   "source": [
    "from collections import Counter\n",
    "\n",
    "list1=[1,2,3,2,1,5,2,1,7,2,1]\n",
    "\n",
    "def frequency(x):\n",
    "    t=Counter(x)\n",
    "    for keys,values in t.items():\n",
    "        print(f\"{keys} = {values}\")\n",
    "\n",
    "\n",
    "frequency(list1)\n"
   ]
  },
  {
   "cell_type": "markdown",
   "id": "e3c7ecbd-7807-4e1d-9582-d0ee3ed25b8a",
   "metadata": {},
   "source": [
    "### Some random question practice"
   ]
  },
  {
   "cell_type": "code",
   "execution_count": null,
   "id": "0826ebde",
   "metadata": {},
   "outputs": [],
   "source": [
    "inp = input(\"enter anything to check palindrome\")\n",
    "\n",
    "def palindrome(text):\n",
    "    if text == text[::-1]:\n",
    "        print(\"its palindrome\")\n",
    "\n",
    "    else:\n",
    "        print(\"its not palindrome\")\n",
    "\n",
    "\n",
    "palindrome(inp)"
   ]
  },
  {
   "cell_type": "code",
   "execution_count": null,
   "id": "6a0d6043",
   "metadata": {},
   "outputs": [],
   "source": [
    "list1 = [1, 2, 3, 2, 1, 5, 2, 1, 7, 2, 1]\n",
    "\n",
    "list2 = [\"apple\",\"banana\",\"apple\", \"orange\",\"equals\",\"banana\", \"orange\"]\n",
    "\n",
    "\n",
    "def duplicate_remover(re):\n",
    "    convert = list(dict.fromkeys(re))\n",
    "    return convert\n",
    "\n",
    "\n",
    "duplicate_remover(list2)\n",
    "duplicate_remover(list1)"
   ]
  },
  {
   "cell_type": "code",
   "execution_count": null,
   "id": "8ba1a451",
   "metadata": {},
   "outputs": [],
   "source": [
    "def revers(text):\n",
    "    t = text[::-1]\n",
    "    return t\n",
    "\n",
    "\n",
    "revers(\"hello\")"
   ]
  },
  {
   "cell_type": "code",
   "execution_count": null,
   "id": "62fbbe39",
   "metadata": {},
   "outputs": [],
   "source": [
    "dic = {\"name\":\"jishnu\"}\n",
    "\n",
    "dic[\"name\"]=\"jhon\"\n",
    "del dic\n",
    "print(dic)"
   ]
  }
 ],
 "metadata": {
  "kernelspec": {
   "display_name": "Python 3 (ipykernel)",
   "language": "python",
   "name": "python3"
  },
  "language_info": {
   "codemirror_mode": {
    "name": "ipython",
    "version": 3
   },
   "file_extension": ".py",
   "mimetype": "text/x-python",
   "name": "python",
   "nbconvert_exporter": "python",
   "pygments_lexer": "ipython3",
   "version": "3.13.5"
  }
 },
 "nbformat": 4,
 "nbformat_minor": 5
}
