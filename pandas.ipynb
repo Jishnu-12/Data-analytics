{
 "cells": [
  {
   "cell_type": "markdown",
   "id": "d89c8f19-b649-49b3-9ff7-be894086da4a",
   "metadata": {},
   "source": [
    "# Pandas"
   ]
  },
  {
   "cell_type": "markdown",
   "id": "b5119d68-7343-4acd-afa8-02dcff66f671",
   "metadata": {},
   "source": [
    "- its a python library used for working with datas\n",
    "- it provides easy to use data structure \n",
    "- helps cleaning,manipulation and analysis \n",
    "- can easily import datasets from csv,excel,json and sql\n",
    "- there are two primary data structures in pandas **Series** & **Dataframe**\n",
    "- **Series** -> 1D labeled homogeneous array\n",
    "- **DataFrame** -> 2d labeled heterogeneous table"
   ]
  },
  {
   "cell_type": "code",
   "execution_count": 2,
   "id": "66384ad0-6b03-4224-a8fd-357368d268e6",
   "metadata": {},
   "outputs": [],
   "source": [
    "import pandas as pd"
   ]
  },
  {
   "cell_type": "markdown",
   "id": "90ac8ed5-d679-49dc-ac64-5560c68049e8",
   "metadata": {},
   "source": [
    "# Series\n",
    "- 1D single column data\n",
    "- homogeneus -> usually stores one data type\n",
    "- size immputable -> once created, the number of elements cannot change, but the values can be updated\n",
    "- labled -> each elements has an index, default range index"
   ]
  },
  {
   "cell_type": "code",
   "execution_count": 3,
   "id": "974dba83-82ad-4c1b-b134-3130de1e7d30",
   "metadata": {},
   "outputs": [
    {
     "data": {
      "text/plain": [
       "dtype('int64')"
      ]
     },
     "execution_count": 3,
     "metadata": {},
     "output_type": "execute_result"
    }
   ],
   "source": [
    "s1 = pd.Series([10,20,30,40,50]) # used for creating single column data\n",
    "\n",
    "s1.dtype"
   ]
  },
  {
   "cell_type": "code",
   "execution_count": 4,
   "id": "f36ca9d8-2a63-4b0d-a3d2-454bc5004ee1",
   "metadata": {},
   "outputs": [
    {
     "data": {
      "text/plain": [
       "array([10, 20, 30, 40, 50])"
      ]
     },
     "execution_count": 4,
     "metadata": {},
     "output_type": "execute_result"
    }
   ],
   "source": [
    "s1.values # used for checking values of the series"
   ]
  },
  {
   "cell_type": "code",
   "execution_count": 5,
   "id": "c6b748d1-efd6-440a-abad-618ce66a61f4",
   "metadata": {},
   "outputs": [
    {
     "data": {
      "text/plain": [
       "RangeIndex(start=0, stop=5, step=1)"
      ]
     },
     "execution_count": 5,
     "metadata": {},
     "output_type": "execute_result"
    }
   ],
   "source": [
    "s1.index #gives the index lables"
   ]
  },
  {
   "cell_type": "code",
   "execution_count": 6,
   "id": "7ddea29d-ac13-4895-82e9-76e3b8f4c21a",
   "metadata": {},
   "outputs": [
    {
     "data": {
      "text/plain": [
       "a    10\n",
       "b    20\n",
       "c    30\n",
       "d    40\n",
       "f    50\n",
       "dtype: int64"
      ]
     },
     "execution_count": 6,
     "metadata": {},
     "output_type": "execute_result"
    }
   ],
   "source": [
    "index = ['a','b','c','d','f']\n",
    "\n",
    "s1.index = index # also can change the index lables\n",
    "\n",
    "s1"
   ]
  },
  {
   "cell_type": "code",
   "execution_count": 7,
   "id": "fb095ba3-e327-4575-ab91-aafa849ac21f",
   "metadata": {},
   "outputs": [
    {
     "data": {
      "text/plain": [
       "Index(['a', 'b', 'c', 'd', 'f'], dtype='object')"
      ]
     },
     "execution_count": 7,
     "metadata": {},
     "output_type": "execute_result"
    }
   ],
   "source": [
    "s1.keys() # gives the index numbers or custom lables "
   ]
  },
  {
   "cell_type": "code",
   "execution_count": 8,
   "id": "a6db724a-c49a-48c4-bdd1-1fec29461d63",
   "metadata": {},
   "outputs": [
    {
     "data": {
      "text/plain": [
       "a    10\n",
       "b    20\n",
       "c    30\n",
       "dtype: int64"
      ]
     },
     "execution_count": 8,
     "metadata": {},
     "output_type": "execute_result"
    }
   ],
   "source": [
    "s1['a':'c'] # in lable baased indexing the start value as well as the stop value also includes in the output\n",
    "# in normal indexing the stop value will exclude in the out put "
   ]
  },
  {
   "cell_type": "code",
   "execution_count": 9,
   "id": "353bb886-839e-4739-9bf9-6c358cde01b8",
   "metadata": {},
   "outputs": [
    {
     "data": {
      "text/plain": [
       "np.int64(10)"
      ]
     },
     "execution_count": 9,
     "metadata": {},
     "output_type": "execute_result"
    }
   ],
   "source": [
    "s1.iloc[0] # accesse by integer position only it ignore lables always looks at the numeric position"
   ]
  },
  {
   "cell_type": "code",
   "execution_count": 10,
   "id": "f0486c1c-4b50-4b7a-93b1-f34d8c1a564c",
   "metadata": {},
   "outputs": [
    {
     "data": {
      "text/plain": [
       "np.int64(10)"
      ]
     },
     "execution_count": 10,
     "metadata": {},
     "output_type": "execute_result"
    }
   ],
   "source": [
    "s1.loc['a'] # access by index lables work with default numbers or custom lables"
   ]
  },
  {
   "cell_type": "code",
   "execution_count": 11,
   "id": "2ea91330-05b0-42dc-8728-01731d55a8fe",
   "metadata": {},
   "outputs": [
    {
     "name": "stdout",
     "output_type": "stream",
     "text": [
      "numbers\n",
      "a    10\n",
      "b    20\n",
      "c    30\n",
      "d    40\n",
      "f    50\n",
      "Name: numbers, dtype: int64\n"
     ]
    }
   ],
   "source": [
    "# the default name will be None\n",
    "s1.name = \"numbers\" # we can assign a new name using .name\n",
    "print(s1.name)\n",
    "print(s1)"
   ]
  },
  {
   "cell_type": "code",
   "execution_count": 12,
   "id": "6883100c-4e4a-4d51-96a7-8eb123bdd9cd",
   "metadata": {},
   "outputs": [
    {
     "name": "stdout",
     "output_type": "stream",
     "text": [
      "fruits\n",
      "apple         27\n",
      "orange        21\n",
      "banana        30\n",
      "grape         25\n",
      "pineapple     20\n",
      "strawberry    32\n",
      "blueberry     45\n",
      "jackfruit     26\n",
      "lemon         12\n",
      "avocado       28\n",
      "Name: fruits, dtype: int64\n"
     ]
    }
   ],
   "source": [
    "# creating a Series out of a dictionary\n",
    "dict1 = {\n",
    "    \"apple\":27,\n",
    "    \"orange\":21,\n",
    "    \"banana\":30,\n",
    "    \"grape\":25,\n",
    "    \"pineapple\":20,\n",
    "    \"strawberry\":32,\n",
    "    \"blueberry\":45,\n",
    "    \"jackfruit\":26,\n",
    "    \"lemon\":12,\n",
    "    \"avocado\":28\n",
    "}\n",
    "\n",
    "s2 = pd.Series(dict1, name=\"fruits\") \n",
    "print(s2.name)\n",
    "print(s2)"
   ]
  },
  {
   "cell_type": "code",
   "execution_count": 13,
   "id": "0656cb72-ad26-4948-b11f-1e238f484aab",
   "metadata": {},
   "outputs": [
    {
     "data": {
      "text/plain": [
       "orange    21\n",
       "apple     27\n",
       "banana    30\n",
       "Name: fruits, dtype: int64"
      ]
     },
     "execution_count": 13,
     "metadata": {},
     "output_type": "execute_result"
    }
   ],
   "source": [
    "s2.loc[['orange','apple','banana']]"
   ]
  },
  {
   "cell_type": "code",
   "execution_count": 14,
   "id": "7b1a7cbd-4a04-4c70-a056-750bc975559c",
   "metadata": {},
   "outputs": [
    {
     "data": {
      "text/plain": [
       "orange    21\n",
       "banana    30\n",
       "grape     25\n",
       "Name: fruits, dtype: int64"
      ]
     },
     "execution_count": 14,
     "metadata": {},
     "output_type": "execute_result"
    }
   ],
   "source": [
    "s2.iloc[1:4]"
   ]
  },
  {
   "cell_type": "code",
   "execution_count": 15,
   "id": "19413605-7260-43bc-aade-e6aacfe0c30f",
   "metadata": {},
   "outputs": [
    {
     "data": {
      "text/plain": [
       "avocado      28\n",
       "lemon        12\n",
       "jackfruit    26\n",
       "Name: fruits, dtype: int64"
      ]
     },
     "execution_count": 15,
     "metadata": {},
     "output_type": "execute_result"
    }
   ],
   "source": [
    "s2.iloc[[9,8,7]]"
   ]
  },
  {
   "cell_type": "code",
   "execution_count": 16,
   "id": "4f621a64-e66d-4c59-b712-6a2536570242",
   "metadata": {},
   "outputs": [
    {
     "name": "stdout",
     "output_type": "stream",
     "text": [
      "Index(['apple', 'orange', 'banana', 'grape', 'pineapple', 'strawberry',\n",
      "       'blueberry', 'jackfruit', 'lemon', 'avocado'],\n",
      "      dtype='object')\n",
      "[27 21 30 25 20 32 45 26 12 28]\n"
     ]
    }
   ],
   "source": [
    "print(s2.keys())\n",
    "print(s2.values)"
   ]
  },
  {
   "cell_type": "code",
   "execution_count": 17,
   "id": "81f9d6f6-137d-423d-8f63-6b1fac03e1f2",
   "metadata": {},
   "outputs": [
    {
     "data": {
      "text/plain": [
       "banana        30\n",
       "strawberry    32\n",
       "blueberry     45\n",
       "avocado       28\n",
       "Name: fruits, dtype: int64"
      ]
     },
     "execution_count": 17,
     "metadata": {},
     "output_type": "execute_result"
    }
   ],
   "source": [
    "extract = s2[s2>=28] # filtering series values using a condition called conditional selection\n",
    "extract"
   ]
  },
  {
   "cell_type": "code",
   "execution_count": 18,
   "id": "aa58b0ef-bc97-4cb3-83ad-8c496aa255b1",
   "metadata": {},
   "outputs": [
    {
     "data": {
      "text/plain": [
       "[apple          True\n",
       " orange         True\n",
       " banana        False\n",
       " grape          True\n",
       " pineapple     False\n",
       " strawberry    False\n",
       " blueberry     False\n",
       " jackfruit      True\n",
       " lemon         False\n",
       " avocado        True\n",
       " Name: fruits, dtype: bool]"
      ]
     },
     "execution_count": 18,
     "metadata": {},
     "output_type": "execute_result"
    }
   ],
   "source": [
    "[(s2>20) & (s2<30)] # we need both condition meets true to get the result true"
   ]
  },
  {
   "cell_type": "code",
   "execution_count": 19,
   "id": "dfadef31-5bd8-424a-a50f-994da3d26134",
   "metadata": {},
   "outputs": [
    {
     "data": {
      "text/plain": [
       "apple          27\n",
       "orange         21\n",
       "banana         30\n",
       "grape         100\n",
       "pineapple      20\n",
       "strawberry     32\n",
       "blueberry      45\n",
       "jackfruit      26\n",
       "lemon          12\n",
       "avocado        28\n",
       "Name: fruits, dtype: int64"
      ]
     },
     "execution_count": 19,
     "metadata": {},
     "output_type": "execute_result"
    }
   ],
   "source": [
    "s2[\"grape\"]=100 # this is how we can modify a series\n",
    "s2"
   ]
  },
  {
   "cell_type": "markdown",
   "id": "f5cce3e1-e83c-4b4f-956e-9cef5fe54a67",
   "metadata": {},
   "source": [
    "# DataFrame\n",
    "- 2D structure multiple rows and columns\n",
    "- hetrogeneous -> each column can have multiple data types\n",
    "- size mutable -> can remove or add rows and columns\n",
    "- rows can have index numbers (can be customized) columns can have names/lables\n",
    "- tabular structure -> data is organized as a table format"
   ]
  },
  {
   "cell_type": "code",
   "execution_count": 20,
   "id": "20b85dbe-8af0-411e-b668-7a1ee8d43a3a",
   "metadata": {},
   "outputs": [
    {
     "data": {
      "text/html": [
       "<div>\n",
       "<style scoped>\n",
       "    .dataframe tbody tr th:only-of-type {\n",
       "        vertical-align: middle;\n",
       "    }\n",
       "\n",
       "    .dataframe tbody tr th {\n",
       "        vertical-align: top;\n",
       "    }\n",
       "\n",
       "    .dataframe thead th {\n",
       "        text-align: right;\n",
       "    }\n",
       "</style>\n",
       "<table border=\"1\" class=\"dataframe\">\n",
       "  <thead>\n",
       "    <tr style=\"text-align: right;\">\n",
       "      <th></th>\n",
       "      <th>name</th>\n",
       "      <th>age</th>\n",
       "      <th>department</th>\n",
       "      <th>sallery</th>\n",
       "    </tr>\n",
       "  </thead>\n",
       "  <tbody>\n",
       "    <tr>\n",
       "      <th>a</th>\n",
       "      <td>jishnu</td>\n",
       "      <td>26.0</td>\n",
       "      <td>HR</td>\n",
       "      <td>50000.0</td>\n",
       "    </tr>\n",
       "    <tr>\n",
       "      <th>b</th>\n",
       "      <td>anusree</td>\n",
       "      <td>26.0</td>\n",
       "      <td>sales</td>\n",
       "      <td>25000.0</td>\n",
       "    </tr>\n",
       "    <tr>\n",
       "      <th>c</th>\n",
       "      <td>vishnu</td>\n",
       "      <td>16.0</td>\n",
       "      <td>student</td>\n",
       "      <td>NaN</td>\n",
       "    </tr>\n",
       "    <tr>\n",
       "      <th>d</th>\n",
       "      <td>abi</td>\n",
       "      <td>NaN</td>\n",
       "      <td>intern</td>\n",
       "      <td>10000.0</td>\n",
       "    </tr>\n",
       "  </tbody>\n",
       "</table>\n",
       "</div>"
      ],
      "text/plain": [
       "      name   age department  sallery\n",
       "a   jishnu  26.0         HR  50000.0\n",
       "b  anusree  26.0      sales  25000.0\n",
       "c   vishnu  16.0    student      NaN\n",
       "d      abi   NaN     intern  10000.0"
      ]
     },
     "execution_count": 20,
     "metadata": {},
     "output_type": "execute_result"
    }
   ],
   "source": [
    "import numpy as np\n",
    "\n",
    "data = {\n",
    "    \"name\":[\"jishnu\",\"anusree\",\"vishnu\",\"abi\"],\n",
    "    \"age\":[26,26,16,np.nan],\n",
    "    \"department\":[\"HR\",\"sales\",\"student\",\"intern\"],\n",
    "    \"sallery\":[50000,25000,np.nan,10000]\n",
    "}\n",
    "\n",
    "df = pd.DataFrame(data)\n",
    "df.index = ['a','b','c','d']\n",
    "df\n",
    "    "
   ]
  },
  {
   "cell_type": "code",
   "execution_count": 21,
   "id": "f0b7cbdd-7864-4529-a721-ac24c287c71f",
   "metadata": {},
   "outputs": [
    {
     "data": {
      "text/html": [
       "<div>\n",
       "<style scoped>\n",
       "    .dataframe tbody tr th:only-of-type {\n",
       "        vertical-align: middle;\n",
       "    }\n",
       "\n",
       "    .dataframe tbody tr th {\n",
       "        vertical-align: top;\n",
       "    }\n",
       "\n",
       "    .dataframe thead th {\n",
       "        text-align: right;\n",
       "    }\n",
       "</style>\n",
       "<table border=\"1\" class=\"dataframe\">\n",
       "  <thead>\n",
       "    <tr style=\"text-align: right;\">\n",
       "      <th></th>\n",
       "      <th>name</th>\n",
       "      <th>age</th>\n",
       "      <th>department</th>\n",
       "      <th>sallery</th>\n",
       "    </tr>\n",
       "  </thead>\n",
       "  <tbody>\n",
       "    <tr>\n",
       "      <th>a</th>\n",
       "      <td>jishnu</td>\n",
       "      <td>26.0</td>\n",
       "      <td>HR</td>\n",
       "      <td>50000.0</td>\n",
       "    </tr>\n",
       "    <tr>\n",
       "      <th>b</th>\n",
       "      <td>anusree</td>\n",
       "      <td>26.0</td>\n",
       "      <td>sales</td>\n",
       "      <td>25000.0</td>\n",
       "    </tr>\n",
       "  </tbody>\n",
       "</table>\n",
       "</div>"
      ],
      "text/plain": [
       "      name   age department  sallery\n",
       "a   jishnu  26.0         HR  50000.0\n",
       "b  anusree  26.0      sales  25000.0"
      ]
     },
     "execution_count": 21,
     "metadata": {},
     "output_type": "execute_result"
    }
   ],
   "source": [
    "df.head(2) # to quickly view first few rows (works both in data frame and series)"
   ]
  },
  {
   "cell_type": "code",
   "execution_count": 22,
   "id": "fce7036d-8f92-4261-b7f1-3148173b506c",
   "metadata": {},
   "outputs": [
    {
     "data": {
      "text/html": [
       "<div>\n",
       "<style scoped>\n",
       "    .dataframe tbody tr th:only-of-type {\n",
       "        vertical-align: middle;\n",
       "    }\n",
       "\n",
       "    .dataframe tbody tr th {\n",
       "        vertical-align: top;\n",
       "    }\n",
       "\n",
       "    .dataframe thead th {\n",
       "        text-align: right;\n",
       "    }\n",
       "</style>\n",
       "<table border=\"1\" class=\"dataframe\">\n",
       "  <thead>\n",
       "    <tr style=\"text-align: right;\">\n",
       "      <th></th>\n",
       "      <th>name</th>\n",
       "      <th>age</th>\n",
       "      <th>department</th>\n",
       "      <th>sallery</th>\n",
       "    </tr>\n",
       "  </thead>\n",
       "  <tbody>\n",
       "    <tr>\n",
       "      <th>b</th>\n",
       "      <td>anusree</td>\n",
       "      <td>26.0</td>\n",
       "      <td>sales</td>\n",
       "      <td>25000.0</td>\n",
       "    </tr>\n",
       "    <tr>\n",
       "      <th>c</th>\n",
       "      <td>vishnu</td>\n",
       "      <td>16.0</td>\n",
       "      <td>student</td>\n",
       "      <td>NaN</td>\n",
       "    </tr>\n",
       "    <tr>\n",
       "      <th>d</th>\n",
       "      <td>abi</td>\n",
       "      <td>NaN</td>\n",
       "      <td>intern</td>\n",
       "      <td>10000.0</td>\n",
       "    </tr>\n",
       "  </tbody>\n",
       "</table>\n",
       "</div>"
      ],
      "text/plain": [
       "      name   age department  sallery\n",
       "b  anusree  26.0      sales  25000.0\n",
       "c   vishnu  16.0    student      NaN\n",
       "d      abi   NaN     intern  10000.0"
      ]
     },
     "execution_count": 22,
     "metadata": {},
     "output_type": "execute_result"
    }
   ],
   "source": [
    "df.tail(3) # to quickly view last few rows (works both in data frame and sseries)"
   ]
  },
  {
   "cell_type": "code",
   "execution_count": 23,
   "id": "d279f328-9f47-4d0b-af42-4ef203aee15e",
   "metadata": {},
   "outputs": [
    {
     "data": {
      "text/html": [
       "<div>\n",
       "<style scoped>\n",
       "    .dataframe tbody tr th:only-of-type {\n",
       "        vertical-align: middle;\n",
       "    }\n",
       "\n",
       "    .dataframe tbody tr th {\n",
       "        vertical-align: top;\n",
       "    }\n",
       "\n",
       "    .dataframe thead th {\n",
       "        text-align: right;\n",
       "    }\n",
       "</style>\n",
       "<table border=\"1\" class=\"dataframe\">\n",
       "  <thead>\n",
       "    <tr style=\"text-align: right;\">\n",
       "      <th></th>\n",
       "      <th>department</th>\n",
       "      <th>sallery</th>\n",
       "    </tr>\n",
       "  </thead>\n",
       "  <tbody>\n",
       "    <tr>\n",
       "      <th>a</th>\n",
       "      <td>HR</td>\n",
       "      <td>50000.0</td>\n",
       "    </tr>\n",
       "    <tr>\n",
       "      <th>b</th>\n",
       "      <td>sales</td>\n",
       "      <td>25000.0</td>\n",
       "    </tr>\n",
       "    <tr>\n",
       "      <th>c</th>\n",
       "      <td>student</td>\n",
       "      <td>NaN</td>\n",
       "    </tr>\n",
       "  </tbody>\n",
       "</table>\n",
       "</div>"
      ],
      "text/plain": [
       "  department  sallery\n",
       "a         HR  50000.0\n",
       "b      sales  25000.0\n",
       "c    student      NaN"
      ]
     },
     "execution_count": 23,
     "metadata": {},
     "output_type": "execute_result"
    }
   ],
   "source": [
    "df.loc['a':'c' ,[\"department\",\"sallery\"]] # [rows , labeled indexing]"
   ]
  },
  {
   "cell_type": "code",
   "execution_count": 24,
   "id": "8eb3b3bc-0a66-4147-a2fb-bf32cfbf654b",
   "metadata": {},
   "outputs": [
    {
     "data": {
      "text/html": [
       "<div>\n",
       "<style scoped>\n",
       "    .dataframe tbody tr th:only-of-type {\n",
       "        vertical-align: middle;\n",
       "    }\n",
       "\n",
       "    .dataframe tbody tr th {\n",
       "        vertical-align: top;\n",
       "    }\n",
       "\n",
       "    .dataframe thead th {\n",
       "        text-align: right;\n",
       "    }\n",
       "</style>\n",
       "<table border=\"1\" class=\"dataframe\">\n",
       "  <thead>\n",
       "    <tr style=\"text-align: right;\">\n",
       "      <th></th>\n",
       "      <th>age</th>\n",
       "      <th>department</th>\n",
       "    </tr>\n",
       "  </thead>\n",
       "  <tbody>\n",
       "    <tr>\n",
       "      <th>c</th>\n",
       "      <td>16.0</td>\n",
       "      <td>student</td>\n",
       "    </tr>\n",
       "    <tr>\n",
       "      <th>d</th>\n",
       "      <td>NaN</td>\n",
       "      <td>intern</td>\n",
       "    </tr>\n",
       "  </tbody>\n",
       "</table>\n",
       "</div>"
      ],
      "text/plain": [
       "    age department\n",
       "c  16.0    student\n",
       "d   NaN     intern"
      ]
     },
     "execution_count": 24,
     "metadata": {},
     "output_type": "execute_result"
    }
   ],
   "source": [
    "df.iloc[2:4,1:3] # [rows,columns] in numerical indexing"
   ]
  },
  {
   "cell_type": "code",
   "execution_count": 25,
   "id": "f9ae4592-39d0-49d9-a0ca-9709d1e5b145",
   "metadata": {},
   "outputs": [
    {
     "data": {
      "text/plain": [
       "a         HR\n",
       "b      sales\n",
       "c    student\n",
       "d     intern\n",
       "Name: department, dtype: object"
      ]
     },
     "execution_count": 25,
     "metadata": {},
     "output_type": "execute_result"
    }
   ],
   "source": [
    "df[\"department\"]"
   ]
  },
  {
   "cell_type": "code",
   "execution_count": 26,
   "id": "195b5a14-fa7d-4631-a21c-b795a2154b9e",
   "metadata": {},
   "outputs": [
    {
     "data": {
      "text/html": [
       "<div>\n",
       "<style scoped>\n",
       "    .dataframe tbody tr th:only-of-type {\n",
       "        vertical-align: middle;\n",
       "    }\n",
       "\n",
       "    .dataframe tbody tr th {\n",
       "        vertical-align: top;\n",
       "    }\n",
       "\n",
       "    .dataframe thead th {\n",
       "        text-align: right;\n",
       "    }\n",
       "</style>\n",
       "<table border=\"1\" class=\"dataframe\">\n",
       "  <thead>\n",
       "    <tr style=\"text-align: right;\">\n",
       "      <th></th>\n",
       "      <th>name</th>\n",
       "      <th>age</th>\n",
       "      <th>department</th>\n",
       "      <th>sallery</th>\n",
       "    </tr>\n",
       "  </thead>\n",
       "  <tbody>\n",
       "    <tr>\n",
       "      <th>a</th>\n",
       "      <td>jishnu</td>\n",
       "      <td>26.0</td>\n",
       "      <td>HR</td>\n",
       "      <td>50000.0</td>\n",
       "    </tr>\n",
       "    <tr>\n",
       "      <th>b</th>\n",
       "      <td>anusree</td>\n",
       "      <td>26.0</td>\n",
       "      <td>sales</td>\n",
       "      <td>25000.0</td>\n",
       "    </tr>\n",
       "    <tr>\n",
       "      <th>c</th>\n",
       "      <td>vishnu</td>\n",
       "      <td>16.0</td>\n",
       "      <td>student</td>\n",
       "      <td>NaN</td>\n",
       "    </tr>\n",
       "    <tr>\n",
       "      <th>d</th>\n",
       "      <td>abi</td>\n",
       "      <td>NaN</td>\n",
       "      <td>intern</td>\n",
       "      <td>10000.0</td>\n",
       "    </tr>\n",
       "  </tbody>\n",
       "</table>\n",
       "</div>"
      ],
      "text/plain": [
       "      name   age department  sallery\n",
       "a   jishnu  26.0         HR  50000.0\n",
       "b  anusree  26.0      sales  25000.0\n",
       "c   vishnu  16.0    student      NaN\n",
       "d      abi   NaN     intern  10000.0"
      ]
     },
     "execution_count": 26,
     "metadata": {},
     "output_type": "execute_result"
    }
   ],
   "source": [
    "df"
   ]
  },
  {
   "cell_type": "code",
   "execution_count": 27,
   "id": "9020c963-c6b7-47ad-a824-d58155d3001f",
   "metadata": {},
   "outputs": [
    {
     "data": {
      "text/html": [
       "<div>\n",
       "<style scoped>\n",
       "    .dataframe tbody tr th:only-of-type {\n",
       "        vertical-align: middle;\n",
       "    }\n",
       "\n",
       "    .dataframe tbody tr th {\n",
       "        vertical-align: top;\n",
       "    }\n",
       "\n",
       "    .dataframe thead th {\n",
       "        text-align: right;\n",
       "    }\n",
       "</style>\n",
       "<table border=\"1\" class=\"dataframe\">\n",
       "  <thead>\n",
       "    <tr style=\"text-align: right;\">\n",
       "      <th></th>\n",
       "      <th>name</th>\n",
       "      <th>department</th>\n",
       "      <th>sallery</th>\n",
       "    </tr>\n",
       "  </thead>\n",
       "  <tbody>\n",
       "    <tr>\n",
       "      <th>a</th>\n",
       "      <td>jishnu</td>\n",
       "      <td>HR</td>\n",
       "      <td>50000.0</td>\n",
       "    </tr>\n",
       "    <tr>\n",
       "      <th>b</th>\n",
       "      <td>anusree</td>\n",
       "      <td>sales</td>\n",
       "      <td>25000.0</td>\n",
       "    </tr>\n",
       "    <tr>\n",
       "      <th>c</th>\n",
       "      <td>vishnu</td>\n",
       "      <td>student</td>\n",
       "      <td>NaN</td>\n",
       "    </tr>\n",
       "    <tr>\n",
       "      <th>d</th>\n",
       "      <td>abi</td>\n",
       "      <td>intern</td>\n",
       "      <td>10000.0</td>\n",
       "    </tr>\n",
       "  </tbody>\n",
       "</table>\n",
       "</div>"
      ],
      "text/plain": [
       "      name department  sallery\n",
       "a   jishnu         HR  50000.0\n",
       "b  anusree      sales  25000.0\n",
       "c   vishnu    student      NaN\n",
       "d      abi     intern  10000.0"
      ]
     },
     "execution_count": 27,
     "metadata": {},
     "output_type": "execute_result"
    }
   ],
   "source": [
    "df.drop('age',axis=1,inplace=False) # used to remove rows or columns using lable (lable,axis,inplase = False by default \n",
    "# when inplace make True manually it will remove the entire row or column permenently"
   ]
  },
  {
   "cell_type": "code",
   "execution_count": 28,
   "id": "ede4d9c4-f2df-4419-b95a-b76f6277467b",
   "metadata": {},
   "outputs": [
    {
     "data": {
      "text/html": [
       "<div>\n",
       "<style scoped>\n",
       "    .dataframe tbody tr th:only-of-type {\n",
       "        vertical-align: middle;\n",
       "    }\n",
       "\n",
       "    .dataframe tbody tr th {\n",
       "        vertical-align: top;\n",
       "    }\n",
       "\n",
       "    .dataframe thead th {\n",
       "        text-align: right;\n",
       "    }\n",
       "</style>\n",
       "<table border=\"1\" class=\"dataframe\">\n",
       "  <thead>\n",
       "    <tr style=\"text-align: right;\">\n",
       "      <th></th>\n",
       "      <th>name</th>\n",
       "      <th>age</th>\n",
       "      <th>department</th>\n",
       "      <th>sallery</th>\n",
       "    </tr>\n",
       "  </thead>\n",
       "  <tbody>\n",
       "    <tr>\n",
       "      <th>a</th>\n",
       "      <td>jishnu</td>\n",
       "      <td>26.0</td>\n",
       "      <td>HR</td>\n",
       "      <td>50000.0</td>\n",
       "    </tr>\n",
       "    <tr>\n",
       "      <th>b</th>\n",
       "      <td>anusree</td>\n",
       "      <td>26.0</td>\n",
       "      <td>sales</td>\n",
       "      <td>25000.0</td>\n",
       "    </tr>\n",
       "    <tr>\n",
       "      <th>c</th>\n",
       "      <td>vishnu</td>\n",
       "      <td>16.0</td>\n",
       "      <td>student</td>\n",
       "      <td>NaN</td>\n",
       "    </tr>\n",
       "    <tr>\n",
       "      <th>d</th>\n",
       "      <td>abi</td>\n",
       "      <td>NaN</td>\n",
       "      <td>intern</td>\n",
       "      <td>10000.0</td>\n",
       "    </tr>\n",
       "  </tbody>\n",
       "</table>\n",
       "</div>"
      ],
      "text/plain": [
       "      name   age department  sallery\n",
       "a   jishnu  26.0         HR  50000.0\n",
       "b  anusree  26.0      sales  25000.0\n",
       "c   vishnu  16.0    student      NaN\n",
       "d      abi   NaN     intern  10000.0"
      ]
     },
     "execution_count": 28,
     "metadata": {},
     "output_type": "execute_result"
    }
   ],
   "source": [
    "df"
   ]
  },
  {
   "cell_type": "code",
   "execution_count": 29,
   "id": "28a907a2-0e50-4a9d-844d-a571184424a1",
   "metadata": {},
   "outputs": [
    {
     "data": {
      "text/plain": [
       "np.float64(nan)"
      ]
     },
     "execution_count": 29,
     "metadata": {},
     "output_type": "execute_result"
    }
   ],
   "source": [
    "df.loc['c','sallery']"
   ]
  },
  {
   "cell_type": "code",
   "execution_count": 30,
   "id": "3d37cf17-dd05-4e31-81f1-4e02ab4b9bde",
   "metadata": {},
   "outputs": [
    {
     "data": {
      "text/html": [
       "<div>\n",
       "<style scoped>\n",
       "    .dataframe tbody tr th:only-of-type {\n",
       "        vertical-align: middle;\n",
       "    }\n",
       "\n",
       "    .dataframe tbody tr th {\n",
       "        vertical-align: top;\n",
       "    }\n",
       "\n",
       "    .dataframe thead th {\n",
       "        text-align: right;\n",
       "    }\n",
       "</style>\n",
       "<table border=\"1\" class=\"dataframe\">\n",
       "  <thead>\n",
       "    <tr style=\"text-align: right;\">\n",
       "      <th></th>\n",
       "      <th>name</th>\n",
       "      <th>age</th>\n",
       "      <th>department</th>\n",
       "      <th>sallery</th>\n",
       "    </tr>\n",
       "  </thead>\n",
       "  <tbody>\n",
       "    <tr>\n",
       "      <th>a</th>\n",
       "      <td>jishnu</td>\n",
       "      <td>26.0</td>\n",
       "      <td>HR</td>\n",
       "      <td>50000.0</td>\n",
       "    </tr>\n",
       "    <tr>\n",
       "      <th>b</th>\n",
       "      <td>anusree</td>\n",
       "      <td>26.0</td>\n",
       "      <td>sales</td>\n",
       "      <td>25000.0</td>\n",
       "    </tr>\n",
       "    <tr>\n",
       "      <th>c</th>\n",
       "      <td>vishnu</td>\n",
       "      <td>16.0</td>\n",
       "      <td>student</td>\n",
       "      <td>NaN</td>\n",
       "    </tr>\n",
       "    <tr>\n",
       "      <th>d</th>\n",
       "      <td>abi</td>\n",
       "      <td>NaN</td>\n",
       "      <td>intern</td>\n",
       "      <td>10000.0</td>\n",
       "    </tr>\n",
       "  </tbody>\n",
       "</table>\n",
       "</div>"
      ],
      "text/plain": [
       "      name   age department  sallery\n",
       "a   jishnu  26.0         HR  50000.0\n",
       "b  anusree  26.0      sales  25000.0\n",
       "c   vishnu  16.0    student      NaN\n",
       "d      abi   NaN     intern  10000.0"
      ]
     },
     "execution_count": 30,
     "metadata": {},
     "output_type": "execute_result"
    }
   ],
   "source": [
    "df"
   ]
  },
  {
   "cell_type": "code",
   "execution_count": 4,
   "id": "5177d915-ed52-4dbb-b18e-714b3e4fe109",
   "metadata": {},
   "outputs": [
    {
     "data": {
      "text/plain": [
       "0     1\n",
       "1     2\n",
       "2     3\n",
       "3     4\n",
       "4     5\n",
       "5     6\n",
       "6     7\n",
       "7     8\n",
       "8     9\n",
       "9    10\n",
       "dtype: int64"
      ]
     },
     "execution_count": 4,
     "metadata": {},
     "output_type": "execute_result"
    }
   ],
   "source": [
    "import numpy as np\n",
    "\n",
    "numbers  = np.arange(1,11)\n",
    "s = pd.Series(numbers)\n",
    "\n",
    "s"
   ]
  },
  {
   "cell_type": "markdown",
   "id": "31a1614a-e2a3-42d5-83bb-2fab912a5d39",
   "metadata": {},
   "source": [
    "- using columns.values[index number] and rename{columns = {column name : new name, inplace=True}\n",
    "- mainly used for changing column names "
   ]
  },
  {
   "cell_type": "code",
   "execution_count": 39,
   "id": "d610a9c9-57b7-4f2e-ae2b-776fce0fb94a",
   "metadata": {},
   "outputs": [
    {
     "name": "stdout",
     "output_type": "stream",
     "text": [
      "   Name  adress  age  sum  new\n",
      "a     1       2    3    1  0.0\n",
      "b     4       5    6    2  0.0\n",
      "c     7       8    9    3  0.0\n",
      "\n",
      "single row [4.0, 5.0, 6.0, 2.0, 0.0]\n",
      "\n",
      "single column [3, 6, 9]\n",
      "\n",
      "a    1\n",
      "b    2\n",
      "c    3\n",
      "Name: sum, dtype: int64\n",
      "[3, 6, 9]\n",
      "   Name  adress  age  new\n",
      "a     1       2    3  0.0\n",
      "b     4       5    6  0.0\n",
      "c     7       8    9  0.0\n",
      "   Name  adress  age  sum  new\n",
      "a     1       2    3    1  0.0\n",
      "b     4       5    6    2  0.0\n"
     ]
    }
   ],
   "source": [
    "s=np.arange(1,10).reshape(3,3)\n",
    "b = pd.DataFrame(s)\n",
    "b.index = ['a','b','c']\n",
    "\n",
    "b.columns=['num1','num2','num3'] # used to change entire column names \n",
    "b.columns.values[0] = 'Name' # used to change a single column name\n",
    "b.columns.values[2] = 'age'\n",
    "b.rename(columns = {\"num2\":\"adress\"} , inplace = True) # used to change a single column name\n",
    "\n",
    "b[\"sum\"] = np.arange(1,4)\n",
    "b[\"new\"] = np.zeros(3)\n",
    "c = b.iloc[1].tolist() # selecting single row using iloc\n",
    "d = b[\"age\"].tolist() \n",
    "f = b.iloc[:,3] # selecting single column using iloc\n",
    "g = b.drop(\"sum\",axis =1) # using drop to remove a column\n",
    "h = b.drop('c',inplace = False)\n",
    "print(b)\n",
    "print()\n",
    "print(f\"single row {c}\")\n",
    "print()\n",
    "print(f\"single column {d}\")\n",
    "print()\n",
    "print(f)\n",
    "print(d)\n",
    "print(g)\n",
    "print(h)"
   ]
  },
  {
   "cell_type": "code",
   "execution_count": null,
   "id": "a5628466-06d2-48f6-b759-75cfade430e9",
   "metadata": {},
   "outputs": [],
   "source": [
    "b.info() # used to check informations about a data frame"
   ]
  },
  {
   "cell_type": "code",
   "execution_count": null,
   "id": "cc193c94-a502-4dee-8365-c14fbefe9537",
   "metadata": {},
   "outputs": [],
   "source": [
    "b.describe() # used to check statistical informations of a data frame"
   ]
  },
  {
   "cell_type": "code",
   "execution_count": 40,
   "id": "a56e400c-04b4-4cb8-a19f-dd33771feb21",
   "metadata": {},
   "outputs": [
    {
     "data": {
      "text/plain": [
       "numbers\n",
       "2    4\n",
       "1    3\n",
       "3    3\n",
       "4    2\n",
       "5    1\n",
       "6    1\n",
       "Name: count, dtype: int64"
      ]
     },
     "execution_count": 40,
     "metadata": {},
     "output_type": "execute_result"
    }
   ],
   "source": [
    "arr = {\n",
    "    \"numbers\" : [1,2,1,2,3,4,3,2,5,6,4,3,2,1]\n",
    "}\n",
    "\n",
    "df = pd.DataFrame(arr)\n",
    "df[\"numbers\"].unique() # to find unique values without duplicates\n",
    "df[\"numbers\"].nunique() # to find unique values count\n",
    "df[\"numbers\"].value_counts() # to find the frequency of each values"
   ]
  },
  {
   "cell_type": "code",
   "execution_count": 180,
   "id": "97850cb9-fd0d-44af-8b6a-99bdcc5de147",
   "metadata": {},
   "outputs": [
    {
     "data": {
      "text/html": [
       "<div>\n",
       "<style scoped>\n",
       "    .dataframe tbody tr th:only-of-type {\n",
       "        vertical-align: middle;\n",
       "    }\n",
       "\n",
       "    .dataframe tbody tr th {\n",
       "        vertical-align: top;\n",
       "    }\n",
       "\n",
       "    .dataframe thead th {\n",
       "        text-align: right;\n",
       "    }\n",
       "</style>\n",
       "<table border=\"1\" class=\"dataframe\">\n",
       "  <thead>\n",
       "    <tr style=\"text-align: right;\">\n",
       "      <th></th>\n",
       "      <th>name</th>\n",
       "      <th>age</th>\n",
       "      <th>height</th>\n",
       "      <th>sallery</th>\n",
       "      <th>promotted sallery</th>\n",
       "    </tr>\n",
       "  </thead>\n",
       "  <tbody>\n",
       "    <tr>\n",
       "      <th>0</th>\n",
       "      <td>jishnu</td>\n",
       "      <td>26.0</td>\n",
       "      <td>5.0</td>\n",
       "      <td>10000</td>\n",
       "      <td>20000</td>\n",
       "    </tr>\n",
       "    <tr>\n",
       "      <th>1</th>\n",
       "      <td>vishnu</td>\n",
       "      <td>NaN</td>\n",
       "      <td>5.5</td>\n",
       "      <td>15000</td>\n",
       "      <td>30000</td>\n",
       "    </tr>\n",
       "    <tr>\n",
       "      <th>2</th>\n",
       "      <td>swetha</td>\n",
       "      <td>30.0</td>\n",
       "      <td>6.0</td>\n",
       "      <td>20000</td>\n",
       "      <td>40000</td>\n",
       "    </tr>\n",
       "    <tr>\n",
       "      <th>3</th>\n",
       "      <td>abinav</td>\n",
       "      <td>25.0</td>\n",
       "      <td>6.5</td>\n",
       "      <td>25000</td>\n",
       "      <td>50000</td>\n",
       "    </tr>\n",
       "    <tr>\n",
       "      <th>4</th>\n",
       "      <td>ajay</td>\n",
       "      <td>NaN</td>\n",
       "      <td>7.0</td>\n",
       "      <td>30000</td>\n",
       "      <td>60000</td>\n",
       "    </tr>\n",
       "  </tbody>\n",
       "</table>\n",
       "</div>"
      ],
      "text/plain": [
       "     name   age  height  sallery  promotted sallery\n",
       "0  jishnu  26.0     5.0    10000              20000\n",
       "1  vishnu   NaN     5.5    15000              30000\n",
       "2  swetha  30.0     6.0    20000              40000\n",
       "3  abinav  25.0     6.5    25000              50000\n",
       "4    ajay   NaN     7.0    30000              60000"
      ]
     },
     "execution_count": 180,
     "metadata": {},
     "output_type": "execute_result"
    }
   ],
   "source": [
    "arr = {\n",
    "\n",
    "    \"name\":[\"jishnu\",\"vishnu\"],\n",
    "    \"age\":[26,np.nan]\n",
    "}\n",
    "\n",
    "df = pd.DataFrame(arr)\n",
    "df.loc[2] = ['swetha',30] # also used for adding rows\n",
    "df.loc[3] = ['abinav',25]\n",
    "df.loc[4] = ['ajay',np.nan]\n",
    "df[\"height\"] = np.linspace(5,7,5) # used for adding new column\n",
    "df[\"sallery\"] = np.linspace(10000,30000,5,dtype = int)\n",
    "df[\"promotted sallery\"] = df['sallery'] *2\n",
    "\n",
    "df"
   ]
  },
  {
   "cell_type": "code",
   "execution_count": 181,
   "id": "30b3e9c8-1edc-4445-abb3-98784ef76256",
   "metadata": {},
   "outputs": [
    {
     "data": {
      "text/html": [
       "<div>\n",
       "<style scoped>\n",
       "    .dataframe tbody tr th:only-of-type {\n",
       "        vertical-align: middle;\n",
       "    }\n",
       "\n",
       "    .dataframe tbody tr th {\n",
       "        vertical-align: top;\n",
       "    }\n",
       "\n",
       "    .dataframe thead th {\n",
       "        text-align: right;\n",
       "    }\n",
       "</style>\n",
       "<table border=\"1\" class=\"dataframe\">\n",
       "  <thead>\n",
       "    <tr style=\"text-align: right;\">\n",
       "      <th></th>\n",
       "      <th>name</th>\n",
       "      <th>age</th>\n",
       "      <th>height</th>\n",
       "      <th>sallery</th>\n",
       "      <th>promotted sallery</th>\n",
       "    </tr>\n",
       "  </thead>\n",
       "  <tbody>\n",
       "    <tr>\n",
       "      <th>0</th>\n",
       "      <td>jishnu</td>\n",
       "      <td>26.0</td>\n",
       "      <td>5.0</td>\n",
       "      <td>10000</td>\n",
       "      <td>20000</td>\n",
       "    </tr>\n",
       "    <tr>\n",
       "      <th>1</th>\n",
       "      <td>vishnu</td>\n",
       "      <td>NaN</td>\n",
       "      <td>5.5</td>\n",
       "      <td>15000</td>\n",
       "      <td>30000</td>\n",
       "    </tr>\n",
       "    <tr>\n",
       "      <th>2</th>\n",
       "      <td>swetha</td>\n",
       "      <td>30.0</td>\n",
       "      <td>6.0</td>\n",
       "      <td>20000</td>\n",
       "      <td>40000</td>\n",
       "    </tr>\n",
       "    <tr>\n",
       "      <th>3</th>\n",
       "      <td>abinav</td>\n",
       "      <td>25.0</td>\n",
       "      <td>6.5</td>\n",
       "      <td>25000</td>\n",
       "      <td>50000</td>\n",
       "    </tr>\n",
       "    <tr>\n",
       "      <th>4</th>\n",
       "      <td>ajay</td>\n",
       "      <td>NaN</td>\n",
       "      <td>7.0</td>\n",
       "      <td>30000</td>\n",
       "      <td>60000</td>\n",
       "    </tr>\n",
       "  </tbody>\n",
       "</table>\n",
       "</div>"
      ],
      "text/plain": [
       "     name   age  height  sallery  promotted sallery\n",
       "0  jishnu  26.0     5.0    10000              20000\n",
       "1  vishnu   NaN     5.5    15000              30000\n",
       "2  swetha  30.0     6.0    20000              40000\n",
       "3  abinav  25.0     6.5    25000              50000\n",
       "4    ajay   NaN     7.0    30000              60000"
      ]
     },
     "execution_count": 181,
     "metadata": {},
     "output_type": "execute_result"
    }
   ],
   "source": [
    "df.dropna(how = 'all')"
   ]
  },
  {
   "cell_type": "code",
   "execution_count": 182,
   "id": "5ea99ab8-dc48-424c-a654-0c3e7dd8f5d2",
   "metadata": {},
   "outputs": [
    {
     "data": {
      "text/html": [
       "<div>\n",
       "<style scoped>\n",
       "    .dataframe tbody tr th:only-of-type {\n",
       "        vertical-align: middle;\n",
       "    }\n",
       "\n",
       "    .dataframe tbody tr th {\n",
       "        vertical-align: top;\n",
       "    }\n",
       "\n",
       "    .dataframe thead th {\n",
       "        text-align: right;\n",
       "    }\n",
       "</style>\n",
       "<table border=\"1\" class=\"dataframe\">\n",
       "  <thead>\n",
       "    <tr style=\"text-align: right;\">\n",
       "      <th></th>\n",
       "      <th>name</th>\n",
       "      <th>age</th>\n",
       "      <th>height</th>\n",
       "      <th>sallery</th>\n",
       "      <th>promotted sallery</th>\n",
       "    </tr>\n",
       "  </thead>\n",
       "  <tbody>\n",
       "    <tr>\n",
       "      <th>0</th>\n",
       "      <td>jishnu</td>\n",
       "      <td>26.0</td>\n",
       "      <td>5.0</td>\n",
       "      <td>10000</td>\n",
       "      <td>20000</td>\n",
       "    </tr>\n",
       "    <tr>\n",
       "      <th>1</th>\n",
       "      <td>vishnu</td>\n",
       "      <td>25.0</td>\n",
       "      <td>5.5</td>\n",
       "      <td>15000</td>\n",
       "      <td>30000</td>\n",
       "    </tr>\n",
       "    <tr>\n",
       "      <th>2</th>\n",
       "      <td>swetha</td>\n",
       "      <td>30.0</td>\n",
       "      <td>6.0</td>\n",
       "      <td>20000</td>\n",
       "      <td>40000</td>\n",
       "    </tr>\n",
       "    <tr>\n",
       "      <th>3</th>\n",
       "      <td>abinav</td>\n",
       "      <td>25.0</td>\n",
       "      <td>6.5</td>\n",
       "      <td>25000</td>\n",
       "      <td>50000</td>\n",
       "    </tr>\n",
       "    <tr>\n",
       "      <th>4</th>\n",
       "      <td>ajay</td>\n",
       "      <td>25.0</td>\n",
       "      <td>7.0</td>\n",
       "      <td>30000</td>\n",
       "      <td>60000</td>\n",
       "    </tr>\n",
       "  </tbody>\n",
       "</table>\n",
       "</div>"
      ],
      "text/plain": [
       "     name   age  height  sallery  promotted sallery\n",
       "0  jishnu  26.0     5.0    10000              20000\n",
       "1  vishnu  25.0     5.5    15000              30000\n",
       "2  swetha  30.0     6.0    20000              40000\n",
       "3  abinav  25.0     6.5    25000              50000\n",
       "4    ajay  25.0     7.0    30000              60000"
      ]
     },
     "execution_count": 182,
     "metadata": {},
     "output_type": "execute_result"
    }
   ],
   "source": [
    "df.fillna(25)"
   ]
  },
  {
   "cell_type": "code",
   "execution_count": 183,
   "id": "db8517b7-a68f-4f75-9eb1-2a89a916dd87",
   "metadata": {},
   "outputs": [
    {
     "data": {
      "text/html": [
       "<div>\n",
       "<style scoped>\n",
       "    .dataframe tbody tr th:only-of-type {\n",
       "        vertical-align: middle;\n",
       "    }\n",
       "\n",
       "    .dataframe tbody tr th {\n",
       "        vertical-align: top;\n",
       "    }\n",
       "\n",
       "    .dataframe thead th {\n",
       "        text-align: right;\n",
       "    }\n",
       "</style>\n",
       "<table border=\"1\" class=\"dataframe\">\n",
       "  <thead>\n",
       "    <tr style=\"text-align: right;\">\n",
       "      <th></th>\n",
       "      <th>name</th>\n",
       "    </tr>\n",
       "  </thead>\n",
       "  <tbody>\n",
       "    <tr>\n",
       "      <th>0</th>\n",
       "      <td>jishnu</td>\n",
       "    </tr>\n",
       "    <tr>\n",
       "      <th>1</th>\n",
       "      <td>vishnu</td>\n",
       "    </tr>\n",
       "    <tr>\n",
       "      <th>2</th>\n",
       "      <td>swetha</td>\n",
       "    </tr>\n",
       "    <tr>\n",
       "      <th>3</th>\n",
       "      <td>abinav</td>\n",
       "    </tr>\n",
       "    <tr>\n",
       "      <th>4</th>\n",
       "      <td>ajay</td>\n",
       "    </tr>\n",
       "  </tbody>\n",
       "</table>\n",
       "</div>"
      ],
      "text/plain": [
       "     name\n",
       "0  jishnu\n",
       "1  vishnu\n",
       "2  swetha\n",
       "3  abinav\n",
       "4    ajay"
      ]
     },
     "execution_count": 183,
     "metadata": {},
     "output_type": "execute_result"
    }
   ],
   "source": [
    "df[[\"name\"]]"
   ]
  },
  {
   "cell_type": "code",
   "execution_count": 184,
   "id": "6a8c706c-c004-4790-a19d-13638226e17e",
   "metadata": {},
   "outputs": [
    {
     "data": {
      "text/html": [
       "<div>\n",
       "<style scoped>\n",
       "    .dataframe tbody tr th:only-of-type {\n",
       "        vertical-align: middle;\n",
       "    }\n",
       "\n",
       "    .dataframe tbody tr th {\n",
       "        vertical-align: top;\n",
       "    }\n",
       "\n",
       "    .dataframe thead th {\n",
       "        text-align: right;\n",
       "    }\n",
       "</style>\n",
       "<table border=\"1\" class=\"dataframe\">\n",
       "  <thead>\n",
       "    <tr style=\"text-align: right;\">\n",
       "      <th></th>\n",
       "      <th>height</th>\n",
       "    </tr>\n",
       "  </thead>\n",
       "  <tbody>\n",
       "    <tr>\n",
       "      <th>0</th>\n",
       "      <td>5.0</td>\n",
       "    </tr>\n",
       "    <tr>\n",
       "      <th>1</th>\n",
       "      <td>5.5</td>\n",
       "    </tr>\n",
       "    <tr>\n",
       "      <th>2</th>\n",
       "      <td>6.0</td>\n",
       "    </tr>\n",
       "    <tr>\n",
       "      <th>3</th>\n",
       "      <td>6.5</td>\n",
       "    </tr>\n",
       "    <tr>\n",
       "      <th>4</th>\n",
       "      <td>7.0</td>\n",
       "    </tr>\n",
       "  </tbody>\n",
       "</table>\n",
       "</div>"
      ],
      "text/plain": [
       "   height\n",
       "0     5.0\n",
       "1     5.5\n",
       "2     6.0\n",
       "3     6.5\n",
       "4     7.0"
      ]
     },
     "execution_count": 184,
     "metadata": {},
     "output_type": "execute_result"
    }
   ],
   "source": [
    "df.iloc[:,[2]]"
   ]
  },
  {
   "cell_type": "code",
   "execution_count": 185,
   "id": "09f5179a-08cd-4dfe-a16f-03ab511a30cc",
   "metadata": {},
   "outputs": [
    {
     "data": {
      "text/html": [
       "<div>\n",
       "<style scoped>\n",
       "    .dataframe tbody tr th:only-of-type {\n",
       "        vertical-align: middle;\n",
       "    }\n",
       "\n",
       "    .dataframe tbody tr th {\n",
       "        vertical-align: top;\n",
       "    }\n",
       "\n",
       "    .dataframe thead th {\n",
       "        text-align: right;\n",
       "    }\n",
       "</style>\n",
       "<table border=\"1\" class=\"dataframe\">\n",
       "  <thead>\n",
       "    <tr style=\"text-align: right;\">\n",
       "      <th></th>\n",
       "      <th>age</th>\n",
       "    </tr>\n",
       "  </thead>\n",
       "  <tbody>\n",
       "    <tr>\n",
       "      <th>0</th>\n",
       "      <td>26.0</td>\n",
       "    </tr>\n",
       "    <tr>\n",
       "      <th>1</th>\n",
       "      <td>NaN</td>\n",
       "    </tr>\n",
       "    <tr>\n",
       "      <th>2</th>\n",
       "      <td>30.0</td>\n",
       "    </tr>\n",
       "    <tr>\n",
       "      <th>3</th>\n",
       "      <td>25.0</td>\n",
       "    </tr>\n",
       "    <tr>\n",
       "      <th>4</th>\n",
       "      <td>NaN</td>\n",
       "    </tr>\n",
       "  </tbody>\n",
       "</table>\n",
       "</div>"
      ],
      "text/plain": [
       "    age\n",
       "0  26.0\n",
       "1   NaN\n",
       "2  30.0\n",
       "3  25.0\n",
       "4   NaN"
      ]
     },
     "execution_count": 185,
     "metadata": {},
     "output_type": "execute_result"
    }
   ],
   "source": [
    "df.loc[:,[\"age\"]]"
   ]
  },
  {
   "cell_type": "code",
   "execution_count": 186,
   "id": "2655a972-683d-4174-b67e-8adbaafae3ef",
   "metadata": {},
   "outputs": [
    {
     "data": {
      "text/html": [
       "<div>\n",
       "<style scoped>\n",
       "    .dataframe tbody tr th:only-of-type {\n",
       "        vertical-align: middle;\n",
       "    }\n",
       "\n",
       "    .dataframe tbody tr th {\n",
       "        vertical-align: top;\n",
       "    }\n",
       "\n",
       "    .dataframe thead th {\n",
       "        text-align: right;\n",
       "    }\n",
       "</style>\n",
       "<table border=\"1\" class=\"dataframe\">\n",
       "  <thead>\n",
       "    <tr style=\"text-align: right;\">\n",
       "      <th></th>\n",
       "      <th>name</th>\n",
       "      <th>age</th>\n",
       "      <th>height</th>\n",
       "      <th>sallery</th>\n",
       "      <th>promotted sallery</th>\n",
       "    </tr>\n",
       "  </thead>\n",
       "  <tbody>\n",
       "    <tr>\n",
       "      <th>0</th>\n",
       "      <td>jishnu</td>\n",
       "      <td>26.0</td>\n",
       "      <td>5.0</td>\n",
       "      <td>10000</td>\n",
       "      <td>20000</td>\n",
       "    </tr>\n",
       "    <tr>\n",
       "      <th>1</th>\n",
       "      <td>vishnu</td>\n",
       "      <td>NaN</td>\n",
       "      <td>5.5</td>\n",
       "      <td>15000</td>\n",
       "      <td>30000</td>\n",
       "    </tr>\n",
       "    <tr>\n",
       "      <th>2</th>\n",
       "      <td>swetha</td>\n",
       "      <td>30.0</td>\n",
       "      <td>6.0</td>\n",
       "      <td>20000</td>\n",
       "      <td>40000</td>\n",
       "    </tr>\n",
       "    <tr>\n",
       "      <th>3</th>\n",
       "      <td>abinav</td>\n",
       "      <td>25.0</td>\n",
       "      <td>6.5</td>\n",
       "      <td>25000</td>\n",
       "      <td>50000</td>\n",
       "    </tr>\n",
       "    <tr>\n",
       "      <th>4</th>\n",
       "      <td>ajay</td>\n",
       "      <td>NaN</td>\n",
       "      <td>7.0</td>\n",
       "      <td>30000</td>\n",
       "      <td>60000</td>\n",
       "    </tr>\n",
       "  </tbody>\n",
       "</table>\n",
       "</div>"
      ],
      "text/plain": [
       "     name   age  height  sallery  promotted sallery\n",
       "0  jishnu  26.0     5.0    10000              20000\n",
       "1  vishnu   NaN     5.5    15000              30000\n",
       "2  swetha  30.0     6.0    20000              40000\n",
       "3  abinav  25.0     6.5    25000              50000\n",
       "4    ajay   NaN     7.0    30000              60000"
      ]
     },
     "execution_count": 186,
     "metadata": {},
     "output_type": "execute_result"
    }
   ],
   "source": [
    "df"
   ]
  },
  {
   "cell_type": "code",
   "execution_count": 187,
   "id": "c194c87f-1f42-4ee5-8267-e432bc5459b7",
   "metadata": {},
   "outputs": [
    {
     "data": {
      "text/html": [
       "<div>\n",
       "<style scoped>\n",
       "    .dataframe tbody tr th:only-of-type {\n",
       "        vertical-align: middle;\n",
       "    }\n",
       "\n",
       "    .dataframe tbody tr th {\n",
       "        vertical-align: top;\n",
       "    }\n",
       "\n",
       "    .dataframe thead th {\n",
       "        text-align: right;\n",
       "    }\n",
       "</style>\n",
       "<table border=\"1\" class=\"dataframe\">\n",
       "  <thead>\n",
       "    <tr style=\"text-align: right;\">\n",
       "      <th></th>\n",
       "      <th>name</th>\n",
       "      <th>age</th>\n",
       "      <th>height</th>\n",
       "      <th>sallery</th>\n",
       "      <th>promotted sallery</th>\n",
       "    </tr>\n",
       "  </thead>\n",
       "  <tbody>\n",
       "    <tr>\n",
       "      <th>0</th>\n",
       "      <td>jishnu</td>\n",
       "      <td>26.0</td>\n",
       "      <td>5.0</td>\n",
       "      <td>10000</td>\n",
       "      <td>20000</td>\n",
       "    </tr>\n",
       "    <tr>\n",
       "      <th>1</th>\n",
       "      <td>vishnu</td>\n",
       "      <td>NaN</td>\n",
       "      <td>5.5</td>\n",
       "      <td>15000</td>\n",
       "      <td>30000</td>\n",
       "    </tr>\n",
       "    <tr>\n",
       "      <th>2</th>\n",
       "      <td>swetha</td>\n",
       "      <td>30.0</td>\n",
       "      <td>6.0</td>\n",
       "      <td>20000</td>\n",
       "      <td>40000</td>\n",
       "    </tr>\n",
       "    <tr>\n",
       "      <th>3</th>\n",
       "      <td>abinav</td>\n",
       "      <td>25.0</td>\n",
       "      <td>6.5</td>\n",
       "      <td>25000</td>\n",
       "      <td>50000</td>\n",
       "    </tr>\n",
       "    <tr>\n",
       "      <th>4</th>\n",
       "      <td>ajay</td>\n",
       "      <td>NaN</td>\n",
       "      <td>7.0</td>\n",
       "      <td>30000</td>\n",
       "      <td>60000</td>\n",
       "    </tr>\n",
       "  </tbody>\n",
       "</table>\n",
       "</div>"
      ],
      "text/plain": [
       "     name   age  height  sallery  promotted sallery\n",
       "0  jishnu  26.0     5.0    10000              20000\n",
       "1  vishnu   NaN     5.5    15000              30000\n",
       "2  swetha  30.0     6.0    20000              40000\n",
       "3  abinav  25.0     6.5    25000              50000\n",
       "4    ajay   NaN     7.0    30000              60000"
      ]
     },
     "execution_count": 187,
     "metadata": {},
     "output_type": "execute_result"
    }
   ],
   "source": [
    "df"
   ]
  },
  {
   "cell_type": "code",
   "execution_count": 188,
   "id": "911853c2-e561-44f8-99a2-785937933489",
   "metadata": {},
   "outputs": [
    {
     "data": {
      "text/html": [
       "<div>\n",
       "<style scoped>\n",
       "    .dataframe tbody tr th:only-of-type {\n",
       "        vertical-align: middle;\n",
       "    }\n",
       "\n",
       "    .dataframe tbody tr th {\n",
       "        vertical-align: top;\n",
       "    }\n",
       "\n",
       "    .dataframe thead th {\n",
       "        text-align: right;\n",
       "    }\n",
       "</style>\n",
       "<table border=\"1\" class=\"dataframe\">\n",
       "  <thead>\n",
       "    <tr style=\"text-align: right;\">\n",
       "      <th></th>\n",
       "      <th>name</th>\n",
       "      <th>age</th>\n",
       "      <th>height</th>\n",
       "      <th>sallery</th>\n",
       "      <th>promotted sallery</th>\n",
       "    </tr>\n",
       "  </thead>\n",
       "  <tbody>\n",
       "    <tr>\n",
       "      <th>0</th>\n",
       "      <td>jishnu</td>\n",
       "      <td>26.0</td>\n",
       "      <td>5.0</td>\n",
       "      <td>10000.0</td>\n",
       "      <td>20000.0</td>\n",
       "    </tr>\n",
       "    <tr>\n",
       "      <th>1</th>\n",
       "      <td>vishnu</td>\n",
       "      <td>NaN</td>\n",
       "      <td>5.5</td>\n",
       "      <td>15000.0</td>\n",
       "      <td>30000.0</td>\n",
       "    </tr>\n",
       "    <tr>\n",
       "      <th>2</th>\n",
       "      <td>swetha</td>\n",
       "      <td>30.0</td>\n",
       "      <td>6.0</td>\n",
       "      <td>20000.0</td>\n",
       "      <td>40000.0</td>\n",
       "    </tr>\n",
       "    <tr>\n",
       "      <th>3</th>\n",
       "      <td>abinav</td>\n",
       "      <td>25.0</td>\n",
       "      <td>6.5</td>\n",
       "      <td>25000.0</td>\n",
       "      <td>50000.0</td>\n",
       "    </tr>\n",
       "    <tr>\n",
       "      <th>4</th>\n",
       "      <td>ajay</td>\n",
       "      <td>25.0</td>\n",
       "      <td>7.0</td>\n",
       "      <td>30000.0</td>\n",
       "      <td>60000.0</td>\n",
       "    </tr>\n",
       "    <tr>\n",
       "      <th>b</th>\n",
       "      <td>NaN</td>\n",
       "      <td>15.0</td>\n",
       "      <td>NaN</td>\n",
       "      <td>NaN</td>\n",
       "      <td>NaN</td>\n",
       "    </tr>\n",
       "  </tbody>\n",
       "</table>\n",
       "</div>"
      ],
      "text/plain": [
       "     name   age  height  sallery  promotted sallery\n",
       "0  jishnu  26.0     5.0  10000.0            20000.0\n",
       "1  vishnu   NaN     5.5  15000.0            30000.0\n",
       "2  swetha  30.0     6.0  20000.0            40000.0\n",
       "3  abinav  25.0     6.5  25000.0            50000.0\n",
       "4    ajay  25.0     7.0  30000.0            60000.0\n",
       "b     NaN  15.0     NaN      NaN                NaN"
      ]
     },
     "execution_count": 188,
     "metadata": {},
     "output_type": "execute_result"
    }
   ],
   "source": [
    "df.loc['b','age'] = 15\n",
    "df\n",
    "df.iloc[4,1] = 25\n",
    "df"
   ]
  },
  {
   "cell_type": "code",
   "execution_count": 189,
   "id": "5a7e7307-4e0a-4ae2-996b-6bb1dd4ada35",
   "metadata": {},
   "outputs": [
    {
     "data": {
      "text/plain": [
       "Index(['name', 'age', 'height', 'sallery', 'promotted sallery'], dtype='object')"
      ]
     },
     "execution_count": 189,
     "metadata": {},
     "output_type": "execute_result"
    }
   ],
   "source": [
    "df.keys()"
   ]
  },
  {
   "cell_type": "code",
   "execution_count": 190,
   "id": "6313ced8-2cf8-4584-859a-ef0bd5520495",
   "metadata": {},
   "outputs": [
    {
     "data": {
      "text/plain": [
       "count        5.00000\n",
       "mean     20000.00000\n",
       "std       7905.69415\n",
       "min      10000.00000\n",
       "25%      15000.00000\n",
       "50%      20000.00000\n",
       "75%      25000.00000\n",
       "max      30000.00000\n",
       "Name: sallery, dtype: float64"
      ]
     },
     "execution_count": 190,
     "metadata": {},
     "output_type": "execute_result"
    }
   ],
   "source": [
    "df['sallery'].describe()"
   ]
  },
  {
   "cell_type": "code",
   "execution_count": 191,
   "id": "dd665bae-e22c-4dec-a507-ad21a4d669a5",
   "metadata": {},
   "outputs": [
    {
     "name": "stdout",
     "output_type": "stream",
     "text": [
      "<class 'pandas.core.frame.DataFrame'>\n",
      "Index: 6 entries, 0 to b\n",
      "Data columns (total 5 columns):\n",
      " #   Column             Non-Null Count  Dtype  \n",
      "---  ------             --------------  -----  \n",
      " 0   name               5 non-null      object \n",
      " 1   age                5 non-null      float64\n",
      " 2   height             5 non-null      float64\n",
      " 3   sallery            5 non-null      float64\n",
      " 4   promotted sallery  5 non-null      float64\n",
      "dtypes: float64(4), object(1)\n",
      "memory usage: 460.0+ bytes\n"
     ]
    }
   ],
   "source": [
    "df.info()"
   ]
  },
  {
   "cell_type": "code",
   "execution_count": 192,
   "id": "0238bf80-5721-445c-beee-970bc00e3f29",
   "metadata": {},
   "outputs": [
    {
     "data": {
      "text/html": [
       "<div>\n",
       "<style scoped>\n",
       "    .dataframe tbody tr th:only-of-type {\n",
       "        vertical-align: middle;\n",
       "    }\n",
       "\n",
       "    .dataframe tbody tr th {\n",
       "        vertical-align: top;\n",
       "    }\n",
       "\n",
       "    .dataframe thead th {\n",
       "        text-align: right;\n",
       "    }\n",
       "</style>\n",
       "<table border=\"1\" class=\"dataframe\">\n",
       "  <thead>\n",
       "    <tr style=\"text-align: right;\">\n",
       "      <th></th>\n",
       "      <th>name</th>\n",
       "      <th>age</th>\n",
       "      <th>height</th>\n",
       "      <th>sallery</th>\n",
       "      <th>promotted sallery</th>\n",
       "    </tr>\n",
       "  </thead>\n",
       "  <tbody>\n",
       "    <tr>\n",
       "      <th>0</th>\n",
       "      <td>jishnu</td>\n",
       "      <td>26.0</td>\n",
       "      <td>5.0</td>\n",
       "      <td>10000.0</td>\n",
       "      <td>20000.0</td>\n",
       "    </tr>\n",
       "    <tr>\n",
       "      <th>1</th>\n",
       "      <td>vishnu</td>\n",
       "      <td>NaN</td>\n",
       "      <td>5.5</td>\n",
       "      <td>15000.0</td>\n",
       "      <td>30000.0</td>\n",
       "    </tr>\n",
       "    <tr>\n",
       "      <th>2</th>\n",
       "      <td>swetha</td>\n",
       "      <td>30.0</td>\n",
       "      <td>6.0</td>\n",
       "      <td>20000.0</td>\n",
       "      <td>40000.0</td>\n",
       "    </tr>\n",
       "    <tr>\n",
       "      <th>3</th>\n",
       "      <td>abinav</td>\n",
       "      <td>25.0</td>\n",
       "      <td>6.5</td>\n",
       "      <td>25000.0</td>\n",
       "      <td>50000.0</td>\n",
       "    </tr>\n",
       "    <tr>\n",
       "      <th>4</th>\n",
       "      <td>ajay</td>\n",
       "      <td>25.0</td>\n",
       "      <td>7.0</td>\n",
       "      <td>30000.0</td>\n",
       "      <td>60000.0</td>\n",
       "    </tr>\n",
       "    <tr>\n",
       "      <th>b</th>\n",
       "      <td>NaN</td>\n",
       "      <td>15.0</td>\n",
       "      <td>NaN</td>\n",
       "      <td>NaN</td>\n",
       "      <td>NaN</td>\n",
       "    </tr>\n",
       "    <tr>\n",
       "      <th>f</th>\n",
       "      <td>nasi</td>\n",
       "      <td>25.0</td>\n",
       "      <td>5.5</td>\n",
       "      <td>20000.0</td>\n",
       "      <td>0.0</td>\n",
       "    </tr>\n",
       "  </tbody>\n",
       "</table>\n",
       "</div>"
      ],
      "text/plain": [
       "     name   age  height  sallery  promotted sallery\n",
       "0  jishnu  26.0     5.0  10000.0            20000.0\n",
       "1  vishnu   NaN     5.5  15000.0            30000.0\n",
       "2  swetha  30.0     6.0  20000.0            40000.0\n",
       "3  abinav  25.0     6.5  25000.0            50000.0\n",
       "4    ajay  25.0     7.0  30000.0            60000.0\n",
       "b     NaN  15.0     NaN      NaN                NaN\n",
       "f    nasi  25.0     5.5  20000.0                0.0"
      ]
     },
     "execution_count": 192,
     "metadata": {},
     "output_type": "execute_result"
    }
   ],
   "source": [
    "df.loc['f'] = ['nasi',25,5.5,20000,0]\n",
    "df"
   ]
  },
  {
   "cell_type": "code",
   "execution_count": 193,
   "id": "60dbddff-2109-414f-bbc4-fb47e0ccec78",
   "metadata": {},
   "outputs": [
    {
     "data": {
      "text/html": [
       "<div>\n",
       "<style scoped>\n",
       "    .dataframe tbody tr th:only-of-type {\n",
       "        vertical-align: middle;\n",
       "    }\n",
       "\n",
       "    .dataframe tbody tr th {\n",
       "        vertical-align: top;\n",
       "    }\n",
       "\n",
       "    .dataframe thead th {\n",
       "        text-align: right;\n",
       "    }\n",
       "</style>\n",
       "<table border=\"1\" class=\"dataframe\">\n",
       "  <thead>\n",
       "    <tr style=\"text-align: right;\">\n",
       "      <th></th>\n",
       "      <th>name</th>\n",
       "      <th>age</th>\n",
       "      <th>height</th>\n",
       "      <th>sallery</th>\n",
       "      <th>promotted sallery</th>\n",
       "    </tr>\n",
       "  </thead>\n",
       "  <tbody>\n",
       "    <tr>\n",
       "      <th>0</th>\n",
       "      <td>jishnu</td>\n",
       "      <td>26.0</td>\n",
       "      <td>5.0</td>\n",
       "      <td>15000.0</td>\n",
       "      <td>30000.0</td>\n",
       "    </tr>\n",
       "    <tr>\n",
       "      <th>1</th>\n",
       "      <td>vishnu</td>\n",
       "      <td>NaN</td>\n",
       "      <td>5.5</td>\n",
       "      <td>20000.0</td>\n",
       "      <td>40000.0</td>\n",
       "    </tr>\n",
       "    <tr>\n",
       "      <th>2</th>\n",
       "      <td>swetha</td>\n",
       "      <td>30.0</td>\n",
       "      <td>6.0</td>\n",
       "      <td>25000.0</td>\n",
       "      <td>50000.0</td>\n",
       "    </tr>\n",
       "    <tr>\n",
       "      <th>3</th>\n",
       "      <td>abinav</td>\n",
       "      <td>25.0</td>\n",
       "      <td>6.5</td>\n",
       "      <td>30000.0</td>\n",
       "      <td>60000.0</td>\n",
       "    </tr>\n",
       "    <tr>\n",
       "      <th>4</th>\n",
       "      <td>ajay</td>\n",
       "      <td>25.0</td>\n",
       "      <td>7.0</td>\n",
       "      <td>35000.0</td>\n",
       "      <td>70000.0</td>\n",
       "    </tr>\n",
       "    <tr>\n",
       "      <th>b</th>\n",
       "      <td>NaN</td>\n",
       "      <td>15.0</td>\n",
       "      <td>NaN</td>\n",
       "      <td>NaN</td>\n",
       "      <td>NaN</td>\n",
       "    </tr>\n",
       "    <tr>\n",
       "      <th>f</th>\n",
       "      <td>nasi</td>\n",
       "      <td>25.0</td>\n",
       "      <td>5.5</td>\n",
       "      <td>25000.0</td>\n",
       "      <td>50000.0</td>\n",
       "    </tr>\n",
       "  </tbody>\n",
       "</table>\n",
       "</div>"
      ],
      "text/plain": [
       "     name   age  height  sallery  promotted sallery\n",
       "0  jishnu  26.0     5.0  15000.0            30000.0\n",
       "1  vishnu   NaN     5.5  20000.0            40000.0\n",
       "2  swetha  30.0     6.0  25000.0            50000.0\n",
       "3  abinav  25.0     6.5  30000.0            60000.0\n",
       "4    ajay  25.0     7.0  35000.0            70000.0\n",
       "b     NaN  15.0     NaN      NaN                NaN\n",
       "f    nasi  25.0     5.5  25000.0            50000.0"
      ]
     },
     "execution_count": 193,
     "metadata": {},
     "output_type": "execute_result"
    }
   ],
   "source": [
    "df['sallery'] = df['sallery'] + 5000\n",
    "df['promotted sallery'] = df['sallery'] * 2\n",
    "df"
   ]
  },
  {
   "cell_type": "markdown",
   "id": "dffc5d4d-a426-4a9e-aa42-2337c97fbbf4",
   "metadata": {},
   "source": [
    "- Basic practice with DataFrame"
   ]
  },
  {
   "cell_type": "markdown",
   "id": "1dbb42b1-1732-4385-970d-6458dff0cd73",
   "metadata": {},
   "source": [
    "## adding removing merging renaming DataFrame"
   ]
  },
  {
   "cell_type": "code",
   "execution_count": 5,
   "id": "0d4ede23-2f77-4183-a018-9c46fca1a51f",
   "metadata": {},
   "outputs": [
    {
     "name": "stdout",
     "output_type": "stream",
     "text": [
      "    name  age   department  salary  PM Salary\n",
      "0    ram   25           hr   10000      20000\n",
      "1   jhon   24        sales   25000      50000\n",
      "2  peter   20    inventory   40000      80000\n",
      "3    bob   22           IT   55000     110000\n",
      "4  maria   21  techsupport   70000     140000\n",
      "5  alise   19       intern   85000     170000\n",
      "6  diana   18     accounts  100000     200000\n",
      "7  jenny   23     teamlead   70000     160000\n",
      "\n",
      "    name  age   department  salary  PM Salary\n",
      "0    ram   25           hr   10000      20000\n",
      "1   jhon   24        sales   25000      50000\n",
      "2  peter   20    inventory   40000      80000\n",
      "3    bob   22           IT   55000     110000\n",
      "4  maria   21  techsupport   70000     140000\n",
      "5  alise   19       intern   85000     170000\n",
      "7  jenny   23     teamlead   70000     160000\n",
      "\n",
      "    name  age  salary  PM Salary\n",
      "0    ram   25   10000      20000\n",
      "1   jhon   24   25000      50000\n",
      "2  peter   20   40000      80000\n",
      "3    bob   22   55000     110000\n",
      "4  maria   21   70000     140000\n",
      "5  alise   19   85000     170000\n",
      "6  diana   18  100000     200000\n",
      "7  jenny   23   70000     160000\n",
      "\n",
      "    name  age department  salary  PM Salary\n",
      "0    ram   25         hr   10000      20000\n",
      "1   jhon   24      sales   25000      50000\n",
      "2  peter   20  inventory   40000      80000\n",
      "\n",
      "    name  age department  salary  PM Salary\n",
      "6  diana   18   accounts  100000     200000\n",
      "7  jenny   23   teamlead   70000     160000\n",
      "\n",
      "department\n",
      "hr             1\n",
      "sales          1\n",
      "inventory      1\n",
      "IT             1\n",
      "techsupport    1\n",
      "intern         1\n",
      "accounts       1\n",
      "teamlead       1\n",
      "Name: count, dtype: int64\n",
      "\n",
      "    name  age department  salary  PM Salary\n",
      "6  diana   18   accounts  100000     200000\n"
     ]
    }
   ],
   "source": [
    "obj1 = { \n",
    "    'name':['ram','jhon','peter','bob'],\n",
    "    'age':[25,24,20,22]\n",
    "}\n",
    "\n",
    "obj2 = {\n",
    "    'name':['maria','alise','diana'],\n",
    "    'age':[21,19,18]\n",
    "}\n",
    "\n",
    "df1 = pd.DataFrame(obj1)\n",
    "df2 = pd.DataFrame(obj2)\n",
    "\n",
    "df3 = pd.concat([df1,df2],ignore_index = True) # used for concatinating 2 data frames in to one\n",
    "df3[\"department\"] = ['hr','sales','inventory','IT','techsupport','intern','accounts'] # adding new column\n",
    "df3[\"salary\"] = np.linspace(10000,100000,7,dtype = int)\n",
    "df3[\"promotted salary\"] = df3['salary'] *2 # broadcasting \n",
    "df3.rename(columns = {\"promotted salary\":\"PM Salary\"}, inplace = True) # renaming a column\n",
    "df3.loc[7] = ['jenny',23,'teamlead',70000,160000] # adding new row\n",
    "dele = df3.drop(6,axis = 0, inplace = False) # deleting rows\n",
    "re = df3.drop('department', axis = 1 , inplace = False) # deleting columns\n",
    "top = df3.sort_values('salary' , ascending = False).head(1) # finding top sallery person\n",
    "print(df3)\n",
    "print()\n",
    "print(dele)\n",
    "print()\n",
    "print(re)\n",
    "print()\n",
    "print(df3.head(3))\n",
    "print()\n",
    "print(df3.tail(2))\n",
    "print()\n",
    "print(df3['department'].value_counts())\n",
    "print()\n",
    "print(top)\n"
   ]
  },
  {
   "cell_type": "markdown",
   "id": "8fbad087-6e3e-4dea-be21-d86b360709ef",
   "metadata": {},
   "source": [
    "## Dealing with missing values\n",
    "- ffill() & bfill()\n",
    "- 2 types of filling null values forward filling and backward filling"
   ]
  },
  {
   "cell_type": "code",
   "execution_count": 23,
   "id": "df7e27ec-3c2c-4a16-9ca8-b7a2e9cd46ae",
   "metadata": {},
   "outputs": [
    {
     "name": "stdout",
     "output_type": "stream",
     "text": [
      "0    12.0\n",
      "1    23.0\n",
      "2    21.0\n",
      "3     NaN\n",
      "4    12.0\n",
      "5    32.0\n",
      "6     NaN\n",
      "Name: Numbers, dtype: float64\n",
      "\n",
      "0    12.0\n",
      "1    23.0\n",
      "2    21.0\n",
      "3    21.0\n",
      "4    12.0\n",
      "5    32.0\n",
      "6    32.0\n",
      "Name: Numbers, dtype: float64\n",
      "\n",
      "0    12.0\n",
      "1    23.0\n",
      "2    21.0\n",
      "3    12.0\n",
      "4    12.0\n",
      "5    32.0\n",
      "6     NaN\n",
      "Name: Numbers, dtype: float64\n",
      "<class 'pandas.core.series.Series'>\n",
      "RangeIndex: 7 entries, 0 to 6\n",
      "Series name: Numbers\n",
      "Non-Null Count  Dtype  \n",
      "--------------  -----  \n",
      "5 non-null      float64\n",
      "dtypes: float64(1)\n",
      "memory usage: 188.0 bytes\n"
     ]
    },
    {
     "data": {
      "text/plain": [
       "0    12.0\n",
       "1    23.0\n",
       "2    21.0\n",
       "3    21.0\n",
       "4    12.0\n",
       "5    32.0\n",
       "6    21.0\n",
       "Name: Numbers, dtype: float64"
      ]
     },
     "execution_count": 23,
     "metadata": {},
     "output_type": "execute_result"
    }
   ],
   "source": [
    "list1 = [12,23,21,np.nan,12,32,np.nan]\n",
    "\n",
    "s1 = pd.Series(list1)\n",
    "s1.name = 'Numbers'\n",
    "print(s1)\n",
    "print()\n",
    "f1 = s1.ffill() # forward fill used to fill values from the next known value from above\n",
    "print(f1)\n",
    "f2 = s1.bfill() # backward fill used to fill values from the next known values from below\n",
    "print()\n",
    "print(f2)\n",
    "d = s1.drop([6,3],inplace = False)\n",
    "d\n",
    "s1.info()\n",
    "f2.describe()\n",
    "\n",
    "fil = s1.fillna(s1.median(),inplace = False) # another method of filling values\n",
    "fil"
   ]
  },
  {
   "cell_type": "code",
   "execution_count": null,
   "id": "28216cd2-8e97-4312-8b40-befeecf93f23",
   "metadata": {},
   "outputs": [],
   "source": []
  }
 ],
 "metadata": {
  "kernelspec": {
   "display_name": "Python 3 (ipykernel)",
   "language": "python",
   "name": "python3"
  },
  "language_info": {
   "codemirror_mode": {
    "name": "ipython",
    "version": 3
   },
   "file_extension": ".py",
   "mimetype": "text/x-python",
   "name": "python",
   "nbconvert_exporter": "python",
   "pygments_lexer": "ipython3",
   "version": "3.13.5"
  }
 },
 "nbformat": 4,
 "nbformat_minor": 5
}
