{
 "cells": [
  {
   "cell_type": "markdown",
   "id": "d89c8f19-b649-49b3-9ff7-be894086da4a",
   "metadata": {},
   "source": [
    "# Pandas"
   ]
  },
  {
   "cell_type": "markdown",
   "id": "b5119d68-7343-4acd-afa8-02dcff66f671",
   "metadata": {},
   "source": [
    "- its a python library used for working with datas\n",
    "- it provides easy to use data structure \n",
    "- helps cleaning,manipulation and analysis \n",
    "- can easily import datasets from csv,excel,json and sql\n",
    "- there are two primary data structures in pandas **Series** & **Dataframe**\n",
    "- **Series** -> 1D labeled homogeneous array\n",
    "- **DataFrame** -> 2d labeled heterogeneous table"
   ]
  },
  {
   "cell_type": "code",
   "execution_count": 1,
   "id": "66384ad0-6b03-4224-a8fd-357368d268e6",
   "metadata": {},
   "outputs": [],
   "source": [
    "import pandas as pd"
   ]
  },
  {
   "cell_type": "markdown",
   "id": "90ac8ed5-d679-49dc-ac64-5560c68049e8",
   "metadata": {},
   "source": [
    "# Series\n",
    "- 1D single column data\n",
    "- homogeneus -> usually stores one data type\n",
    "- size immputable -> once created, the number of elements cannot change, but the values can be updated\n",
    "- labled -> each elements has an index, default range index"
   ]
  },
  {
   "cell_type": "code",
   "execution_count": 44,
   "id": "974dba83-82ad-4c1b-b134-3130de1e7d30",
   "metadata": {},
   "outputs": [
    {
     "data": {
      "text/plain": [
       "dtype('int64')"
      ]
     },
     "execution_count": 44,
     "metadata": {},
     "output_type": "execute_result"
    }
   ],
   "source": [
    "s1 = pd.Series([10,20,30,40,50]) # used for creating single column data\n",
    "\n",
    "s1.dtype"
   ]
  },
  {
   "cell_type": "code",
   "execution_count": 45,
   "id": "f36ca9d8-2a63-4b0d-a3d2-454bc5004ee1",
   "metadata": {},
   "outputs": [
    {
     "data": {
      "text/plain": [
       "array([10, 20, 30, 40, 50])"
      ]
     },
     "execution_count": 45,
     "metadata": {},
     "output_type": "execute_result"
    }
   ],
   "source": [
    "s1.values # used for checking values of the series"
   ]
  },
  {
   "cell_type": "code",
   "execution_count": 48,
   "id": "c6b748d1-efd6-440a-abad-618ce66a61f4",
   "metadata": {},
   "outputs": [
    {
     "data": {
      "text/plain": [
       "Index(['a', 'b', 'c', 'd', 'f'], dtype='object')"
      ]
     },
     "execution_count": 48,
     "metadata": {},
     "output_type": "execute_result"
    }
   ],
   "source": [
    "s1.index #gives the index lables"
   ]
  },
  {
   "cell_type": "code",
   "execution_count": 47,
   "id": "7ddea29d-ac13-4895-82e9-76e3b8f4c21a",
   "metadata": {},
   "outputs": [
    {
     "data": {
      "text/plain": [
       "a    10\n",
       "b    20\n",
       "c    30\n",
       "d    40\n",
       "f    50\n",
       "dtype: int64"
      ]
     },
     "execution_count": 47,
     "metadata": {},
     "output_type": "execute_result"
    }
   ],
   "source": [
    "index = ['a','b','c','d','f']\n",
    "\n",
    "s1.index = index # also can change the index lables\n",
    "\n",
    "s1"
   ]
  },
  {
   "cell_type": "code",
   "execution_count": 50,
   "id": "fb095ba3-e327-4575-ab91-aafa849ac21f",
   "metadata": {},
   "outputs": [
    {
     "data": {
      "text/plain": [
       "Index(['a', 'b', 'c', 'd', 'f'], dtype='object')"
      ]
     },
     "execution_count": 50,
     "metadata": {},
     "output_type": "execute_result"
    }
   ],
   "source": [
    "s1.keys() # gives the index numbers or custom lables "
   ]
  },
  {
   "cell_type": "code",
   "execution_count": 53,
   "id": "a6db724a-c49a-48c4-bdd1-1fec29461d63",
   "metadata": {},
   "outputs": [
    {
     "data": {
      "text/plain": [
       "a    10\n",
       "b    20\n",
       "c    30\n",
       "dtype: int64"
      ]
     },
     "execution_count": 53,
     "metadata": {},
     "output_type": "execute_result"
    }
   ],
   "source": [
    "s1['a':'c'] # in lable baased indexing the start value as well as the stop value also includes in the output\n",
    "# in normal indexing the stop value will exclude in the out put "
   ]
  },
  {
   "cell_type": "code",
   "execution_count": 54,
   "id": "353bb886-839e-4739-9bf9-6c358cde01b8",
   "metadata": {},
   "outputs": [
    {
     "data": {
      "text/plain": [
       "np.int64(10)"
      ]
     },
     "execution_count": 54,
     "metadata": {},
     "output_type": "execute_result"
    }
   ],
   "source": [
    "s1.iloc[0] # accesse by integer position only it ignore lables always looks at the numeric position"
   ]
  },
  {
   "cell_type": "code",
   "execution_count": 68,
   "id": "f0486c1c-4b50-4b7a-93b1-f34d8c1a564c",
   "metadata": {},
   "outputs": [
    {
     "data": {
      "text/plain": [
       "np.int64(10)"
      ]
     },
     "execution_count": 68,
     "metadata": {},
     "output_type": "execute_result"
    }
   ],
   "source": [
    "s1.loc['a'] # access by index lables work with default numbers or custom lables"
   ]
  },
  {
   "cell_type": "code",
   "execution_count": 66,
   "id": "2ea91330-05b0-42dc-8728-01731d55a8fe",
   "metadata": {},
   "outputs": [
    {
     "name": "stdout",
     "output_type": "stream",
     "text": [
      "numbers\n",
      "a    10\n",
      "b    20\n",
      "c    30\n",
      "d    40\n",
      "f    50\n",
      "Name: numbers, dtype: int64\n"
     ]
    }
   ],
   "source": [
    "# the default name will be None\n",
    "s1.name = \"numbers\" # we can assign a new name using .name\n",
    "print(s1.name)\n",
    "print(s1)"
   ]
  },
  {
   "cell_type": "code",
   "execution_count": 6,
   "id": "6883100c-4e4a-4d51-96a7-8eb123bdd9cd",
   "metadata": {},
   "outputs": [
    {
     "name": "stdout",
     "output_type": "stream",
     "text": [
      "fruits\n",
      "apple         27\n",
      "orange        21\n",
      "banana        30\n",
      "grape         25\n",
      "pineapple     20\n",
      "strawberry    32\n",
      "blueberry     45\n",
      "jackfruit     26\n",
      "lemon         12\n",
      "avocado       28\n",
      "Name: fruits, dtype: int64\n"
     ]
    }
   ],
   "source": [
    "# creating a Series out of a dictionary\n",
    "dict1 = {\n",
    "    \"apple\":27,\n",
    "    \"orange\":21,\n",
    "    \"banana\":30,\n",
    "    \"grape\":25,\n",
    "    \"pineapple\":20,\n",
    "    \"strawberry\":32,\n",
    "    \"blueberry\":45,\n",
    "    \"jackfruit\":26,\n",
    "    \"lemon\":12,\n",
    "    \"avocado\":28\n",
    "}\n",
    "\n",
    "s2 = pd.Series(dict1, name=\"fruits\") \n",
    "print(s2.name)\n",
    "print(s2)"
   ]
  },
  {
   "cell_type": "code",
   "execution_count": 73,
   "id": "0656cb72-ad26-4948-b11f-1e238f484aab",
   "metadata": {},
   "outputs": [
    {
     "data": {
      "text/plain": [
       "orange    21\n",
       "apple     27\n",
       "banana    30\n",
       "Name: fruits, dtype: int64"
      ]
     },
     "execution_count": 73,
     "metadata": {},
     "output_type": "execute_result"
    }
   ],
   "source": [
    "s2.loc[['orange','apple','banana']]"
   ]
  },
  {
   "cell_type": "code",
   "execution_count": 74,
   "id": "7b1a7cbd-4a04-4c70-a056-750bc975559c",
   "metadata": {},
   "outputs": [
    {
     "data": {
      "text/plain": [
       "orange    21\n",
       "banana    30\n",
       "grape     25\n",
       "Name: fruits, dtype: int64"
      ]
     },
     "execution_count": 74,
     "metadata": {},
     "output_type": "execute_result"
    }
   ],
   "source": [
    "s2.iloc[1:4]"
   ]
  },
  {
   "cell_type": "code",
   "execution_count": 80,
   "id": "19413605-7260-43bc-aade-e6aacfe0c30f",
   "metadata": {},
   "outputs": [
    {
     "data": {
      "text/plain": [
       "avocado      28\n",
       "lemon        12\n",
       "jackfruit    26\n",
       "Name: fruits, dtype: int64"
      ]
     },
     "execution_count": 80,
     "metadata": {},
     "output_type": "execute_result"
    }
   ],
   "source": [
    "s2.iloc[[9,8,7]]"
   ]
  },
  {
   "cell_type": "code",
   "execution_count": 7,
   "id": "4f621a64-e66d-4c59-b712-6a2536570242",
   "metadata": {},
   "outputs": [
    {
     "name": "stdout",
     "output_type": "stream",
     "text": [
      "Index(['apple', 'orange', 'banana', 'grape', 'pineapple', 'strawberry',\n",
      "       'blueberry', 'jackfruit', 'lemon', 'avocado'],\n",
      "      dtype='object')\n",
      "[27 21 30 25 20 32 45 26 12 28]\n"
     ]
    }
   ],
   "source": [
    "print(s2.keys())\n",
    "print(s2.values)"
   ]
  },
  {
   "cell_type": "code",
   "execution_count": 87,
   "id": "81f9d6f6-137d-423d-8f63-6b1fac03e1f2",
   "metadata": {},
   "outputs": [
    {
     "data": {
      "text/plain": [
       "banana        30\n",
       "strawberry    32\n",
       "blueberry     45\n",
       "avocado       28\n",
       "Name: fruits, dtype: int64"
      ]
     },
     "execution_count": 87,
     "metadata": {},
     "output_type": "execute_result"
    }
   ],
   "source": [
    "extract = s2[s2>=28] # filtering series values using a condition called conditional selection\n",
    "extract"
   ]
  },
  {
   "cell_type": "code",
   "execution_count": 92,
   "id": "aa58b0ef-bc97-4cb3-83ad-8c496aa255b1",
   "metadata": {},
   "outputs": [
    {
     "data": {
      "text/plain": [
       "[apple          True\n",
       " orange         True\n",
       " banana        False\n",
       " grape          True\n",
       " pineapple     False\n",
       " strawberry    False\n",
       " blueberry     False\n",
       " jackfruit      True\n",
       " lemon         False\n",
       " avocado        True\n",
       " Name: fruits, dtype: bool]"
      ]
     },
     "execution_count": 92,
     "metadata": {},
     "output_type": "execute_result"
    }
   ],
   "source": [
    "[(s2>20) & (s2<30)] # we need both condition meets true to get the result true"
   ]
  },
  {
   "cell_type": "code",
   "execution_count": 94,
   "id": "dfadef31-5bd8-424a-a50f-994da3d26134",
   "metadata": {},
   "outputs": [
    {
     "data": {
      "text/plain": [
       "apple          27\n",
       "orange         21\n",
       "banana         30\n",
       "grape         100\n",
       "pineapple      20\n",
       "strawberry     32\n",
       "blueberry      45\n",
       "jackfruit      26\n",
       "lemon          12\n",
       "avocado        28\n",
       "Name: fruits, dtype: int64"
      ]
     },
     "execution_count": 94,
     "metadata": {},
     "output_type": "execute_result"
    }
   ],
   "source": [
    "s2[\"grape\"]=100 # this is how we can modify a series\n",
    "s2"
   ]
  },
  {
   "cell_type": "markdown",
   "id": "f5cce3e1-e83c-4b4f-956e-9cef5fe54a67",
   "metadata": {},
   "source": [
    "# DataFrame\n",
    "- 2D structure multiple rows and columns\n",
    "- hetrogeneous -> each column can have multiple data types\n",
    "- size mutable -> can remove or add rows and columns\n",
    "- rows can have index numbers (can be customized) columns can have names/lables\n",
    "- tabular structure -> data is organized as a table format"
   ]
  },
  {
   "cell_type": "code",
   "execution_count": 88,
   "id": "20b85dbe-8af0-411e-b668-7a1ee8d43a3a",
   "metadata": {},
   "outputs": [
    {
     "data": {
      "text/html": [
       "<div>\n",
       "<style scoped>\n",
       "    .dataframe tbody tr th:only-of-type {\n",
       "        vertical-align: middle;\n",
       "    }\n",
       "\n",
       "    .dataframe tbody tr th {\n",
       "        vertical-align: top;\n",
       "    }\n",
       "\n",
       "    .dataframe thead th {\n",
       "        text-align: right;\n",
       "    }\n",
       "</style>\n",
       "<table border=\"1\" class=\"dataframe\">\n",
       "  <thead>\n",
       "    <tr style=\"text-align: right;\">\n",
       "      <th></th>\n",
       "      <th>name</th>\n",
       "      <th>age</th>\n",
       "      <th>department</th>\n",
       "      <th>sallery</th>\n",
       "    </tr>\n",
       "  </thead>\n",
       "  <tbody>\n",
       "    <tr>\n",
       "      <th>a</th>\n",
       "      <td>jishnu</td>\n",
       "      <td>26.0</td>\n",
       "      <td>HR</td>\n",
       "      <td>50000.0</td>\n",
       "    </tr>\n",
       "    <tr>\n",
       "      <th>b</th>\n",
       "      <td>anusree</td>\n",
       "      <td>26.0</td>\n",
       "      <td>sales</td>\n",
       "      <td>25000.0</td>\n",
       "    </tr>\n",
       "    <tr>\n",
       "      <th>c</th>\n",
       "      <td>vishnu</td>\n",
       "      <td>16.0</td>\n",
       "      <td>student</td>\n",
       "      <td>NaN</td>\n",
       "    </tr>\n",
       "    <tr>\n",
       "      <th>d</th>\n",
       "      <td>abi</td>\n",
       "      <td>NaN</td>\n",
       "      <td>intern</td>\n",
       "      <td>10000.0</td>\n",
       "    </tr>\n",
       "  </tbody>\n",
       "</table>\n",
       "</div>"
      ],
      "text/plain": [
       "      name   age department  sallery\n",
       "a   jishnu  26.0         HR  50000.0\n",
       "b  anusree  26.0      sales  25000.0\n",
       "c   vishnu  16.0    student      NaN\n",
       "d      abi   NaN     intern  10000.0"
      ]
     },
     "execution_count": 88,
     "metadata": {},
     "output_type": "execute_result"
    }
   ],
   "source": [
    "import numpy as np\n",
    "\n",
    "data = {\n",
    "    \"name\":[\"jishnu\",\"anusree\",\"vishnu\",\"abi\"],\n",
    "    \"age\":[26,26,16,np.nan],\n",
    "    \"department\":[\"HR\",\"sales\",\"student\",\"intern\"],\n",
    "    \"sallery\":[50000,25000,np.nan,10000]\n",
    "}\n",
    "\n",
    "df = pd.DataFrame(data)\n",
    "df.index = ['a','b','c','d']\n",
    "df\n",
    "    "
   ]
  },
  {
   "cell_type": "code",
   "execution_count": 89,
   "id": "f0b7cbdd-7864-4529-a721-ac24c287c71f",
   "metadata": {},
   "outputs": [
    {
     "data": {
      "text/html": [
       "<div>\n",
       "<style scoped>\n",
       "    .dataframe tbody tr th:only-of-type {\n",
       "        vertical-align: middle;\n",
       "    }\n",
       "\n",
       "    .dataframe tbody tr th {\n",
       "        vertical-align: top;\n",
       "    }\n",
       "\n",
       "    .dataframe thead th {\n",
       "        text-align: right;\n",
       "    }\n",
       "</style>\n",
       "<table border=\"1\" class=\"dataframe\">\n",
       "  <thead>\n",
       "    <tr style=\"text-align: right;\">\n",
       "      <th></th>\n",
       "      <th>name</th>\n",
       "      <th>age</th>\n",
       "      <th>department</th>\n",
       "      <th>sallery</th>\n",
       "    </tr>\n",
       "  </thead>\n",
       "  <tbody>\n",
       "    <tr>\n",
       "      <th>a</th>\n",
       "      <td>jishnu</td>\n",
       "      <td>26.0</td>\n",
       "      <td>HR</td>\n",
       "      <td>50000.0</td>\n",
       "    </tr>\n",
       "    <tr>\n",
       "      <th>b</th>\n",
       "      <td>anusree</td>\n",
       "      <td>26.0</td>\n",
       "      <td>sales</td>\n",
       "      <td>25000.0</td>\n",
       "    </tr>\n",
       "  </tbody>\n",
       "</table>\n",
       "</div>"
      ],
      "text/plain": [
       "      name   age department  sallery\n",
       "a   jishnu  26.0         HR  50000.0\n",
       "b  anusree  26.0      sales  25000.0"
      ]
     },
     "execution_count": 89,
     "metadata": {},
     "output_type": "execute_result"
    }
   ],
   "source": [
    "df.head(2) # to quickly view first few rows (works both in data frame and series)"
   ]
  },
  {
   "cell_type": "code",
   "execution_count": 90,
   "id": "fce7036d-8f92-4261-b7f1-3148173b506c",
   "metadata": {},
   "outputs": [
    {
     "data": {
      "text/html": [
       "<div>\n",
       "<style scoped>\n",
       "    .dataframe tbody tr th:only-of-type {\n",
       "        vertical-align: middle;\n",
       "    }\n",
       "\n",
       "    .dataframe tbody tr th {\n",
       "        vertical-align: top;\n",
       "    }\n",
       "\n",
       "    .dataframe thead th {\n",
       "        text-align: right;\n",
       "    }\n",
       "</style>\n",
       "<table border=\"1\" class=\"dataframe\">\n",
       "  <thead>\n",
       "    <tr style=\"text-align: right;\">\n",
       "      <th></th>\n",
       "      <th>name</th>\n",
       "      <th>age</th>\n",
       "      <th>department</th>\n",
       "      <th>sallery</th>\n",
       "    </tr>\n",
       "  </thead>\n",
       "  <tbody>\n",
       "    <tr>\n",
       "      <th>b</th>\n",
       "      <td>anusree</td>\n",
       "      <td>26.0</td>\n",
       "      <td>sales</td>\n",
       "      <td>25000.0</td>\n",
       "    </tr>\n",
       "    <tr>\n",
       "      <th>c</th>\n",
       "      <td>vishnu</td>\n",
       "      <td>16.0</td>\n",
       "      <td>student</td>\n",
       "      <td>NaN</td>\n",
       "    </tr>\n",
       "    <tr>\n",
       "      <th>d</th>\n",
       "      <td>abi</td>\n",
       "      <td>NaN</td>\n",
       "      <td>intern</td>\n",
       "      <td>10000.0</td>\n",
       "    </tr>\n",
       "  </tbody>\n",
       "</table>\n",
       "</div>"
      ],
      "text/plain": [
       "      name   age department  sallery\n",
       "b  anusree  26.0      sales  25000.0\n",
       "c   vishnu  16.0    student      NaN\n",
       "d      abi   NaN     intern  10000.0"
      ]
     },
     "execution_count": 90,
     "metadata": {},
     "output_type": "execute_result"
    }
   ],
   "source": [
    "df.tail(3) # to quickly view last few rows (works both in data frame and sseries)"
   ]
  },
  {
   "cell_type": "code",
   "execution_count": 91,
   "id": "d279f328-9f47-4d0b-af42-4ef203aee15e",
   "metadata": {},
   "outputs": [
    {
     "data": {
      "text/html": [
       "<div>\n",
       "<style scoped>\n",
       "    .dataframe tbody tr th:only-of-type {\n",
       "        vertical-align: middle;\n",
       "    }\n",
       "\n",
       "    .dataframe tbody tr th {\n",
       "        vertical-align: top;\n",
       "    }\n",
       "\n",
       "    .dataframe thead th {\n",
       "        text-align: right;\n",
       "    }\n",
       "</style>\n",
       "<table border=\"1\" class=\"dataframe\">\n",
       "  <thead>\n",
       "    <tr style=\"text-align: right;\">\n",
       "      <th></th>\n",
       "      <th>department</th>\n",
       "      <th>sallery</th>\n",
       "    </tr>\n",
       "  </thead>\n",
       "  <tbody>\n",
       "    <tr>\n",
       "      <th>a</th>\n",
       "      <td>HR</td>\n",
       "      <td>50000.0</td>\n",
       "    </tr>\n",
       "    <tr>\n",
       "      <th>b</th>\n",
       "      <td>sales</td>\n",
       "      <td>25000.0</td>\n",
       "    </tr>\n",
       "    <tr>\n",
       "      <th>c</th>\n",
       "      <td>student</td>\n",
       "      <td>NaN</td>\n",
       "    </tr>\n",
       "  </tbody>\n",
       "</table>\n",
       "</div>"
      ],
      "text/plain": [
       "  department  sallery\n",
       "a         HR  50000.0\n",
       "b      sales  25000.0\n",
       "c    student      NaN"
      ]
     },
     "execution_count": 91,
     "metadata": {},
     "output_type": "execute_result"
    }
   ],
   "source": [
    "df.loc['a':'c' ,[\"department\",\"sallery\"]] # [rows , labeled indexing]"
   ]
  },
  {
   "cell_type": "code",
   "execution_count": 92,
   "id": "8eb3b3bc-0a66-4147-a2fb-bf32cfbf654b",
   "metadata": {},
   "outputs": [
    {
     "data": {
      "text/html": [
       "<div>\n",
       "<style scoped>\n",
       "    .dataframe tbody tr th:only-of-type {\n",
       "        vertical-align: middle;\n",
       "    }\n",
       "\n",
       "    .dataframe tbody tr th {\n",
       "        vertical-align: top;\n",
       "    }\n",
       "\n",
       "    .dataframe thead th {\n",
       "        text-align: right;\n",
       "    }\n",
       "</style>\n",
       "<table border=\"1\" class=\"dataframe\">\n",
       "  <thead>\n",
       "    <tr style=\"text-align: right;\">\n",
       "      <th></th>\n",
       "      <th>age</th>\n",
       "      <th>department</th>\n",
       "    </tr>\n",
       "  </thead>\n",
       "  <tbody>\n",
       "    <tr>\n",
       "      <th>c</th>\n",
       "      <td>16.0</td>\n",
       "      <td>student</td>\n",
       "    </tr>\n",
       "    <tr>\n",
       "      <th>d</th>\n",
       "      <td>NaN</td>\n",
       "      <td>intern</td>\n",
       "    </tr>\n",
       "  </tbody>\n",
       "</table>\n",
       "</div>"
      ],
      "text/plain": [
       "    age department\n",
       "c  16.0    student\n",
       "d   NaN     intern"
      ]
     },
     "execution_count": 92,
     "metadata": {},
     "output_type": "execute_result"
    }
   ],
   "source": [
    "df.iloc[2:4,1:3] # [rows,columns] in numerical indexing"
   ]
  },
  {
   "cell_type": "code",
   "execution_count": 93,
   "id": "f9ae4592-39d0-49d9-a0ca-9709d1e5b145",
   "metadata": {},
   "outputs": [
    {
     "data": {
      "text/plain": [
       "a         HR\n",
       "b      sales\n",
       "c    student\n",
       "d     intern\n",
       "Name: department, dtype: object"
      ]
     },
     "execution_count": 93,
     "metadata": {},
     "output_type": "execute_result"
    }
   ],
   "source": [
    "df[\"department\"]"
   ]
  },
  {
   "cell_type": "code",
   "execution_count": 94,
   "id": "195b5a14-fa7d-4631-a21c-b795a2154b9e",
   "metadata": {},
   "outputs": [
    {
     "data": {
      "text/html": [
       "<div>\n",
       "<style scoped>\n",
       "    .dataframe tbody tr th:only-of-type {\n",
       "        vertical-align: middle;\n",
       "    }\n",
       "\n",
       "    .dataframe tbody tr th {\n",
       "        vertical-align: top;\n",
       "    }\n",
       "\n",
       "    .dataframe thead th {\n",
       "        text-align: right;\n",
       "    }\n",
       "</style>\n",
       "<table border=\"1\" class=\"dataframe\">\n",
       "  <thead>\n",
       "    <tr style=\"text-align: right;\">\n",
       "      <th></th>\n",
       "      <th>name</th>\n",
       "      <th>age</th>\n",
       "      <th>department</th>\n",
       "      <th>sallery</th>\n",
       "    </tr>\n",
       "  </thead>\n",
       "  <tbody>\n",
       "    <tr>\n",
       "      <th>a</th>\n",
       "      <td>jishnu</td>\n",
       "      <td>26.0</td>\n",
       "      <td>HR</td>\n",
       "      <td>50000.0</td>\n",
       "    </tr>\n",
       "    <tr>\n",
       "      <th>b</th>\n",
       "      <td>anusree</td>\n",
       "      <td>26.0</td>\n",
       "      <td>sales</td>\n",
       "      <td>25000.0</td>\n",
       "    </tr>\n",
       "    <tr>\n",
       "      <th>c</th>\n",
       "      <td>vishnu</td>\n",
       "      <td>16.0</td>\n",
       "      <td>student</td>\n",
       "      <td>NaN</td>\n",
       "    </tr>\n",
       "    <tr>\n",
       "      <th>d</th>\n",
       "      <td>abi</td>\n",
       "      <td>NaN</td>\n",
       "      <td>intern</td>\n",
       "      <td>10000.0</td>\n",
       "    </tr>\n",
       "  </tbody>\n",
       "</table>\n",
       "</div>"
      ],
      "text/plain": [
       "      name   age department  sallery\n",
       "a   jishnu  26.0         HR  50000.0\n",
       "b  anusree  26.0      sales  25000.0\n",
       "c   vishnu  16.0    student      NaN\n",
       "d      abi   NaN     intern  10000.0"
      ]
     },
     "execution_count": 94,
     "metadata": {},
     "output_type": "execute_result"
    }
   ],
   "source": [
    "df"
   ]
  },
  {
   "cell_type": "code",
   "execution_count": 95,
   "id": "9020c963-c6b7-47ad-a824-d58155d3001f",
   "metadata": {},
   "outputs": [
    {
     "data": {
      "text/html": [
       "<div>\n",
       "<style scoped>\n",
       "    .dataframe tbody tr th:only-of-type {\n",
       "        vertical-align: middle;\n",
       "    }\n",
       "\n",
       "    .dataframe tbody tr th {\n",
       "        vertical-align: top;\n",
       "    }\n",
       "\n",
       "    .dataframe thead th {\n",
       "        text-align: right;\n",
       "    }\n",
       "</style>\n",
       "<table border=\"1\" class=\"dataframe\">\n",
       "  <thead>\n",
       "    <tr style=\"text-align: right;\">\n",
       "      <th></th>\n",
       "      <th>name</th>\n",
       "      <th>department</th>\n",
       "      <th>sallery</th>\n",
       "    </tr>\n",
       "  </thead>\n",
       "  <tbody>\n",
       "    <tr>\n",
       "      <th>a</th>\n",
       "      <td>jishnu</td>\n",
       "      <td>HR</td>\n",
       "      <td>50000.0</td>\n",
       "    </tr>\n",
       "    <tr>\n",
       "      <th>b</th>\n",
       "      <td>anusree</td>\n",
       "      <td>sales</td>\n",
       "      <td>25000.0</td>\n",
       "    </tr>\n",
       "    <tr>\n",
       "      <th>c</th>\n",
       "      <td>vishnu</td>\n",
       "      <td>student</td>\n",
       "      <td>NaN</td>\n",
       "    </tr>\n",
       "    <tr>\n",
       "      <th>d</th>\n",
       "      <td>abi</td>\n",
       "      <td>intern</td>\n",
       "      <td>10000.0</td>\n",
       "    </tr>\n",
       "  </tbody>\n",
       "</table>\n",
       "</div>"
      ],
      "text/plain": [
       "      name department  sallery\n",
       "a   jishnu         HR  50000.0\n",
       "b  anusree      sales  25000.0\n",
       "c   vishnu    student      NaN\n",
       "d      abi     intern  10000.0"
      ]
     },
     "execution_count": 95,
     "metadata": {},
     "output_type": "execute_result"
    }
   ],
   "source": [
    "df.drop('age',axis=1,inplace=False) # used to remove rows or columns using lable (lable,axis,inplase = False by default \n",
    "# when inplace make True manually it will remove the entire row or column permenently"
   ]
  },
  {
   "cell_type": "code",
   "execution_count": 162,
   "id": "ede4d9c4-f2df-4419-b95a-b76f6277467b",
   "metadata": {},
   "outputs": [
    {
     "data": {
      "text/html": [
       "<div>\n",
       "<style scoped>\n",
       "    .dataframe tbody tr th:only-of-type {\n",
       "        vertical-align: middle;\n",
       "    }\n",
       "\n",
       "    .dataframe tbody tr th {\n",
       "        vertical-align: top;\n",
       "    }\n",
       "\n",
       "    .dataframe thead th {\n",
       "        text-align: right;\n",
       "    }\n",
       "</style>\n",
       "<table border=\"1\" class=\"dataframe\">\n",
       "  <thead>\n",
       "    <tr style=\"text-align: right;\">\n",
       "      <th></th>\n",
       "      <th>name</th>\n",
       "      <th>age</th>\n",
       "      <th>department</th>\n",
       "      <th>sallery</th>\n",
       "    </tr>\n",
       "  </thead>\n",
       "  <tbody>\n",
       "    <tr>\n",
       "      <th>a</th>\n",
       "      <td>jishnu</td>\n",
       "      <td>26.0</td>\n",
       "      <td>HR</td>\n",
       "      <td>50000.0</td>\n",
       "    </tr>\n",
       "    <tr>\n",
       "      <th>b</th>\n",
       "      <td>anusree</td>\n",
       "      <td>26.0</td>\n",
       "      <td>sales</td>\n",
       "      <td>25000.0</td>\n",
       "    </tr>\n",
       "    <tr>\n",
       "      <th>c</th>\n",
       "      <td>vishnu</td>\n",
       "      <td>16.0</td>\n",
       "      <td>student</td>\n",
       "      <td>NaN</td>\n",
       "    </tr>\n",
       "    <tr>\n",
       "      <th>d</th>\n",
       "      <td>abi</td>\n",
       "      <td>NaN</td>\n",
       "      <td>intern</td>\n",
       "      <td>10000.0</td>\n",
       "    </tr>\n",
       "  </tbody>\n",
       "</table>\n",
       "</div>"
      ],
      "text/plain": [
       "      name   age department  sallery\n",
       "a   jishnu  26.0         HR  50000.0\n",
       "b  anusree  26.0      sales  25000.0\n",
       "c   vishnu  16.0    student      NaN\n",
       "d      abi   NaN     intern  10000.0"
      ]
     },
     "execution_count": 162,
     "metadata": {},
     "output_type": "execute_result"
    }
   ],
   "source": [
    "df"
   ]
  },
  {
   "cell_type": "code",
   "execution_count": 167,
   "id": "28a907a2-0e50-4a9d-844d-a571184424a1",
   "metadata": {},
   "outputs": [
    {
     "data": {
      "text/plain": [
       "np.float64(30000.0)"
      ]
     },
     "execution_count": 167,
     "metadata": {},
     "output_type": "execute_result"
    }
   ],
   "source": [
    "df.loc['c','sallery']"
   ]
  },
  {
   "cell_type": "code",
   "execution_count": 169,
   "id": "3d37cf17-dd05-4e31-81f1-4e02ab4b9bde",
   "metadata": {},
   "outputs": [
    {
     "data": {
      "text/html": [
       "<div>\n",
       "<style scoped>\n",
       "    .dataframe tbody tr th:only-of-type {\n",
       "        vertical-align: middle;\n",
       "    }\n",
       "\n",
       "    .dataframe tbody tr th {\n",
       "        vertical-align: top;\n",
       "    }\n",
       "\n",
       "    .dataframe thead th {\n",
       "        text-align: right;\n",
       "    }\n",
       "</style>\n",
       "<table border=\"1\" class=\"dataframe\">\n",
       "  <thead>\n",
       "    <tr style=\"text-align: right;\">\n",
       "      <th></th>\n",
       "      <th>name</th>\n",
       "      <th>age</th>\n",
       "      <th>department</th>\n",
       "      <th>sallery</th>\n",
       "    </tr>\n",
       "  </thead>\n",
       "  <tbody>\n",
       "    <tr>\n",
       "      <th>a</th>\n",
       "      <td>jishnu</td>\n",
       "      <td>26.0</td>\n",
       "      <td>HR</td>\n",
       "      <td>50000.0</td>\n",
       "    </tr>\n",
       "    <tr>\n",
       "      <th>b</th>\n",
       "      <td>anusree</td>\n",
       "      <td>26.0</td>\n",
       "      <td>sales</td>\n",
       "      <td>25000.0</td>\n",
       "    </tr>\n",
       "    <tr>\n",
       "      <th>c</th>\n",
       "      <td>vishnu</td>\n",
       "      <td>16.0</td>\n",
       "      <td>student</td>\n",
       "      <td>30000.0</td>\n",
       "    </tr>\n",
       "    <tr>\n",
       "      <th>d</th>\n",
       "      <td>abi</td>\n",
       "      <td>NaN</td>\n",
       "      <td>intern</td>\n",
       "      <td>10000.0</td>\n",
       "    </tr>\n",
       "  </tbody>\n",
       "</table>\n",
       "</div>"
      ],
      "text/plain": [
       "      name   age department  sallery\n",
       "a   jishnu  26.0         HR  50000.0\n",
       "b  anusree  26.0      sales  25000.0\n",
       "c   vishnu  16.0    student  30000.0\n",
       "d      abi   NaN     intern  10000.0"
      ]
     },
     "execution_count": 169,
     "metadata": {},
     "output_type": "execute_result"
    }
   ],
   "source": [
    "df"
   ]
  },
  {
   "cell_type": "code",
   "execution_count": 19,
   "id": "5177d915-ed52-4dbb-b18e-714b3e4fe109",
   "metadata": {},
   "outputs": [
    {
     "data": {
      "text/plain": [
       "0     1\n",
       "1     2\n",
       "2     3\n",
       "3     4\n",
       "4     5\n",
       "5     6\n",
       "6     7\n",
       "7     8\n",
       "8     9\n",
       "9    10\n",
       "dtype: int64"
      ]
     },
     "execution_count": 19,
     "metadata": {},
     "output_type": "execute_result"
    }
   ],
   "source": [
    "import numpy as np\n",
    "\n",
    "numbers  = np.arange(1,11)\n",
    "s = pd.Series(numbers)\n",
    "\n",
    "s"
   ]
  },
  {
   "cell_type": "markdown",
   "id": "31a1614a-e2a3-42d5-83bb-2fab912a5d39",
   "metadata": {},
   "source": [
    "- using columns.values[index number] and rename{columns = {column name : new name, inplace=True}\n",
    "- mainly used for changing column names "
   ]
  },
  {
   "cell_type": "code",
   "execution_count": 102,
   "id": "d610a9c9-57b7-4f2e-ae2b-776fce0fb94a",
   "metadata": {},
   "outputs": [
    {
     "name": "stdout",
     "output_type": "stream",
     "text": [
      "   Name  adress  age  sum  new\n",
      "a     1       2    3    1  0.0\n",
      "b     4       5    6    2  0.0\n",
      "c     7       8    9    3  0.0\n",
      "\n",
      "single row [4.0, 5.0, 6.0, 2.0, 0.0]\n",
      "\n",
      "single column [3, 6, 9]\n",
      "\n",
      "a    1\n",
      "b    2\n",
      "c    3\n",
      "Name: sum, dtype: int64\n",
      "[3, 6, 9]\n",
      "   Name  adress  age  new\n",
      "a     1       2    3  0.0\n",
      "b     4       5    6  0.0\n",
      "c     7       8    9  0.0\n",
      "   Name  adress  age  sum  new\n",
      "a     1       2    3    1  0.0\n",
      "b     4       5    6    2  0.0\n"
     ]
    }
   ],
   "source": [
    "s=np.arange(1,10).reshape(3,3)\n",
    "b = pd.DataFrame(s)\n",
    "b.index = ['a','b','c','d']\n",
    "\n",
    "b.columns=['num1','num2','num3'] # used to change entire column names \n",
    "b.columns.values[0] = 'Name' # used to change a single column name\n",
    "b.columns.values[2] = 'age'\n",
    "b.rename(columns = {\"num2\":\"adress\"} , inplace = True) # used to change a single column name\n",
    "\n",
    "b[\"sum\"] = np.arange(1,4)\n",
    "b[\"new\"] = np.zeros(3)\n",
    "c = b.iloc[1].tolist() # selecting single row using iloc\n",
    "d = b[\"age\"].tolist() \n",
    "f = b.iloc[:,3] # selecting single column using iloc\n",
    "g = b.drop(\"sum\",axis =1) # using drop to remove a column\n",
    "h = b.drop('c',inplace = False)\n",
    "print(b)\n",
    "print()\n",
    "print(f\"single row {c}\")\n",
    "print()\n",
    "print(f\"single column {d}\")\n",
    "print()\n",
    "print(f)\n",
    "print(d)\n",
    "print(g)\n",
    "print(h)"
   ]
  },
  {
   "cell_type": "code",
   "execution_count": 103,
   "id": "a5628466-06d2-48f6-b759-75cfade430e9",
   "metadata": {},
   "outputs": [
    {
     "name": "stdout",
     "output_type": "stream",
     "text": [
      "<class 'pandas.core.frame.DataFrame'>\n",
      "Index: 3 entries, a to c\n",
      "Data columns (total 5 columns):\n",
      " #   Column  Non-Null Count  Dtype  \n",
      "---  ------  --------------  -----  \n",
      " 0   Name    3 non-null      int64  \n",
      " 1   adress  3 non-null      int64  \n",
      " 2   age     3 non-null      int64  \n",
      " 3   sum     3 non-null      int64  \n",
      " 4   new     3 non-null      float64\n",
      "dtypes: float64(1), int64(4)\n",
      "memory usage: 252.0+ bytes\n"
     ]
    }
   ],
   "source": [
    "b.info() # used to check informations about a data frame"
   ]
  },
  {
   "cell_type": "code",
   "execution_count": 104,
   "id": "cc193c94-a502-4dee-8365-c14fbefe9537",
   "metadata": {},
   "outputs": [
    {
     "data": {
      "text/html": [
       "<div>\n",
       "<style scoped>\n",
       "    .dataframe tbody tr th:only-of-type {\n",
       "        vertical-align: middle;\n",
       "    }\n",
       "\n",
       "    .dataframe tbody tr th {\n",
       "        vertical-align: top;\n",
       "    }\n",
       "\n",
       "    .dataframe thead th {\n",
       "        text-align: right;\n",
       "    }\n",
       "</style>\n",
       "<table border=\"1\" class=\"dataframe\">\n",
       "  <thead>\n",
       "    <tr style=\"text-align: right;\">\n",
       "      <th></th>\n",
       "      <th>Name</th>\n",
       "      <th>adress</th>\n",
       "      <th>age</th>\n",
       "      <th>sum</th>\n",
       "      <th>new</th>\n",
       "    </tr>\n",
       "  </thead>\n",
       "  <tbody>\n",
       "    <tr>\n",
       "      <th>count</th>\n",
       "      <td>3.0</td>\n",
       "      <td>3.0</td>\n",
       "      <td>3.0</td>\n",
       "      <td>3.0</td>\n",
       "      <td>3.0</td>\n",
       "    </tr>\n",
       "    <tr>\n",
       "      <th>mean</th>\n",
       "      <td>4.0</td>\n",
       "      <td>5.0</td>\n",
       "      <td>6.0</td>\n",
       "      <td>2.0</td>\n",
       "      <td>0.0</td>\n",
       "    </tr>\n",
       "    <tr>\n",
       "      <th>std</th>\n",
       "      <td>3.0</td>\n",
       "      <td>3.0</td>\n",
       "      <td>3.0</td>\n",
       "      <td>1.0</td>\n",
       "      <td>0.0</td>\n",
       "    </tr>\n",
       "    <tr>\n",
       "      <th>min</th>\n",
       "      <td>1.0</td>\n",
       "      <td>2.0</td>\n",
       "      <td>3.0</td>\n",
       "      <td>1.0</td>\n",
       "      <td>0.0</td>\n",
       "    </tr>\n",
       "    <tr>\n",
       "      <th>25%</th>\n",
       "      <td>2.5</td>\n",
       "      <td>3.5</td>\n",
       "      <td>4.5</td>\n",
       "      <td>1.5</td>\n",
       "      <td>0.0</td>\n",
       "    </tr>\n",
       "    <tr>\n",
       "      <th>50%</th>\n",
       "      <td>4.0</td>\n",
       "      <td>5.0</td>\n",
       "      <td>6.0</td>\n",
       "      <td>2.0</td>\n",
       "      <td>0.0</td>\n",
       "    </tr>\n",
       "    <tr>\n",
       "      <th>75%</th>\n",
       "      <td>5.5</td>\n",
       "      <td>6.5</td>\n",
       "      <td>7.5</td>\n",
       "      <td>2.5</td>\n",
       "      <td>0.0</td>\n",
       "    </tr>\n",
       "    <tr>\n",
       "      <th>max</th>\n",
       "      <td>7.0</td>\n",
       "      <td>8.0</td>\n",
       "      <td>9.0</td>\n",
       "      <td>3.0</td>\n",
       "      <td>0.0</td>\n",
       "    </tr>\n",
       "  </tbody>\n",
       "</table>\n",
       "</div>"
      ],
      "text/plain": [
       "       Name  adress  age  sum  new\n",
       "count   3.0     3.0  3.0  3.0  3.0\n",
       "mean    4.0     5.0  6.0  2.0  0.0\n",
       "std     3.0     3.0  3.0  1.0  0.0\n",
       "min     1.0     2.0  3.0  1.0  0.0\n",
       "25%     2.5     3.5  4.5  1.5  0.0\n",
       "50%     4.0     5.0  6.0  2.0  0.0\n",
       "75%     5.5     6.5  7.5  2.5  0.0\n",
       "max     7.0     8.0  9.0  3.0  0.0"
      ]
     },
     "execution_count": 104,
     "metadata": {},
     "output_type": "execute_result"
    }
   ],
   "source": [
    "b.describe() # used to check statistical informations of a data frame"
   ]
  },
  {
   "cell_type": "code",
   "execution_count": 112,
   "id": "a56e400c-04b4-4cb8-a19f-dd33771feb21",
   "metadata": {},
   "outputs": [
    {
     "data": {
      "text/plain": [
       "numbers\n",
       "2    4\n",
       "1    3\n",
       "3    3\n",
       "4    2\n",
       "5    1\n",
       "6    1\n",
       "Name: count, dtype: int64"
      ]
     },
     "execution_count": 112,
     "metadata": {},
     "output_type": "execute_result"
    }
   ],
   "source": [
    "arr = {\n",
    "    \"numbers\" : [1,2,1,2,3,4,3,2,5,6,4,3,2,1]\n",
    "}\n",
    "\n",
    "df = pd.DataFrame(arr)\n",
    "df[\"numbers\"].unique() # to find unique values without duplicates\n",
    "df[\"numbers\"].nunique() # to find unique values count\n",
    "df[\"numbers\"].value_counts() # to find the frequency of each values"
   ]
  },
  {
   "cell_type": "code",
   "execution_count": 128,
   "id": "97850cb9-fd0d-44af-8b6a-99bdcc5de147",
   "metadata": {},
   "outputs": [
    {
     "data": {
      "text/html": [
       "<div>\n",
       "<style scoped>\n",
       "    .dataframe tbody tr th:only-of-type {\n",
       "        vertical-align: middle;\n",
       "    }\n",
       "\n",
       "    .dataframe tbody tr th {\n",
       "        vertical-align: top;\n",
       "    }\n",
       "\n",
       "    .dataframe thead th {\n",
       "        text-align: right;\n",
       "    }\n",
       "</style>\n",
       "<table border=\"1\" class=\"dataframe\">\n",
       "  <thead>\n",
       "    <tr style=\"text-align: right;\">\n",
       "      <th></th>\n",
       "      <th>name</th>\n",
       "      <th>age</th>\n",
       "      <th>height</th>\n",
       "      <th>sallery</th>\n",
       "      <th>promotted sallery</th>\n",
       "    </tr>\n",
       "  </thead>\n",
       "  <tbody>\n",
       "    <tr>\n",
       "      <th>0</th>\n",
       "      <td>jishnu</td>\n",
       "      <td>26.0</td>\n",
       "      <td>5.0</td>\n",
       "      <td>10000</td>\n",
       "      <td>20000</td>\n",
       "    </tr>\n",
       "    <tr>\n",
       "      <th>1</th>\n",
       "      <td>vishnu</td>\n",
       "      <td>NaN</td>\n",
       "      <td>5.5</td>\n",
       "      <td>15000</td>\n",
       "      <td>30000</td>\n",
       "    </tr>\n",
       "    <tr>\n",
       "      <th>2</th>\n",
       "      <td>swetha</td>\n",
       "      <td>23.0</td>\n",
       "      <td>6.0</td>\n",
       "      <td>20000</td>\n",
       "      <td>40000</td>\n",
       "    </tr>\n",
       "    <tr>\n",
       "      <th>3</th>\n",
       "      <td>abinav</td>\n",
       "      <td>25.0</td>\n",
       "      <td>6.5</td>\n",
       "      <td>25000</td>\n",
       "      <td>50000</td>\n",
       "    </tr>\n",
       "    <tr>\n",
       "      <th>4</th>\n",
       "      <td>ajay</td>\n",
       "      <td>NaN</td>\n",
       "      <td>7.0</td>\n",
       "      <td>30000</td>\n",
       "      <td>60000</td>\n",
       "    </tr>\n",
       "  </tbody>\n",
       "</table>\n",
       "</div>"
      ],
      "text/plain": [
       "     name   age  height  sallery  promotted sallery\n",
       "0  jishnu  26.0     5.0    10000              20000\n",
       "1  vishnu   NaN     5.5    15000              30000\n",
       "2  swetha  23.0     6.0    20000              40000\n",
       "3  abinav  25.0     6.5    25000              50000\n",
       "4    ajay   NaN     7.0    30000              60000"
      ]
     },
     "execution_count": 128,
     "metadata": {},
     "output_type": "execute_result"
    }
   ],
   "source": [
    "arr = {\n",
    "    \"name\":[\"jishnu\",\"vishnu\"],\n",
    "    \"age\":[26,np.nan]\n",
    "}\n",
    "\n",
    "df = pd.DataFrame(arr)\n",
    "df.loc[2] = ['swetha',23] # also used for adding columns\n",
    "df.loc[3] = ['abinav',25]\n",
    "df.loc[4] = ['ajay',np.nan]\n",
    "df[\"height\"] = np.linspace(5,7,5) # used for adding new rows\n",
    "df[\"sallery\"] = np.linspace(10000,30000,5,dtype = int)\n",
    "df[\"promotted sallery\"] = df['sallery'] *2\n",
    "\n",
    "df"
   ]
  },
  {
   "cell_type": "code",
   "execution_count": 132,
   "id": "30b3e9c8-1edc-4445-abb3-98784ef76256",
   "metadata": {},
   "outputs": [
    {
     "data": {
      "text/html": [
       "<div>\n",
       "<style scoped>\n",
       "    .dataframe tbody tr th:only-of-type {\n",
       "        vertical-align: middle;\n",
       "    }\n",
       "\n",
       "    .dataframe tbody tr th {\n",
       "        vertical-align: top;\n",
       "    }\n",
       "\n",
       "    .dataframe thead th {\n",
       "        text-align: right;\n",
       "    }\n",
       "</style>\n",
       "<table border=\"1\" class=\"dataframe\">\n",
       "  <thead>\n",
       "    <tr style=\"text-align: right;\">\n",
       "      <th></th>\n",
       "      <th>name</th>\n",
       "      <th>age</th>\n",
       "      <th>height</th>\n",
       "      <th>sallery</th>\n",
       "      <th>promotted sallery</th>\n",
       "    </tr>\n",
       "  </thead>\n",
       "  <tbody>\n",
       "    <tr>\n",
       "      <th>0</th>\n",
       "      <td>jishnu</td>\n",
       "      <td>26.0</td>\n",
       "      <td>5.0</td>\n",
       "      <td>10000</td>\n",
       "      <td>20000</td>\n",
       "    </tr>\n",
       "    <tr>\n",
       "      <th>1</th>\n",
       "      <td>vishnu</td>\n",
       "      <td>NaN</td>\n",
       "      <td>5.5</td>\n",
       "      <td>15000</td>\n",
       "      <td>30000</td>\n",
       "    </tr>\n",
       "    <tr>\n",
       "      <th>2</th>\n",
       "      <td>swetha</td>\n",
       "      <td>23.0</td>\n",
       "      <td>6.0</td>\n",
       "      <td>20000</td>\n",
       "      <td>40000</td>\n",
       "    </tr>\n",
       "    <tr>\n",
       "      <th>3</th>\n",
       "      <td>abinav</td>\n",
       "      <td>25.0</td>\n",
       "      <td>6.5</td>\n",
       "      <td>25000</td>\n",
       "      <td>50000</td>\n",
       "    </tr>\n",
       "    <tr>\n",
       "      <th>4</th>\n",
       "      <td>ajay</td>\n",
       "      <td>NaN</td>\n",
       "      <td>7.0</td>\n",
       "      <td>30000</td>\n",
       "      <td>60000</td>\n",
       "    </tr>\n",
       "  </tbody>\n",
       "</table>\n",
       "</div>"
      ],
      "text/plain": [
       "     name   age  height  sallery  promotted sallery\n",
       "0  jishnu  26.0     5.0    10000              20000\n",
       "1  vishnu   NaN     5.5    15000              30000\n",
       "2  swetha  23.0     6.0    20000              40000\n",
       "3  abinav  25.0     6.5    25000              50000\n",
       "4    ajay   NaN     7.0    30000              60000"
      ]
     },
     "execution_count": 132,
     "metadata": {},
     "output_type": "execute_result"
    }
   ],
   "source": [
    "df.dropna(how = 'all')"
   ]
  },
  {
   "cell_type": "code",
   "execution_count": 141,
   "id": "5ea99ab8-dc48-424c-a654-0c3e7dd8f5d2",
   "metadata": {},
   "outputs": [
    {
     "data": {
      "text/html": [
       "<div>\n",
       "<style scoped>\n",
       "    .dataframe tbody tr th:only-of-type {\n",
       "        vertical-align: middle;\n",
       "    }\n",
       "\n",
       "    .dataframe tbody tr th {\n",
       "        vertical-align: top;\n",
       "    }\n",
       "\n",
       "    .dataframe thead th {\n",
       "        text-align: right;\n",
       "    }\n",
       "</style>\n",
       "<table border=\"1\" class=\"dataframe\">\n",
       "  <thead>\n",
       "    <tr style=\"text-align: right;\">\n",
       "      <th></th>\n",
       "      <th>name</th>\n",
       "      <th>age</th>\n",
       "      <th>height</th>\n",
       "      <th>sallery</th>\n",
       "      <th>promotted sallery</th>\n",
       "    </tr>\n",
       "  </thead>\n",
       "  <tbody>\n",
       "    <tr>\n",
       "      <th>0</th>\n",
       "      <td>jishnu</td>\n",
       "      <td>26.000000</td>\n",
       "      <td>5.0</td>\n",
       "      <td>10000</td>\n",
       "      <td>20000</td>\n",
       "    </tr>\n",
       "    <tr>\n",
       "      <th>1</th>\n",
       "      <td>vishnu</td>\n",
       "      <td>24.666667</td>\n",
       "      <td>5.5</td>\n",
       "      <td>15000</td>\n",
       "      <td>30000</td>\n",
       "    </tr>\n",
       "    <tr>\n",
       "      <th>2</th>\n",
       "      <td>swetha</td>\n",
       "      <td>23.000000</td>\n",
       "      <td>6.0</td>\n",
       "      <td>20000</td>\n",
       "      <td>40000</td>\n",
       "    </tr>\n",
       "    <tr>\n",
       "      <th>3</th>\n",
       "      <td>abinav</td>\n",
       "      <td>25.000000</td>\n",
       "      <td>6.5</td>\n",
       "      <td>25000</td>\n",
       "      <td>50000</td>\n",
       "    </tr>\n",
       "    <tr>\n",
       "      <th>4</th>\n",
       "      <td>ajay</td>\n",
       "      <td>24.666667</td>\n",
       "      <td>7.0</td>\n",
       "      <td>30000</td>\n",
       "      <td>60000</td>\n",
       "    </tr>\n",
       "  </tbody>\n",
       "</table>\n",
       "</div>"
      ],
      "text/plain": [
       "     name        age  height  sallery  promotted sallery\n",
       "0  jishnu  26.000000     5.0    10000              20000\n",
       "1  vishnu  24.666667     5.5    15000              30000\n",
       "2  swetha  23.000000     6.0    20000              40000\n",
       "3  abinav  25.000000     6.5    25000              50000\n",
       "4    ajay  24.666667     7.0    30000              60000"
      ]
     },
     "execution_count": 141,
     "metadata": {},
     "output_type": "execute_result"
    }
   ],
   "source": [
    "df.fillna(0)"
   ]
  },
  {
   "cell_type": "code",
   "execution_count": null,
   "id": "db8517b7-a68f-4f75-9eb1-2a89a916dd87",
   "metadata": {},
   "outputs": [],
   "source": []
  },
  {
   "cell_type": "code",
   "execution_count": null,
   "id": "1114195c-f1cf-4372-bf86-06a013fc4674",
   "metadata": {},
   "outputs": [],
   "source": []
  }
 ],
 "metadata": {
  "kernelspec": {
   "display_name": "Python 3 (ipykernel)",
   "language": "python",
   "name": "python3"
  },
  "language_info": {
   "codemirror_mode": {
    "name": "ipython",
    "version": 3
   },
   "file_extension": ".py",
   "mimetype": "text/x-python",
   "name": "python",
   "nbconvert_exporter": "python",
   "pygments_lexer": "ipython3",
   "version": "3.13.5"
  }
 },
 "nbformat": 4,
 "nbformat_minor": 5
}
