{
 "cells": [
  {
   "cell_type": "markdown",
   "id": "d89c8f19-b649-49b3-9ff7-be894086da4a",
   "metadata": {},
   "source": [
    "# Pandas"
   ]
  },
  {
   "cell_type": "markdown",
   "id": "b5119d68-7343-4acd-afa8-02dcff66f671",
   "metadata": {},
   "source": [
    "- its a python library used for working with datas\n",
    "- it provides easy to use data structure \n",
    "- helps cleaning,manipulation and analysis \n",
    "- can easily import datasets from csv,excel,json and sql\n",
    "- there are two primary data structures in pandas **Series** & **Dataframe**\n",
    "- **Series** -> 1D labeled homogeneous array\n",
    "- **DataFrame** -> 2d labeled heterogeneous table"
   ]
  },
  {
   "cell_type": "code",
   "execution_count": 5,
   "id": "66384ad0-6b03-4224-a8fd-357368d268e6",
   "metadata": {},
   "outputs": [],
   "source": [
    "import pandas as pd"
   ]
  },
  {
   "cell_type": "markdown",
   "id": "90ac8ed5-d679-49dc-ac64-5560c68049e8",
   "metadata": {},
   "source": [
    "# Series\n",
    "- 1D single column data\n",
    "- homogeneus -> usually stores one data type\n",
    "- size immputable -> once created, the number of elements cannot change, but the values can be updated\n",
    "- labled -> each elements has an index, default range index"
   ]
  },
  {
   "cell_type": "code",
   "execution_count": 44,
   "id": "974dba83-82ad-4c1b-b134-3130de1e7d30",
   "metadata": {},
   "outputs": [
    {
     "data": {
      "text/plain": [
       "dtype('int64')"
      ]
     },
     "execution_count": 44,
     "metadata": {},
     "output_type": "execute_result"
    }
   ],
   "source": [
    "s1 = pd.Series([10,20,30,40,50]) # used for creating single column data\n",
    "\n",
    "s1.dtype"
   ]
  },
  {
   "cell_type": "code",
   "execution_count": 45,
   "id": "f36ca9d8-2a63-4b0d-a3d2-454bc5004ee1",
   "metadata": {},
   "outputs": [
    {
     "data": {
      "text/plain": [
       "array([10, 20, 30, 40, 50])"
      ]
     },
     "execution_count": 45,
     "metadata": {},
     "output_type": "execute_result"
    }
   ],
   "source": [
    "s1.values # used for checking values of the series"
   ]
  },
  {
   "cell_type": "code",
   "execution_count": 48,
   "id": "c6b748d1-efd6-440a-abad-618ce66a61f4",
   "metadata": {},
   "outputs": [
    {
     "data": {
      "text/plain": [
       "Index(['a', 'b', 'c', 'd', 'f'], dtype='object')"
      ]
     },
     "execution_count": 48,
     "metadata": {},
     "output_type": "execute_result"
    }
   ],
   "source": [
    "s1.index #gives the index lables"
   ]
  },
  {
   "cell_type": "code",
   "execution_count": 47,
   "id": "7ddea29d-ac13-4895-82e9-76e3b8f4c21a",
   "metadata": {},
   "outputs": [
    {
     "data": {
      "text/plain": [
       "a    10\n",
       "b    20\n",
       "c    30\n",
       "d    40\n",
       "f    50\n",
       "dtype: int64"
      ]
     },
     "execution_count": 47,
     "metadata": {},
     "output_type": "execute_result"
    }
   ],
   "source": [
    "index = ['a','b','c','d','f']\n",
    "\n",
    "s1.index = index # also can change the index lables\n",
    "\n",
    "s1"
   ]
  },
  {
   "cell_type": "code",
   "execution_count": 50,
   "id": "fb095ba3-e327-4575-ab91-aafa849ac21f",
   "metadata": {},
   "outputs": [
    {
     "data": {
      "text/plain": [
       "Index(['a', 'b', 'c', 'd', 'f'], dtype='object')"
      ]
     },
     "execution_count": 50,
     "metadata": {},
     "output_type": "execute_result"
    }
   ],
   "source": [
    "s1.keys() # gives the index numbers or custom lables "
   ]
  },
  {
   "cell_type": "code",
   "execution_count": 53,
   "id": "a6db724a-c49a-48c4-bdd1-1fec29461d63",
   "metadata": {},
   "outputs": [
    {
     "data": {
      "text/plain": [
       "a    10\n",
       "b    20\n",
       "c    30\n",
       "dtype: int64"
      ]
     },
     "execution_count": 53,
     "metadata": {},
     "output_type": "execute_result"
    }
   ],
   "source": [
    "s1['a':'c'] # in lable baased indexing the start value as well as the stop value also includes in the output\n",
    "# in normal indexing the stop value will exclude in the out put "
   ]
  },
  {
   "cell_type": "code",
   "execution_count": 54,
   "id": "353bb886-839e-4739-9bf9-6c358cde01b8",
   "metadata": {},
   "outputs": [
    {
     "data": {
      "text/plain": [
       "np.int64(10)"
      ]
     },
     "execution_count": 54,
     "metadata": {},
     "output_type": "execute_result"
    }
   ],
   "source": [
    "s1.iloc[0] # accesse by integer position only it ignore lables always looks at the numeric position"
   ]
  },
  {
   "cell_type": "code",
   "execution_count": 68,
   "id": "f0486c1c-4b50-4b7a-93b1-f34d8c1a564c",
   "metadata": {},
   "outputs": [
    {
     "data": {
      "text/plain": [
       "np.int64(10)"
      ]
     },
     "execution_count": 68,
     "metadata": {},
     "output_type": "execute_result"
    }
   ],
   "source": [
    "s1.loc['a'] # access by index lables work with default numbers or custom lables"
   ]
  },
  {
   "cell_type": "code",
   "execution_count": 66,
   "id": "2ea91330-05b0-42dc-8728-01731d55a8fe",
   "metadata": {},
   "outputs": [
    {
     "name": "stdout",
     "output_type": "stream",
     "text": [
      "numbers\n",
      "a    10\n",
      "b    20\n",
      "c    30\n",
      "d    40\n",
      "f    50\n",
      "Name: numbers, dtype: int64\n"
     ]
    }
   ],
   "source": [
    "# the default name will be None\n",
    "s1.name = \"numbers\" # we can assign a new name using .name\n",
    "print(s1.name)\n",
    "print(s1)"
   ]
  },
  {
   "cell_type": "code",
   "execution_count": 72,
   "id": "6883100c-4e4a-4d51-96a7-8eb123bdd9cd",
   "metadata": {},
   "outputs": [
    {
     "name": "stdout",
     "output_type": "stream",
     "text": [
      "fruits\n",
      "apple         27\n",
      "orange        21\n",
      "banana        30\n",
      "grape         25\n",
      "pineapple     20\n",
      "strawberry    32\n",
      "blueberry     45\n",
      "jackfruit     26\n",
      "lemon         12\n",
      "avocado       28\n",
      "Name: fruits, dtype: int64\n"
     ]
    }
   ],
   "source": [
    "# creating a Series out of a dictionary\n",
    "dict1 = {\n",
    "    \"apple\":27,\n",
    "    \"orange\":21,\n",
    "    \"banana\":30,\n",
    "    \"grape\":25,\n",
    "    \"pineapple\":20,\n",
    "    \"strawberry\":32,\n",
    "    \"blueberry\":45,\n",
    "    \"jackfruit\":26,\n",
    "    \"lemon\":12,\n",
    "    \"avocado\":28\n",
    "}\n",
    "\n",
    "s2 = pd.Series(dict1, name=\"fruits\") \n",
    "print(s2.name)\n",
    "print(s2)"
   ]
  },
  {
   "cell_type": "code",
   "execution_count": 73,
   "id": "0656cb72-ad26-4948-b11f-1e238f484aab",
   "metadata": {},
   "outputs": [
    {
     "data": {
      "text/plain": [
       "orange    21\n",
       "apple     27\n",
       "banana    30\n",
       "Name: fruits, dtype: int64"
      ]
     },
     "execution_count": 73,
     "metadata": {},
     "output_type": "execute_result"
    }
   ],
   "source": [
    "s2.loc[['orange','apple','banana']]"
   ]
  },
  {
   "cell_type": "code",
   "execution_count": 74,
   "id": "7b1a7cbd-4a04-4c70-a056-750bc975559c",
   "metadata": {},
   "outputs": [
    {
     "data": {
      "text/plain": [
       "orange    21\n",
       "banana    30\n",
       "grape     25\n",
       "Name: fruits, dtype: int64"
      ]
     },
     "execution_count": 74,
     "metadata": {},
     "output_type": "execute_result"
    }
   ],
   "source": [
    "s2.iloc[1:4]"
   ]
  },
  {
   "cell_type": "code",
   "execution_count": 80,
   "id": "19413605-7260-43bc-aade-e6aacfe0c30f",
   "metadata": {},
   "outputs": [
    {
     "data": {
      "text/plain": [
       "avocado      28\n",
       "lemon        12\n",
       "jackfruit    26\n",
       "Name: fruits, dtype: int64"
      ]
     },
     "execution_count": 80,
     "metadata": {},
     "output_type": "execute_result"
    }
   ],
   "source": [
    "s2.iloc[[9,8,7]]"
   ]
  },
  {
   "cell_type": "code",
   "execution_count": 81,
   "id": "4f621a64-e66d-4c59-b712-6a2536570242",
   "metadata": {},
   "outputs": [
    {
     "name": "stdout",
     "output_type": "stream",
     "text": [
      "Index(['apple', 'orange', 'banana', 'grape', 'pineapple', 'strawberry',\n",
      "       'blueberry', 'jackfruit', 'lemon', 'avocado'],\n",
      "      dtype='object')\n",
      "[27 21 30 25 20 32 45 26 12 28]\n"
     ]
    }
   ],
   "source": [
    "print(s2.keys())\n",
    "print(s2.values)"
   ]
  },
  {
   "cell_type": "code",
   "execution_count": 87,
   "id": "81f9d6f6-137d-423d-8f63-6b1fac03e1f2",
   "metadata": {},
   "outputs": [
    {
     "data": {
      "text/plain": [
       "banana        30\n",
       "strawberry    32\n",
       "blueberry     45\n",
       "avocado       28\n",
       "Name: fruits, dtype: int64"
      ]
     },
     "execution_count": 87,
     "metadata": {},
     "output_type": "execute_result"
    }
   ],
   "source": [
    "extract = s2[s2>=28] # filtering series values using a condition called conditional selection\n",
    "extract"
   ]
  },
  {
   "cell_type": "code",
   "execution_count": 92,
   "id": "aa58b0ef-bc97-4cb3-83ad-8c496aa255b1",
   "metadata": {},
   "outputs": [
    {
     "data": {
      "text/plain": [
       "[apple          True\n",
       " orange         True\n",
       " banana        False\n",
       " grape          True\n",
       " pineapple     False\n",
       " strawberry    False\n",
       " blueberry     False\n",
       " jackfruit      True\n",
       " lemon         False\n",
       " avocado        True\n",
       " Name: fruits, dtype: bool]"
      ]
     },
     "execution_count": 92,
     "metadata": {},
     "output_type": "execute_result"
    }
   ],
   "source": [
    "[(s2>20) & (s2<30)] # we need both condition meets true to get the result true"
   ]
  },
  {
   "cell_type": "code",
   "execution_count": 94,
   "id": "dfadef31-5bd8-424a-a50f-994da3d26134",
   "metadata": {},
   "outputs": [
    {
     "data": {
      "text/plain": [
       "apple          27\n",
       "orange         21\n",
       "banana         30\n",
       "grape         100\n",
       "pineapple      20\n",
       "strawberry     32\n",
       "blueberry      45\n",
       "jackfruit      26\n",
       "lemon          12\n",
       "avocado        28\n",
       "Name: fruits, dtype: int64"
      ]
     },
     "execution_count": 94,
     "metadata": {},
     "output_type": "execute_result"
    }
   ],
   "source": [
    "s2[\"grape\"]=100 # this is how we can modify a series\n",
    "s2"
   ]
  },
  {
   "cell_type": "markdown",
   "id": "f5cce3e1-e83c-4b4f-956e-9cef5fe54a67",
   "metadata": {},
   "source": [
    "# DataFrame\n",
    "- 2D structure multiple rows and columns\n",
    "- hetrogeneous -> each column can have multiple data types\n",
    "- size mutable -> can remove or add rows and columns\n",
    "- rows can have index numbers (can be customized) columns can have names/lables\n",
    "- tabular structure -> data is organized as a table format"
   ]
  },
  {
   "cell_type": "code",
   "execution_count": 147,
   "id": "20b85dbe-8af0-411e-b668-7a1ee8d43a3a",
   "metadata": {},
   "outputs": [
    {
     "data": {
      "text/html": [
       "<div>\n",
       "<style scoped>\n",
       "    .dataframe tbody tr th:only-of-type {\n",
       "        vertical-align: middle;\n",
       "    }\n",
       "\n",
       "    .dataframe tbody tr th {\n",
       "        vertical-align: top;\n",
       "    }\n",
       "\n",
       "    .dataframe thead th {\n",
       "        text-align: right;\n",
       "    }\n",
       "</style>\n",
       "<table border=\"1\" class=\"dataframe\">\n",
       "  <thead>\n",
       "    <tr style=\"text-align: right;\">\n",
       "      <th></th>\n",
       "      <th>name</th>\n",
       "      <th>age</th>\n",
       "      <th>department</th>\n",
       "      <th>sallery</th>\n",
       "    </tr>\n",
       "  </thead>\n",
       "  <tbody>\n",
       "    <tr>\n",
       "      <th>a</th>\n",
       "      <td>jishnu</td>\n",
       "      <td>26.0</td>\n",
       "      <td>HR</td>\n",
       "      <td>50000.0</td>\n",
       "    </tr>\n",
       "    <tr>\n",
       "      <th>b</th>\n",
       "      <td>anusree</td>\n",
       "      <td>26.0</td>\n",
       "      <td>sales</td>\n",
       "      <td>25000.0</td>\n",
       "    </tr>\n",
       "    <tr>\n",
       "      <th>c</th>\n",
       "      <td>vishnu</td>\n",
       "      <td>16.0</td>\n",
       "      <td>student</td>\n",
       "      <td>NaN</td>\n",
       "    </tr>\n",
       "    <tr>\n",
       "      <th>d</th>\n",
       "      <td>abi</td>\n",
       "      <td>NaN</td>\n",
       "      <td>intern</td>\n",
       "      <td>10000.0</td>\n",
       "    </tr>\n",
       "  </tbody>\n",
       "</table>\n",
       "</div>"
      ],
      "text/plain": [
       "      name   age department  sallery\n",
       "a   jishnu  26.0         HR  50000.0\n",
       "b  anusree  26.0      sales  25000.0\n",
       "c   vishnu  16.0    student      NaN\n",
       "d      abi   NaN     intern  10000.0"
      ]
     },
     "execution_count": 147,
     "metadata": {},
     "output_type": "execute_result"
    }
   ],
   "source": [
    "import numpy as np\n",
    "\n",
    "data = {\n",
    "    \"name\":[\"jishnu\",\"anusree\",\"vishnu\",\"abi\"],\n",
    "    \"age\":[26,26,16,np.nan],\n",
    "    \"department\":[\"HR\",\"sales\",\"student\",\"intern\"],\n",
    "    \"sallery\":[50000,25000,np.nan,10000]\n",
    "}\n",
    "\n",
    "df = pd.DataFrame(data)\n",
    "df.index = ['a','b','c','d']\n",
    "df\n",
    "    "
   ]
  },
  {
   "cell_type": "code",
   "execution_count": 128,
   "id": "f0b7cbdd-7864-4529-a721-ac24c287c71f",
   "metadata": {},
   "outputs": [
    {
     "data": {
      "text/html": [
       "<div>\n",
       "<style scoped>\n",
       "    .dataframe tbody tr th:only-of-type {\n",
       "        vertical-align: middle;\n",
       "    }\n",
       "\n",
       "    .dataframe tbody tr th {\n",
       "        vertical-align: top;\n",
       "    }\n",
       "\n",
       "    .dataframe thead th {\n",
       "        text-align: right;\n",
       "    }\n",
       "</style>\n",
       "<table border=\"1\" class=\"dataframe\">\n",
       "  <thead>\n",
       "    <tr style=\"text-align: right;\">\n",
       "      <th></th>\n",
       "      <th>name</th>\n",
       "      <th>age</th>\n",
       "      <th>department</th>\n",
       "      <th>sallery</th>\n",
       "    </tr>\n",
       "  </thead>\n",
       "  <tbody>\n",
       "    <tr>\n",
       "      <th>a</th>\n",
       "      <td>jishnu</td>\n",
       "      <td>26.0</td>\n",
       "      <td>HR</td>\n",
       "      <td>50000.0</td>\n",
       "    </tr>\n",
       "    <tr>\n",
       "      <th>b</th>\n",
       "      <td>anusree</td>\n",
       "      <td>26.0</td>\n",
       "      <td>sales</td>\n",
       "      <td>25000.0</td>\n",
       "    </tr>\n",
       "  </tbody>\n",
       "</table>\n",
       "</div>"
      ],
      "text/plain": [
       "      name   age department  sallery\n",
       "a   jishnu  26.0         HR  50000.0\n",
       "b  anusree  26.0      sales  25000.0"
      ]
     },
     "execution_count": 128,
     "metadata": {},
     "output_type": "execute_result"
    }
   ],
   "source": [
    "df.head(2) # to quickly view first few rows (works both in data frame and series)"
   ]
  },
  {
   "cell_type": "code",
   "execution_count": 129,
   "id": "fce7036d-8f92-4261-b7f1-3148173b506c",
   "metadata": {},
   "outputs": [
    {
     "data": {
      "text/html": [
       "<div>\n",
       "<style scoped>\n",
       "    .dataframe tbody tr th:only-of-type {\n",
       "        vertical-align: middle;\n",
       "    }\n",
       "\n",
       "    .dataframe tbody tr th {\n",
       "        vertical-align: top;\n",
       "    }\n",
       "\n",
       "    .dataframe thead th {\n",
       "        text-align: right;\n",
       "    }\n",
       "</style>\n",
       "<table border=\"1\" class=\"dataframe\">\n",
       "  <thead>\n",
       "    <tr style=\"text-align: right;\">\n",
       "      <th></th>\n",
       "      <th>name</th>\n",
       "      <th>age</th>\n",
       "      <th>department</th>\n",
       "      <th>sallery</th>\n",
       "    </tr>\n",
       "  </thead>\n",
       "  <tbody>\n",
       "    <tr>\n",
       "      <th>b</th>\n",
       "      <td>anusree</td>\n",
       "      <td>26.0</td>\n",
       "      <td>sales</td>\n",
       "      <td>25000.0</td>\n",
       "    </tr>\n",
       "    <tr>\n",
       "      <th>c</th>\n",
       "      <td>vishnu</td>\n",
       "      <td>16.0</td>\n",
       "      <td>student</td>\n",
       "      <td>NaN</td>\n",
       "    </tr>\n",
       "    <tr>\n",
       "      <th>d</th>\n",
       "      <td>abi</td>\n",
       "      <td>NaN</td>\n",
       "      <td>intern</td>\n",
       "      <td>10000.0</td>\n",
       "    </tr>\n",
       "  </tbody>\n",
       "</table>\n",
       "</div>"
      ],
      "text/plain": [
       "      name   age department  sallery\n",
       "b  anusree  26.0      sales  25000.0\n",
       "c   vishnu  16.0    student      NaN\n",
       "d      abi   NaN     intern  10000.0"
      ]
     },
     "execution_count": 129,
     "metadata": {},
     "output_type": "execute_result"
    }
   ],
   "source": [
    "df.tail(3) # to quickly view last few rows (works both in data frame and sseries)"
   ]
  },
  {
   "cell_type": "code",
   "execution_count": 131,
   "id": "d279f328-9f47-4d0b-af42-4ef203aee15e",
   "metadata": {},
   "outputs": [
    {
     "data": {
      "text/html": [
       "<div>\n",
       "<style scoped>\n",
       "    .dataframe tbody tr th:only-of-type {\n",
       "        vertical-align: middle;\n",
       "    }\n",
       "\n",
       "    .dataframe tbody tr th {\n",
       "        vertical-align: top;\n",
       "    }\n",
       "\n",
       "    .dataframe thead th {\n",
       "        text-align: right;\n",
       "    }\n",
       "</style>\n",
       "<table border=\"1\" class=\"dataframe\">\n",
       "  <thead>\n",
       "    <tr style=\"text-align: right;\">\n",
       "      <th></th>\n",
       "      <th>department</th>\n",
       "      <th>sallery</th>\n",
       "    </tr>\n",
       "  </thead>\n",
       "  <tbody>\n",
       "    <tr>\n",
       "      <th>a</th>\n",
       "      <td>HR</td>\n",
       "      <td>50000.0</td>\n",
       "    </tr>\n",
       "    <tr>\n",
       "      <th>b</th>\n",
       "      <td>sales</td>\n",
       "      <td>25000.0</td>\n",
       "    </tr>\n",
       "    <tr>\n",
       "      <th>c</th>\n",
       "      <td>student</td>\n",
       "      <td>NaN</td>\n",
       "    </tr>\n",
       "  </tbody>\n",
       "</table>\n",
       "</div>"
      ],
      "text/plain": [
       "  department  sallery\n",
       "a         HR  50000.0\n",
       "b      sales  25000.0\n",
       "c    student      NaN"
      ]
     },
     "execution_count": 131,
     "metadata": {},
     "output_type": "execute_result"
    }
   ],
   "source": [
    "df.loc['a':'c' ,[\"department\",\"sallery\"]] # [rows , labeled indexing]"
   ]
  },
  {
   "cell_type": "code",
   "execution_count": 132,
   "id": "8eb3b3bc-0a66-4147-a2fb-bf32cfbf654b",
   "metadata": {},
   "outputs": [
    {
     "data": {
      "text/html": [
       "<div>\n",
       "<style scoped>\n",
       "    .dataframe tbody tr th:only-of-type {\n",
       "        vertical-align: middle;\n",
       "    }\n",
       "\n",
       "    .dataframe tbody tr th {\n",
       "        vertical-align: top;\n",
       "    }\n",
       "\n",
       "    .dataframe thead th {\n",
       "        text-align: right;\n",
       "    }\n",
       "</style>\n",
       "<table border=\"1\" class=\"dataframe\">\n",
       "  <thead>\n",
       "    <tr style=\"text-align: right;\">\n",
       "      <th></th>\n",
       "      <th>age</th>\n",
       "      <th>department</th>\n",
       "    </tr>\n",
       "  </thead>\n",
       "  <tbody>\n",
       "    <tr>\n",
       "      <th>c</th>\n",
       "      <td>16.0</td>\n",
       "      <td>student</td>\n",
       "    </tr>\n",
       "    <tr>\n",
       "      <th>d</th>\n",
       "      <td>NaN</td>\n",
       "      <td>intern</td>\n",
       "    </tr>\n",
       "  </tbody>\n",
       "</table>\n",
       "</div>"
      ],
      "text/plain": [
       "    age department\n",
       "c  16.0    student\n",
       "d   NaN     intern"
      ]
     },
     "execution_count": 132,
     "metadata": {},
     "output_type": "execute_result"
    }
   ],
   "source": [
    "df.iloc[2:4,1:3] # [rows,columns] in numerical indexing"
   ]
  },
  {
   "cell_type": "code",
   "execution_count": 133,
   "id": "f9ae4592-39d0-49d9-a0ca-9709d1e5b145",
   "metadata": {},
   "outputs": [
    {
     "data": {
      "text/plain": [
       "a         HR\n",
       "b      sales\n",
       "c    student\n",
       "d     intern\n",
       "Name: department, dtype: object"
      ]
     },
     "execution_count": 133,
     "metadata": {},
     "output_type": "execute_result"
    }
   ],
   "source": [
    "df[\"department\"]"
   ]
  },
  {
   "cell_type": "code",
   "execution_count": 146,
   "id": "195b5a14-fa7d-4631-a21c-b795a2154b9e",
   "metadata": {},
   "outputs": [
    {
     "data": {
      "text/html": [
       "<div>\n",
       "<style scoped>\n",
       "    .dataframe tbody tr th:only-of-type {\n",
       "        vertical-align: middle;\n",
       "    }\n",
       "\n",
       "    .dataframe tbody tr th {\n",
       "        vertical-align: top;\n",
       "    }\n",
       "\n",
       "    .dataframe thead th {\n",
       "        text-align: right;\n",
       "    }\n",
       "</style>\n",
       "<table border=\"1\" class=\"dataframe\">\n",
       "  <thead>\n",
       "    <tr style=\"text-align: right;\">\n",
       "      <th></th>\n",
       "      <th>name</th>\n",
       "      <th>age</th>\n",
       "      <th>department</th>\n",
       "      <th>sallery</th>\n",
       "    </tr>\n",
       "  </thead>\n",
       "  <tbody>\n",
       "    <tr>\n",
       "      <th>a</th>\n",
       "      <td>jishnu</td>\n",
       "      <td>26.0</td>\n",
       "      <td>HR</td>\n",
       "      <td>50000.0</td>\n",
       "    </tr>\n",
       "    <tr>\n",
       "      <th>b</th>\n",
       "      <td>anusree</td>\n",
       "      <td>26.0</td>\n",
       "      <td>sales</td>\n",
       "      <td>25000.0</td>\n",
       "    </tr>\n",
       "    <tr>\n",
       "      <th>d</th>\n",
       "      <td>abi</td>\n",
       "      <td>NaN</td>\n",
       "      <td>intern</td>\n",
       "      <td>10000.0</td>\n",
       "    </tr>\n",
       "  </tbody>\n",
       "</table>\n",
       "</div>"
      ],
      "text/plain": [
       "      name   age department  sallery\n",
       "a   jishnu  26.0         HR  50000.0\n",
       "b  anusree  26.0      sales  25000.0\n",
       "d      abi   NaN     intern  10000.0"
      ]
     },
     "execution_count": 146,
     "metadata": {},
     "output_type": "execute_result"
    }
   ],
   "source": [
    "df"
   ]
  },
  {
   "cell_type": "code",
   "execution_count": 150,
   "id": "9020c963-c6b7-47ad-a824-d58155d3001f",
   "metadata": {},
   "outputs": [
    {
     "data": {
      "text/html": [
       "<div>\n",
       "<style scoped>\n",
       "    .dataframe tbody tr th:only-of-type {\n",
       "        vertical-align: middle;\n",
       "    }\n",
       "\n",
       "    .dataframe tbody tr th {\n",
       "        vertical-align: top;\n",
       "    }\n",
       "\n",
       "    .dataframe thead th {\n",
       "        text-align: right;\n",
       "    }\n",
       "</style>\n",
       "<table border=\"1\" class=\"dataframe\">\n",
       "  <thead>\n",
       "    <tr style=\"text-align: right;\">\n",
       "      <th></th>\n",
       "      <th>name</th>\n",
       "      <th>age</th>\n",
       "      <th>department</th>\n",
       "      <th>sallery</th>\n",
       "    </tr>\n",
       "  </thead>\n",
       "  <tbody>\n",
       "    <tr>\n",
       "      <th>a</th>\n",
       "      <td>jishnu</td>\n",
       "      <td>26.0</td>\n",
       "      <td>HR</td>\n",
       "      <td>50000.0</td>\n",
       "    </tr>\n",
       "    <tr>\n",
       "      <th>b</th>\n",
       "      <td>anusree</td>\n",
       "      <td>26.0</td>\n",
       "      <td>sales</td>\n",
       "      <td>25000.0</td>\n",
       "    </tr>\n",
       "    <tr>\n",
       "      <th>d</th>\n",
       "      <td>abi</td>\n",
       "      <td>NaN</td>\n",
       "      <td>intern</td>\n",
       "      <td>10000.0</td>\n",
       "    </tr>\n",
       "  </tbody>\n",
       "</table>\n",
       "</div>"
      ],
      "text/plain": [
       "      name   age department  sallery\n",
       "a   jishnu  26.0         HR  50000.0\n",
       "b  anusree  26.0      sales  25000.0\n",
       "d      abi   NaN     intern  10000.0"
      ]
     },
     "execution_count": 150,
     "metadata": {},
     "output_type": "execute_result"
    }
   ],
   "source": [
    "df.drop('c',inplace=False) # used to remove rows or columns using lable (lable,axis,inplase = False by default \n",
    "# when inplace make True manually it will remove the entire row or column permenently"
   ]
  },
  {
   "cell_type": "code",
   "execution_count": 162,
   "id": "ede4d9c4-f2df-4419-b95a-b76f6277467b",
   "metadata": {},
   "outputs": [
    {
     "data": {
      "text/html": [
       "<div>\n",
       "<style scoped>\n",
       "    .dataframe tbody tr th:only-of-type {\n",
       "        vertical-align: middle;\n",
       "    }\n",
       "\n",
       "    .dataframe tbody tr th {\n",
       "        vertical-align: top;\n",
       "    }\n",
       "\n",
       "    .dataframe thead th {\n",
       "        text-align: right;\n",
       "    }\n",
       "</style>\n",
       "<table border=\"1\" class=\"dataframe\">\n",
       "  <thead>\n",
       "    <tr style=\"text-align: right;\">\n",
       "      <th></th>\n",
       "      <th>name</th>\n",
       "      <th>age</th>\n",
       "      <th>department</th>\n",
       "      <th>sallery</th>\n",
       "    </tr>\n",
       "  </thead>\n",
       "  <tbody>\n",
       "    <tr>\n",
       "      <th>a</th>\n",
       "      <td>jishnu</td>\n",
       "      <td>26.0</td>\n",
       "      <td>HR</td>\n",
       "      <td>50000.0</td>\n",
       "    </tr>\n",
       "    <tr>\n",
       "      <th>b</th>\n",
       "      <td>anusree</td>\n",
       "      <td>26.0</td>\n",
       "      <td>sales</td>\n",
       "      <td>25000.0</td>\n",
       "    </tr>\n",
       "    <tr>\n",
       "      <th>c</th>\n",
       "      <td>vishnu</td>\n",
       "      <td>16.0</td>\n",
       "      <td>student</td>\n",
       "      <td>NaN</td>\n",
       "    </tr>\n",
       "    <tr>\n",
       "      <th>d</th>\n",
       "      <td>abi</td>\n",
       "      <td>NaN</td>\n",
       "      <td>intern</td>\n",
       "      <td>10000.0</td>\n",
       "    </tr>\n",
       "  </tbody>\n",
       "</table>\n",
       "</div>"
      ],
      "text/plain": [
       "      name   age department  sallery\n",
       "a   jishnu  26.0         HR  50000.0\n",
       "b  anusree  26.0      sales  25000.0\n",
       "c   vishnu  16.0    student      NaN\n",
       "d      abi   NaN     intern  10000.0"
      ]
     },
     "execution_count": 162,
     "metadata": {},
     "output_type": "execute_result"
    }
   ],
   "source": [
    "df"
   ]
  },
  {
   "cell_type": "code",
   "execution_count": 167,
   "id": "28a907a2-0e50-4a9d-844d-a571184424a1",
   "metadata": {},
   "outputs": [
    {
     "data": {
      "text/plain": [
       "np.float64(30000.0)"
      ]
     },
     "execution_count": 167,
     "metadata": {},
     "output_type": "execute_result"
    }
   ],
   "source": [
    "df.loc['c','sallery']"
   ]
  },
  {
   "cell_type": "code",
   "execution_count": 169,
   "id": "3d37cf17-dd05-4e31-81f1-4e02ab4b9bde",
   "metadata": {},
   "outputs": [
    {
     "data": {
      "text/html": [
       "<div>\n",
       "<style scoped>\n",
       "    .dataframe tbody tr th:only-of-type {\n",
       "        vertical-align: middle;\n",
       "    }\n",
       "\n",
       "    .dataframe tbody tr th {\n",
       "        vertical-align: top;\n",
       "    }\n",
       "\n",
       "    .dataframe thead th {\n",
       "        text-align: right;\n",
       "    }\n",
       "</style>\n",
       "<table border=\"1\" class=\"dataframe\">\n",
       "  <thead>\n",
       "    <tr style=\"text-align: right;\">\n",
       "      <th></th>\n",
       "      <th>name</th>\n",
       "      <th>age</th>\n",
       "      <th>department</th>\n",
       "      <th>sallery</th>\n",
       "    </tr>\n",
       "  </thead>\n",
       "  <tbody>\n",
       "    <tr>\n",
       "      <th>a</th>\n",
       "      <td>jishnu</td>\n",
       "      <td>26.0</td>\n",
       "      <td>HR</td>\n",
       "      <td>50000.0</td>\n",
       "    </tr>\n",
       "    <tr>\n",
       "      <th>b</th>\n",
       "      <td>anusree</td>\n",
       "      <td>26.0</td>\n",
       "      <td>sales</td>\n",
       "      <td>25000.0</td>\n",
       "    </tr>\n",
       "    <tr>\n",
       "      <th>c</th>\n",
       "      <td>vishnu</td>\n",
       "      <td>16.0</td>\n",
       "      <td>student</td>\n",
       "      <td>30000.0</td>\n",
       "    </tr>\n",
       "    <tr>\n",
       "      <th>d</th>\n",
       "      <td>abi</td>\n",
       "      <td>NaN</td>\n",
       "      <td>intern</td>\n",
       "      <td>10000.0</td>\n",
       "    </tr>\n",
       "  </tbody>\n",
       "</table>\n",
       "</div>"
      ],
      "text/plain": [
       "      name   age department  sallery\n",
       "a   jishnu  26.0         HR  50000.0\n",
       "b  anusree  26.0      sales  25000.0\n",
       "c   vishnu  16.0    student  30000.0\n",
       "d      abi   NaN     intern  10000.0"
      ]
     },
     "execution_count": 169,
     "metadata": {},
     "output_type": "execute_result"
    }
   ],
   "source": [
    "df"
   ]
  },
  {
   "cell_type": "code",
   "execution_count": null,
   "id": "5177d915-ed52-4dbb-b18e-714b3e4fe109",
   "metadata": {},
   "outputs": [],
   "source": []
  }
 ],
 "metadata": {
  "kernelspec": {
   "display_name": "Python 3 (ipykernel)",
   "language": "python",
   "name": "python3"
  },
  "language_info": {
   "codemirror_mode": {
    "name": "ipython",
    "version": 3
   },
   "file_extension": ".py",
   "mimetype": "text/x-python",
   "name": "python",
   "nbconvert_exporter": "python",
   "pygments_lexer": "ipython3",
   "version": "3.13.5"
  }
 },
 "nbformat": 4,
 "nbformat_minor": 5
}
