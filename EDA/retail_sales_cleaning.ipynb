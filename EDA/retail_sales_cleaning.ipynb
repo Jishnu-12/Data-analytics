{
 "cells": [
  {
   "cell_type": "code",
   "execution_count": 2,
   "id": "dee157c9-f9d7-4cc6-9bd7-40d49982aeac",
   "metadata": {},
   "outputs": [],
   "source": [
    "import pandas as pd\n",
    "import numpy as np\n",
    "import matplotlib.pyplot as plt\n",
    "import seaborn as sns"
   ]
  },
  {
   "cell_type": "markdown",
   "id": "302bc39d-4607-413e-bee1-0d518744b978",
   "metadata": {},
   "source": [
    "### original data-set"
   ]
  },
  {
   "cell_type": "code",
   "execution_count": 7,
   "id": "c9d2c118-340c-4d78-9cbb-9bb94d9479bd",
   "metadata": {},
   "outputs": [],
   "source": [
    "data = pd.read_csv(\"/home/jishnu/Desktop/data analytics/EDA/original - data_sets/retail_store_sales.csv\")"
   ]
  },
  {
   "cell_type": "markdown",
   "id": "9efcee46-d4ab-42d7-8ab7-1a87f2e17bdb",
   "metadata": {},
   "source": [
    "### data-set copy"
   ]
  },
  {
   "cell_type": "code",
   "execution_count": 8,
   "id": "ec4a37e9-c457-40a2-acfc-a2ad0a29738c",
   "metadata": {},
   "outputs": [],
   "source": [
    "df = data.copy()"
   ]
  },
  {
   "cell_type": "code",
   "execution_count": 9,
   "id": "65c66251-4d98-4e61-aaab-e532d7add3bb",
   "metadata": {},
   "outputs": [
    {
     "data": {
      "text/plain": [
       "(12575, 11)"
      ]
     },
     "execution_count": 9,
     "metadata": {},
     "output_type": "execute_result"
    }
   ],
   "source": [
    "df.shape"
   ]
  },
  {
   "cell_type": "code",
   "execution_count": 10,
   "id": "6b9e315d-c397-4487-a128-54fc68ce87f3",
   "metadata": {},
   "outputs": [
    {
     "name": "stdout",
     "output_type": "stream",
     "text": [
      "<class 'pandas.core.frame.DataFrame'>\n",
      "RangeIndex: 12575 entries, 0 to 12574\n",
      "Data columns (total 11 columns):\n",
      " #   Column            Non-Null Count  Dtype  \n",
      "---  ------            --------------  -----  \n",
      " 0   Transaction ID    12575 non-null  object \n",
      " 1   Customer ID       12575 non-null  object \n",
      " 2   Category          12575 non-null  object \n",
      " 3   Item              11362 non-null  object \n",
      " 4   Price Per Unit    11966 non-null  float64\n",
      " 5   Quantity          11971 non-null  float64\n",
      " 6   Total Spent       11971 non-null  float64\n",
      " 7   Payment Method    12575 non-null  object \n",
      " 8   Location          12575 non-null  object \n",
      " 9   Transaction Date  12575 non-null  object \n",
      " 10  Discount Applied  8376 non-null   object \n",
      "dtypes: float64(3), object(8)\n",
      "memory usage: 1.1+ MB\n"
     ]
    }
   ],
   "source": [
    "df.info()"
   ]
  },
  {
   "cell_type": "code",
   "execution_count": 11,
   "id": "d67062bb-917c-4ad3-bf92-83b797f29e3c",
   "metadata": {},
   "outputs": [
    {
     "data": {
      "text/html": [
       "<div>\n",
       "<style scoped>\n",
       "    .dataframe tbody tr th:only-of-type {\n",
       "        vertical-align: middle;\n",
       "    }\n",
       "\n",
       "    .dataframe tbody tr th {\n",
       "        vertical-align: top;\n",
       "    }\n",
       "\n",
       "    .dataframe thead th {\n",
       "        text-align: right;\n",
       "    }\n",
       "</style>\n",
       "<table border=\"1\" class=\"dataframe\">\n",
       "  <thead>\n",
       "    <tr style=\"text-align: right;\">\n",
       "      <th></th>\n",
       "      <th>Price Per Unit</th>\n",
       "      <th>Quantity</th>\n",
       "      <th>Total Spent</th>\n",
       "    </tr>\n",
       "  </thead>\n",
       "  <tbody>\n",
       "    <tr>\n",
       "      <th>count</th>\n",
       "      <td>11966.000000</td>\n",
       "      <td>11971.000000</td>\n",
       "      <td>11971.000000</td>\n",
       "    </tr>\n",
       "    <tr>\n",
       "      <th>mean</th>\n",
       "      <td>23.365912</td>\n",
       "      <td>5.536380</td>\n",
       "      <td>129.652577</td>\n",
       "    </tr>\n",
       "    <tr>\n",
       "      <th>std</th>\n",
       "      <td>10.743519</td>\n",
       "      <td>2.857883</td>\n",
       "      <td>94.750697</td>\n",
       "    </tr>\n",
       "    <tr>\n",
       "      <th>min</th>\n",
       "      <td>5.000000</td>\n",
       "      <td>1.000000</td>\n",
       "      <td>5.000000</td>\n",
       "    </tr>\n",
       "    <tr>\n",
       "      <th>25%</th>\n",
       "      <td>14.000000</td>\n",
       "      <td>3.000000</td>\n",
       "      <td>51.000000</td>\n",
       "    </tr>\n",
       "    <tr>\n",
       "      <th>50%</th>\n",
       "      <td>23.000000</td>\n",
       "      <td>6.000000</td>\n",
       "      <td>108.500000</td>\n",
       "    </tr>\n",
       "    <tr>\n",
       "      <th>75%</th>\n",
       "      <td>33.500000</td>\n",
       "      <td>8.000000</td>\n",
       "      <td>192.000000</td>\n",
       "    </tr>\n",
       "    <tr>\n",
       "      <th>max</th>\n",
       "      <td>41.000000</td>\n",
       "      <td>10.000000</td>\n",
       "      <td>410.000000</td>\n",
       "    </tr>\n",
       "  </tbody>\n",
       "</table>\n",
       "</div>"
      ],
      "text/plain": [
       "       Price Per Unit      Quantity   Total Spent\n",
       "count    11966.000000  11971.000000  11971.000000\n",
       "mean        23.365912      5.536380    129.652577\n",
       "std         10.743519      2.857883     94.750697\n",
       "min          5.000000      1.000000      5.000000\n",
       "25%         14.000000      3.000000     51.000000\n",
       "50%         23.000000      6.000000    108.500000\n",
       "75%         33.500000      8.000000    192.000000\n",
       "max         41.000000     10.000000    410.000000"
      ]
     },
     "execution_count": 11,
     "metadata": {},
     "output_type": "execute_result"
    }
   ],
   "source": [
    "df.describe()"
   ]
  },
  {
   "cell_type": "code",
   "execution_count": 13,
   "id": "c964a0ab-cb56-498a-940c-1af2b3ea0c24",
   "metadata": {},
   "outputs": [
    {
     "data": {
      "text/html": [
       "<div>\n",
       "<style scoped>\n",
       "    .dataframe tbody tr th:only-of-type {\n",
       "        vertical-align: middle;\n",
       "    }\n",
       "\n",
       "    .dataframe tbody tr th {\n",
       "        vertical-align: top;\n",
       "    }\n",
       "\n",
       "    .dataframe thead th {\n",
       "        text-align: right;\n",
       "    }\n",
       "</style>\n",
       "<table border=\"1\" class=\"dataframe\">\n",
       "  <thead>\n",
       "    <tr style=\"text-align: right;\">\n",
       "      <th></th>\n",
       "      <th>Transaction ID</th>\n",
       "      <th>Customer ID</th>\n",
       "      <th>Category</th>\n",
       "      <th>Item</th>\n",
       "      <th>Price Per Unit</th>\n",
       "      <th>Quantity</th>\n",
       "      <th>Total Spent</th>\n",
       "      <th>Payment Method</th>\n",
       "      <th>Location</th>\n",
       "      <th>Transaction Date</th>\n",
       "      <th>Discount Applied</th>\n",
       "    </tr>\n",
       "  </thead>\n",
       "  <tbody>\n",
       "    <tr>\n",
       "      <th>0</th>\n",
       "      <td>TXN_6867343</td>\n",
       "      <td>CUST_09</td>\n",
       "      <td>Patisserie</td>\n",
       "      <td>Item_10_PAT</td>\n",
       "      <td>18.5</td>\n",
       "      <td>10.0</td>\n",
       "      <td>185.0</td>\n",
       "      <td>Digital Wallet</td>\n",
       "      <td>Online</td>\n",
       "      <td>2024-04-08</td>\n",
       "      <td>True</td>\n",
       "    </tr>\n",
       "    <tr>\n",
       "      <th>1</th>\n",
       "      <td>TXN_3731986</td>\n",
       "      <td>CUST_22</td>\n",
       "      <td>Milk Products</td>\n",
       "      <td>Item_17_MILK</td>\n",
       "      <td>29.0</td>\n",
       "      <td>9.0</td>\n",
       "      <td>261.0</td>\n",
       "      <td>Digital Wallet</td>\n",
       "      <td>Online</td>\n",
       "      <td>2023-07-23</td>\n",
       "      <td>True</td>\n",
       "    </tr>\n",
       "    <tr>\n",
       "      <th>2</th>\n",
       "      <td>TXN_9303719</td>\n",
       "      <td>CUST_02</td>\n",
       "      <td>Butchers</td>\n",
       "      <td>Item_12_BUT</td>\n",
       "      <td>21.5</td>\n",
       "      <td>2.0</td>\n",
       "      <td>43.0</td>\n",
       "      <td>Credit Card</td>\n",
       "      <td>Online</td>\n",
       "      <td>2022-10-05</td>\n",
       "      <td>False</td>\n",
       "    </tr>\n",
       "    <tr>\n",
       "      <th>3</th>\n",
       "      <td>TXN_9458126</td>\n",
       "      <td>CUST_06</td>\n",
       "      <td>Beverages</td>\n",
       "      <td>Item_16_BEV</td>\n",
       "      <td>27.5</td>\n",
       "      <td>9.0</td>\n",
       "      <td>247.5</td>\n",
       "      <td>Credit Card</td>\n",
       "      <td>Online</td>\n",
       "      <td>2022-05-07</td>\n",
       "      <td>NaN</td>\n",
       "    </tr>\n",
       "    <tr>\n",
       "      <th>4</th>\n",
       "      <td>TXN_4575373</td>\n",
       "      <td>CUST_05</td>\n",
       "      <td>Food</td>\n",
       "      <td>Item_6_FOOD</td>\n",
       "      <td>12.5</td>\n",
       "      <td>7.0</td>\n",
       "      <td>87.5</td>\n",
       "      <td>Digital Wallet</td>\n",
       "      <td>Online</td>\n",
       "      <td>2022-10-02</td>\n",
       "      <td>False</td>\n",
       "    </tr>\n",
       "  </tbody>\n",
       "</table>\n",
       "</div>"
      ],
      "text/plain": [
       "  Transaction ID Customer ID       Category          Item  Price Per Unit  \\\n",
       "0    TXN_6867343     CUST_09     Patisserie   Item_10_PAT            18.5   \n",
       "1    TXN_3731986     CUST_22  Milk Products  Item_17_MILK            29.0   \n",
       "2    TXN_9303719     CUST_02       Butchers   Item_12_BUT            21.5   \n",
       "3    TXN_9458126     CUST_06      Beverages   Item_16_BEV            27.5   \n",
       "4    TXN_4575373     CUST_05           Food   Item_6_FOOD            12.5   \n",
       "\n",
       "   Quantity  Total Spent  Payment Method Location Transaction Date  \\\n",
       "0      10.0        185.0  Digital Wallet   Online       2024-04-08   \n",
       "1       9.0        261.0  Digital Wallet   Online       2023-07-23   \n",
       "2       2.0         43.0     Credit Card   Online       2022-10-05   \n",
       "3       9.0        247.5     Credit Card   Online       2022-05-07   \n",
       "4       7.0         87.5  Digital Wallet   Online       2022-10-02   \n",
       "\n",
       "  Discount Applied  \n",
       "0             True  \n",
       "1             True  \n",
       "2            False  \n",
       "3              NaN  \n",
       "4            False  "
      ]
     },
     "execution_count": 13,
     "metadata": {},
     "output_type": "execute_result"
    }
   ],
   "source": [
    "df.head()"
   ]
  },
  {
   "cell_type": "code",
   "execution_count": 12,
   "id": "0439de84-4d8b-4428-a36d-0c99a40bf0f6",
   "metadata": {},
   "outputs": [
    {
     "data": {
      "text/plain": [
       "Transaction ID         0\n",
       "Customer ID            0\n",
       "Category               0\n",
       "Item                1213\n",
       "Price Per Unit       609\n",
       "Quantity             604\n",
       "Total Spent          604\n",
       "Payment Method         0\n",
       "Location               0\n",
       "Transaction Date       0\n",
       "Discount Applied    4199\n",
       "dtype: int64"
      ]
     },
     "execution_count": 12,
     "metadata": {},
     "output_type": "execute_result"
    }
   ],
   "source": [
    "df.isnull().sum()"
   ]
  },
  {
   "cell_type": "code",
   "execution_count": 17,
   "id": "d37b0345-0efd-4ffd-8241-2161216cd7ae",
   "metadata": {},
   "outputs": [
    {
     "data": {
      "image/png": "[encoded data removed]",
      "text/plain": [
       "<Figure size 640x480 with 4 Axes>"
      ]
     },
     "metadata": {},
     "output_type": "display_data"
    }
   ],
   "source": [
    "col1  = [\"Price Per Unit\",\"Quantity\",\"Total Spent\"] # numerical\n",
    "col2 = [\"Item\",\"Discount Applied\"] # catagorical\n",
    "\n",
    "df[col1].hist()\n",
    "plt.show()"
   ]
  },
  {
   "cell_type": "code",
   "execution_count": 18,
   "id": "3ad1bb2a-11a5-4e8e-8bc4-db0786d55d5c",
   "metadata": {},
   "outputs": [],
   "source": [
    "for i in df[col1]:\n",
    "    df[i] = df[i].fillna(df[i].median()) # numerical filling"
   ]
  },
  {
   "cell_type": "code",
   "execution_count": 21,
   "id": "8b7bfcc3-4e1e-4fdc-8dc3-4caea6acaac4",
   "metadata": {},
   "outputs": [],
   "source": [
    "for i in df[col2]:\n",
    "    df[i] = df[i].fillna(df[i].mode()[0]).infer_objects(copy=False) # catagorical filling"
   ]
  },
  {
   "cell_type": "code",
   "execution_count": 24,
   "id": "58d2c146-c786-435f-9645-89596f324c25",
   "metadata": {},
   "outputs": [
    {
     "data": {
      "text/plain": [
       "Transaction ID      0\n",
       "Customer ID         0\n",
       "Category            0\n",
       "Item                0\n",
       "Price Per Unit      0\n",
       "Quantity            0\n",
       "Total Spent         0\n",
       "Payment Method      0\n",
       "Location            0\n",
       "Transaction Date    0\n",
       "Discount Applied    0\n",
       "dtype: int64"
      ]
     },
     "execution_count": 24,
     "metadata": {},
     "output_type": "execute_result"
    }
   ],
   "source": [
    "df.isnull().sum()"
   ]
  },
  {
   "cell_type": "code",
   "execution_count": 26,
   "id": "56199f06-eeda-45de-861c-514b1f419256",
   "metadata": {},
   "outputs": [
    {
     "data": {
      "image/png": "[encoded data removed]",
      "text/plain": [
       "<Figure size 2000x500 with 3 Axes>"
      ]
     },
     "metadata": {},
     "output_type": "display_data"
    }
   ],
   "source": [
    "fig,axs = plt.subplots(1,3,figsize = (20,5))\n",
    "titles = [\"Price Per Unit\",\"Quantity\",\"Total Spent\"]\n",
    "for i in range(3):\n",
    "    axs[i].boxplot(df[col1[i]])\n",
    "    axs[i].set_title(titles[i])\n",
    "plt.show()"
   ]
  },
  {
   "cell_type": "code",
   "execution_count": 32,
   "id": "0958d781-8378-4a7c-bfda-778721dcdda3",
   "metadata": {},
   "outputs": [
    {
     "data": {
      "text/plain": [
       "Index([   27,   120,   129,   133,   135,   146,   339,   485,   668,   869,\n",
       "       ...\n",
       "       11940, 12041, 12176, 12189, 12192, 12209, 12216, 12243, 12542, 12557],\n",
       "      dtype='int64', length=157)"
      ]
     },
     "execution_count": 32,
     "metadata": {},
     "output_type": "execute_result"
    }
   ],
   "source": [
    "Q1 = np.percentile(df[\"Total Spent\"],25,method = \"midpoint\")\n",
    "Q3 = np.percentile(df[\"Total Spent\"],75,method = \"midpoint\")\n",
    "\n",
    "IQR = Q3 - Q1\n",
    "upper = Q3 + 1.5 * IQR\n",
    "lower = Q1 -1.5 * IQR\n",
    "\n",
    "outlier = df[(df[\"Total Spent\"] > upper) | (df[\"Total Spent\"] < lower)]\n",
    "outlier_list = outlier[\"Total Spent\"].tolist()\n",
    "outlier_list"
   ]
  },
  {
   "cell_type": "code",
   "execution_count": 33,
   "id": "b69c4e65-6a31-49cb-b503-bfe54ae052ee",
   "metadata": {},
   "outputs": [],
   "source": [
    "df= df[(df[\"Total Spent\"] >= lower) & (df[\"Total Spent\"] <= upper)] #removes the outlier"
   ]
  },
  {
   "cell_type": "code",
   "execution_count": 35,
   "id": "4817d16d-70a5-4c9d-9e5c-1fb6687c0338",
   "metadata": {},
   "outputs": [
    {
     "data": {
      "text/plain": [
       "[]"
      ]
     },
     "execution_count": 35,
     "metadata": {},
     "output_type": "execute_result"
    }
   ],
   "source": [
    "outlier = df[(df[\"Total Spent\"] > upper) | (df[\"Total Spent\"] < lower)][\"Total Spent\"].tolist()\n",
    "outlier"
   ]
  },
  {
   "cell_type": "code",
   "execution_count": 36,
   "id": "47c42e22-85e2-4987-8df0-c910aa100179",
   "metadata": {},
   "outputs": [
    {
     "data": {
      "text/plain": [
       "Transaction ID      0\n",
       "Customer ID         0\n",
       "Category            0\n",
       "Item                0\n",
       "Price Per Unit      0\n",
       "Quantity            0\n",
       "Total Spent         0\n",
       "Payment Method      0\n",
       "Location            0\n",
       "Transaction Date    0\n",
       "Discount Applied    0\n",
       "dtype: int64"
      ]
     },
     "execution_count": 36,
     "metadata": {},
     "output_type": "execute_result"
    }
   ],
   "source": [
    "df.isnull().sum()"
   ]
  },
  {
   "cell_type": "code",
   "execution_count": 41,
   "id": "edb7a547-8c14-4a51-a21d-9753e8218e06",
   "metadata": {},
   "outputs": [],
   "source": [
    "df.reset_index(drop = True , inplace = True)"
   ]
  },
  {
   "cell_type": "code",
   "execution_count": 42,
   "id": "e5b21f38-bf19-40fa-a417-a77169aacec5",
   "metadata": {},
   "outputs": [
    {
     "data": {
      "text/html": [
       "<div>\n",
       "<style scoped>\n",
       "    .dataframe tbody tr th:only-of-type {\n",
       "        vertical-align: middle;\n",
       "    }\n",
       "\n",
       "    .dataframe tbody tr th {\n",
       "        vertical-align: top;\n",
       "    }\n",
       "\n",
       "    .dataframe thead th {\n",
       "        text-align: right;\n",
       "    }\n",
       "</style>\n",
       "<table border=\"1\" class=\"dataframe\">\n",
       "  <thead>\n",
       "    <tr style=\"text-align: right;\">\n",
       "      <th></th>\n",
       "      <th>Transaction ID</th>\n",
       "      <th>Customer ID</th>\n",
       "      <th>Category</th>\n",
       "      <th>Item</th>\n",
       "      <th>Price Per Unit</th>\n",
       "      <th>Quantity</th>\n",
       "      <th>Total Spent</th>\n",
       "      <th>Payment Method</th>\n",
       "      <th>Location</th>\n",
       "      <th>Transaction Date</th>\n",
       "      <th>Discount Applied</th>\n",
       "    </tr>\n",
       "  </thead>\n",
       "  <tbody>\n",
       "    <tr>\n",
       "      <th>0</th>\n",
       "      <td>TXN_6867343</td>\n",
       "      <td>CUST_09</td>\n",
       "      <td>Patisserie</td>\n",
       "      <td>Item_10_PAT</td>\n",
       "      <td>18.5</td>\n",
       "      <td>10.0</td>\n",
       "      <td>185.0</td>\n",
       "      <td>Digital Wallet</td>\n",
       "      <td>Online</td>\n",
       "      <td>2024-04-08</td>\n",
       "      <td>True</td>\n",
       "    </tr>\n",
       "    <tr>\n",
       "      <th>1</th>\n",
       "      <td>TXN_3731986</td>\n",
       "      <td>CUST_22</td>\n",
       "      <td>Milk Products</td>\n",
       "      <td>Item_17_MILK</td>\n",
       "      <td>29.0</td>\n",
       "      <td>9.0</td>\n",
       "      <td>261.0</td>\n",
       "      <td>Digital Wallet</td>\n",
       "      <td>Online</td>\n",
       "      <td>2023-07-23</td>\n",
       "      <td>True</td>\n",
       "    </tr>\n",
       "    <tr>\n",
       "      <th>2</th>\n",
       "      <td>TXN_9303719</td>\n",
       "      <td>CUST_02</td>\n",
       "      <td>Butchers</td>\n",
       "      <td>Item_12_BUT</td>\n",
       "      <td>21.5</td>\n",
       "      <td>2.0</td>\n",
       "      <td>43.0</td>\n",
       "      <td>Credit Card</td>\n",
       "      <td>Online</td>\n",
       "      <td>2022-10-05</td>\n",
       "      <td>False</td>\n",
       "    </tr>\n",
       "    <tr>\n",
       "      <th>3</th>\n",
       "      <td>TXN_9458126</td>\n",
       "      <td>CUST_06</td>\n",
       "      <td>Beverages</td>\n",
       "      <td>Item_16_BEV</td>\n",
       "      <td>27.5</td>\n",
       "      <td>9.0</td>\n",
       "      <td>247.5</td>\n",
       "      <td>Credit Card</td>\n",
       "      <td>Online</td>\n",
       "      <td>2022-05-07</td>\n",
       "      <td>True</td>\n",
       "    </tr>\n",
       "    <tr>\n",
       "      <th>4</th>\n",
       "      <td>TXN_4575373</td>\n",
       "      <td>CUST_05</td>\n",
       "      <td>Food</td>\n",
       "      <td>Item_6_FOOD</td>\n",
       "      <td>12.5</td>\n",
       "      <td>7.0</td>\n",
       "      <td>87.5</td>\n",
       "      <td>Digital Wallet</td>\n",
       "      <td>Online</td>\n",
       "      <td>2022-10-02</td>\n",
       "      <td>False</td>\n",
       "    </tr>\n",
       "    <tr>\n",
       "      <th>...</th>\n",
       "      <td>...</td>\n",
       "      <td>...</td>\n",
       "      <td>...</td>\n",
       "      <td>...</td>\n",
       "      <td>...</td>\n",
       "      <td>...</td>\n",
       "      <td>...</td>\n",
       "      <td>...</td>\n",
       "      <td>...</td>\n",
       "      <td>...</td>\n",
       "      <td>...</td>\n",
       "    </tr>\n",
       "    <tr>\n",
       "      <th>12413</th>\n",
       "      <td>TXN_9347481</td>\n",
       "      <td>CUST_18</td>\n",
       "      <td>Patisserie</td>\n",
       "      <td>Item_23_PAT</td>\n",
       "      <td>38.0</td>\n",
       "      <td>4.0</td>\n",
       "      <td>152.0</td>\n",
       "      <td>Credit Card</td>\n",
       "      <td>In-store</td>\n",
       "      <td>2023-09-03</td>\n",
       "      <td>True</td>\n",
       "    </tr>\n",
       "    <tr>\n",
       "      <th>12414</th>\n",
       "      <td>TXN_4009414</td>\n",
       "      <td>CUST_03</td>\n",
       "      <td>Beverages</td>\n",
       "      <td>Item_2_BEV</td>\n",
       "      <td>6.5</td>\n",
       "      <td>9.0</td>\n",
       "      <td>58.5</td>\n",
       "      <td>Cash</td>\n",
       "      <td>Online</td>\n",
       "      <td>2022-08-12</td>\n",
       "      <td>False</td>\n",
       "    </tr>\n",
       "    <tr>\n",
       "      <th>12415</th>\n",
       "      <td>TXN_5306010</td>\n",
       "      <td>CUST_11</td>\n",
       "      <td>Butchers</td>\n",
       "      <td>Item_7_BUT</td>\n",
       "      <td>14.0</td>\n",
       "      <td>10.0</td>\n",
       "      <td>140.0</td>\n",
       "      <td>Cash</td>\n",
       "      <td>Online</td>\n",
       "      <td>2024-08-24</td>\n",
       "      <td>True</td>\n",
       "    </tr>\n",
       "    <tr>\n",
       "      <th>12416</th>\n",
       "      <td>TXN_5167298</td>\n",
       "      <td>CUST_04</td>\n",
       "      <td>Furniture</td>\n",
       "      <td>Item_7_FUR</td>\n",
       "      <td>14.0</td>\n",
       "      <td>6.0</td>\n",
       "      <td>84.0</td>\n",
       "      <td>Cash</td>\n",
       "      <td>Online</td>\n",
       "      <td>2023-12-30</td>\n",
       "      <td>True</td>\n",
       "    </tr>\n",
       "    <tr>\n",
       "      <th>12417</th>\n",
       "      <td>TXN_2407494</td>\n",
       "      <td>CUST_23</td>\n",
       "      <td>Food</td>\n",
       "      <td>Item_9_FOOD</td>\n",
       "      <td>17.0</td>\n",
       "      <td>3.0</td>\n",
       "      <td>51.0</td>\n",
       "      <td>Cash</td>\n",
       "      <td>Online</td>\n",
       "      <td>2022-08-06</td>\n",
       "      <td>True</td>\n",
       "    </tr>\n",
       "  </tbody>\n",
       "</table>\n",
       "<p>12418 rows × 11 columns</p>\n",
       "</div>"
      ],
      "text/plain": [
       "      Transaction ID Customer ID       Category          Item  Price Per Unit  \\\n",
       "0        TXN_6867343     CUST_09     Patisserie   Item_10_PAT            18.5   \n",
       "1        TXN_3731986     CUST_22  Milk Products  Item_17_MILK            29.0   \n",
       "2        TXN_9303719     CUST_02       Butchers   Item_12_BUT            21.5   \n",
       "3        TXN_9458126     CUST_06      Beverages   Item_16_BEV            27.5   \n",
       "4        TXN_4575373     CUST_05           Food   Item_6_FOOD            12.5   \n",
       "...              ...         ...            ...           ...             ...   \n",
       "12413    TXN_9347481     CUST_18     Patisserie   Item_23_PAT            38.0   \n",
       "12414    TXN_4009414     CUST_03      Beverages    Item_2_BEV             6.5   \n",
       "12415    TXN_5306010     CUST_11       Butchers    Item_7_BUT            14.0   \n",
       "12416    TXN_5167298     CUST_04      Furniture    Item_7_FUR            14.0   \n",
       "12417    TXN_2407494     CUST_23           Food   Item_9_FOOD            17.0   \n",
       "\n",
       "       Quantity  Total Spent  Payment Method  Location Transaction Date  \\\n",
       "0          10.0        185.0  Digital Wallet    Online       2024-04-08   \n",
       "1           9.0        261.0  Digital Wallet    Online       2023-07-23   \n",
       "2           2.0         43.0     Credit Card    Online       2022-10-05   \n",
       "3           9.0        247.5     Credit Card    Online       2022-05-07   \n",
       "4           7.0         87.5  Digital Wallet    Online       2022-10-02   \n",
       "...         ...          ...             ...       ...              ...   \n",
       "12413       4.0        152.0     Credit Card  In-store       2023-09-03   \n",
       "12414       9.0         58.5            Cash    Online       2022-08-12   \n",
       "12415      10.0        140.0            Cash    Online       2024-08-24   \n",
       "12416       6.0         84.0            Cash    Online       2023-12-30   \n",
       "12417       3.0         51.0            Cash    Online       2022-08-06   \n",
       "\n",
       "       Discount Applied  \n",
       "0                  True  \n",
       "1                  True  \n",
       "2                 False  \n",
       "3                  True  \n",
       "4                 False  \n",
       "...                 ...  \n",
       "12413              True  \n",
       "12414             False  \n",
       "12415              True  \n",
       "12416              True  \n",
       "12417              True  \n",
       "\n",
       "[12418 rows x 11 columns]"
      ]
     },
     "execution_count": 42,
     "metadata": {},
     "output_type": "execute_result"
    }
   ],
   "source": [
    "df"
   ]
  },
  {
   "cell_type": "code",
   "execution_count": 43,
   "id": "f3731da5-7a47-4018-8b7b-1a46736d8cf6",
   "metadata": {},
   "outputs": [
    {
     "data": {
      "text/plain": [
       "[]"
      ]
     },
     "execution_count": 43,
     "metadata": {},
     "output_type": "execute_result"
    }
   ],
   "source": [
    "Q1 = np.percentile(df[\"Quantity\"],25,method = \"midpoint\")\n",
    "Q3 = np.percentile(df[\"Quantity\"],75,method = \"midpoint\")\n",
    "\n",
    "IQR = Q3 - Q1\n",
    "upper = Q3 + 1.5 * IQR\n",
    "lower = Q1 -1.5 * IQR\n",
    "\n",
    "outlier = df[(df[\"Quantity\"] > upper) | (df[\"Quantity\"] < lower)]\n",
    "outlier_list = outlier[\"Quantity\"].tolist()\n",
    "outlier_list"
   ]
  },
  {
   "cell_type": "code",
   "execution_count": 52,
   "id": "fcdccc42-7b66-46f0-9132-925c12463020",
   "metadata": {},
   "outputs": [
    {
     "data": {
      "text/plain": [
       "[]"
      ]
     },
     "execution_count": 52,
     "metadata": {},
     "output_type": "execute_result"
    }
   ],
   "source": [
    "Q1 = np.percentile(df[\"Price Per Unit\"],25,method = \"midpoint\")\n",
    "Q3 = np.percentile(df[\"Price Per Unit\"],75,method = \"midpoint\")\n",
    "\n",
    "IQR = Q3 - Q1\n",
    "upper = Q3 + 1.5 * IQR\n",
    "lower = Q1 - 1.5 * IQR\n",
    "\n",
    "outlier = []\n",
    "\n",
    "for i in df[\"Price Per Unit\"]:\n",
    "    if((i > upper) or (i < lower)):\n",
    "        outlier.append(i)\n",
    "outlier\n",
    "\n"
   ]
  },
  {
   "cell_type": "code",
   "execution_count": 53,
   "id": "5a986199-1a20-434c-9339-ca5eba8f7ec0",
   "metadata": {},
   "outputs": [
    {
     "name": "stdout",
     "output_type": "stream",
     "text": [
      "<class 'pandas.core.frame.DataFrame'>\n",
      "RangeIndex: 12418 entries, 0 to 12417\n",
      "Data columns (total 11 columns):\n",
      " #   Column            Non-Null Count  Dtype  \n",
      "---  ------            --------------  -----  \n",
      " 0   Transaction ID    12418 non-null  object \n",
      " 1   Customer ID       12418 non-null  object \n",
      " 2   Category          12418 non-null  object \n",
      " 3   Item              12418 non-null  object \n",
      " 4   Price Per Unit    12418 non-null  float64\n",
      " 5   Quantity          12418 non-null  float64\n",
      " 6   Total Spent       12418 non-null  float64\n",
      " 7   Payment Method    12418 non-null  object \n",
      " 8   Location          12418 non-null  object \n",
      " 9   Transaction Date  12418 non-null  object \n",
      " 10  Discount Applied  12418 non-null  bool   \n",
      "dtypes: bool(1), float64(3), object(7)\n",
      "memory usage: 982.4+ KB\n"
     ]
    }
   ],
   "source": [
    "df.info()"
   ]
  },
  {
   "cell_type": "code",
   "execution_count": 54,
   "id": "f491a01a-92c2-48ee-a49e-ceebc8348f6d",
   "metadata": {},
   "outputs": [
    {
     "data": {
      "text/html": [
       "<div>\n",
       "<style scoped>\n",
       "    .dataframe tbody tr th:only-of-type {\n",
       "        vertical-align: middle;\n",
       "    }\n",
       "\n",
       "    .dataframe tbody tr th {\n",
       "        vertical-align: top;\n",
       "    }\n",
       "\n",
       "    .dataframe thead th {\n",
       "        text-align: right;\n",
       "    }\n",
       "</style>\n",
       "<table border=\"1\" class=\"dataframe\">\n",
       "  <thead>\n",
       "    <tr style=\"text-align: right;\">\n",
       "      <th></th>\n",
       "      <th>Price Per Unit</th>\n",
       "      <th>Quantity</th>\n",
       "      <th>Total Spent</th>\n",
       "    </tr>\n",
       "  </thead>\n",
       "  <tbody>\n",
       "    <tr>\n",
       "      <th>count</th>\n",
       "      <td>12418.000000</td>\n",
       "      <td>12418.000000</td>\n",
       "      <td>12418.000000</td>\n",
       "    </tr>\n",
       "    <tr>\n",
       "      <th>mean</th>\n",
       "      <td>23.155701</td>\n",
       "      <td>5.502496</td>\n",
       "      <td>125.266549</td>\n",
       "    </tr>\n",
       "    <tr>\n",
       "      <th>std</th>\n",
       "      <td>10.394878</td>\n",
       "      <td>2.762402</td>\n",
       "      <td>88.109931</td>\n",
       "    </tr>\n",
       "    <tr>\n",
       "      <th>min</th>\n",
       "      <td>5.000000</td>\n",
       "      <td>1.000000</td>\n",
       "      <td>5.000000</td>\n",
       "    </tr>\n",
       "    <tr>\n",
       "      <th>25%</th>\n",
       "      <td>14.000000</td>\n",
       "      <td>3.000000</td>\n",
       "      <td>55.000000</td>\n",
       "    </tr>\n",
       "    <tr>\n",
       "      <th>50%</th>\n",
       "      <td>23.000000</td>\n",
       "      <td>6.000000</td>\n",
       "      <td>108.500000</td>\n",
       "    </tr>\n",
       "    <tr>\n",
       "      <th>75%</th>\n",
       "      <td>32.000000</td>\n",
       "      <td>8.000000</td>\n",
       "      <td>182.000000</td>\n",
       "    </tr>\n",
       "    <tr>\n",
       "      <th>max</th>\n",
       "      <td>41.000000</td>\n",
       "      <td>10.000000</td>\n",
       "      <td>369.000000</td>\n",
       "    </tr>\n",
       "  </tbody>\n",
       "</table>\n",
       "</div>"
      ],
      "text/plain": [
       "       Price Per Unit      Quantity   Total Spent\n",
       "count    12418.000000  12418.000000  12418.000000\n",
       "mean        23.155701      5.502496    125.266549\n",
       "std         10.394878      2.762402     88.109931\n",
       "min          5.000000      1.000000      5.000000\n",
       "25%         14.000000      3.000000     55.000000\n",
       "50%         23.000000      6.000000    108.500000\n",
       "75%         32.000000      8.000000    182.000000\n",
       "max         41.000000     10.000000    369.000000"
      ]
     },
     "execution_count": 54,
     "metadata": {},
     "output_type": "execute_result"
    }
   ],
   "source": [
    "df.describe()"
   ]
  },
  {
   "cell_type": "code",
   "execution_count": 55,
   "id": "cd81be81-91f7-4160-9b56-6b8a1b26dcc2",
   "metadata": {},
   "outputs": [],
   "source": [
    "df.to_csv(\"cleaned_retail_sales.csv\", index = False)"
   ]
  },
  {
   "cell_type": "code",
   "execution_count": null,
   "id": "9480440c-17d2-421c-9917-032f828ef1e3",
   "metadata": {},
   "outputs": [],
   "source": []
  }
 ],
 "metadata": {
  "kernelspec": {
   "display_name": "Python 3 (ipykernel)",
   "language": "python",
   "name": "python3"
  },
  "language_info": {
   "codemirror_mode": {
    "name": "ipython",
    "version": 3
   },
   "file_extension": ".py",
   "mimetype": "text/x-python",
   "name": "python",
   "nbconvert_exporter": "python",
   "pygments_lexer": "ipython3",
   "version": "3.13.5"
  }
 },
 "nbformat": 4,
 "nbformat_minor": 5
}
