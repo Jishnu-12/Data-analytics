{
 "cells": [
  {
   "cell_type": "code",
   "execution_count": 30,
   "id": "9ef41070-5523-4778-8b66-eb476f9eeacc",
   "metadata": {},
   "outputs": [
    {
     "data": {
      "text/plain": [
       "Poster_Link        0\n",
       "Series_Title       0\n",
       "Released_Year      0\n",
       "Certificate      101\n",
       "Runtime            0\n",
       "Genre              0\n",
       "IMDB_Rating        0\n",
       "Overview           0\n",
       "Meta_score         0\n",
       "Director           0\n",
       "Star1              0\n",
       "Star2              0\n",
       "Star3              0\n",
       "Star4              0\n",
       "No_of_Votes        0\n",
       "Gross            169\n",
       "dtype: int64"
      ]
     },
     "execution_count": 30,
     "metadata": {},
     "output_type": "execute_result"
    }
   ],
   "source": [
    "import pandas as pd\n",
    "import matplotlib.pyplot as plt\n",
    "import seaborn as sns\n",
    "\n",
    "\n",
    "\n",
    "data = pd.read_csv(\"imdb_top_1000.csv\")\n",
    "\n",
    "df = data.copy()\n",
    "c = df.copy()\n",
    "c[\"Meta_score\"] = c[\"Meta_score\"].fillna(c[\"Meta_score\"].mean())\n",
    "c[\"Certificate\"] = c[\"Certificate\"].fillna(c[\"Certificate\"].mode())\n",
    "c[\"Gross\"] = c[\"Gross\"].fillna(c[\"Gross\"].mode())\n",
    "\n",
    "c.isnull().sum()"
   ]
  },
  {
   "cell_type": "code",
   "execution_count": null,
   "id": "ca4fe445-6194-4419-83be-9e8324ce654c",
   "metadata": {},
   "outputs": [],
   "source": []
  }
 ],
 "metadata": {
  "kernelspec": {
   "display_name": "Python 3 (ipykernel)",
   "language": "python",
   "name": "python3"
  },
  "language_info": {
   "codemirror_mode": {
    "name": "ipython",
    "version": 3
   },
   "file_extension": ".py",
   "mimetype": "text/x-python",
   "name": "python",
   "nbconvert_exporter": "python",
   "pygments_lexer": "ipython3",
   "version": "3.13.5"
  }
 },
 "nbformat": 4,
 "nbformat_minor": 5
}
